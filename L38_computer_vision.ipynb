{
 "cells": [
  {
   "cell_type": "markdown",
   "metadata": {},
   "source": [
    "<div style=\"\n",
    "    background: linear-gradient(90deg,rgb(251, 255, 10), #ff758c, #ff4d6d);\n",
    "    -webkit-background-clip: text;\n",
    "    -webkit-text-fill-color: transparent;\n",
    "    font-size: 20px;\n",
    "    font-weight: bold;\n",
    "    text-align: center;\">\n",
    "    Computer Vision\n",
    "</div>\n",
    "\n"
   ]
  },
  {
   "cell_type": "markdown",
   "metadata": {},
   "source": [
    "* Computer vision is one of the fields of artificial intelligence that trains and enables computers to understand the visual world.\n",
    "\n",
    "* Computers can use digital image and deep learning models to accurately identify and classify objects and react to them.\n",
    "\n",
    "* Computer vision in AI is dedicated to the development of automated systems that can interpret visual data (such as photographs or motion pictures) in the same manner as people do.\n",
    "\n",
    "* 3R's of computer vision\n",
    "    * `Recognition` : Thi process involves assigning digital lables to objects within the image.\n",
    "    * `Recontruction` : This process refers to 3D scene rendering given inputs from particular viual images by encorporating multiple viewpoints, digital shading, and sensory depth data.\n",
    "    * `Reorganization` : This process refers to row pixel segmentation into data  groups that represent the desired of predetermined configurations. Low level vision tasks include corner detection, edges detection, and contours; while high level vision tasks include sementic segmentation which can partly overlap with recognition process."
   ]
  },
  {
   "cell_type": "markdown",
   "metadata": {},
   "source": []
  }
 ],
 "metadata": {
  "language_info": {
   "name": "python"
  }
 },
 "nbformat": 4,
 "nbformat_minor": 2
}
