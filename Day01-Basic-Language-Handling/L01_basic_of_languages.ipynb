{
 "cells": [
  {
   "cell_type": "markdown",
   "metadata": {},
   "source": [
    "<div style=\"\n",
    "    background: linear-gradient(90deg,rgb(251, 255, 10), #ff758c, #ff4d6d);\n",
    "    -webkit-background-clip: text;\n",
    "    -webkit-text-fill-color: transparent;\n",
    "    font-size: 20px;\n",
    "    font-weight: bold;\n",
    "    text-align: center;\">\n",
    "  Basic Python\n",
    "</div>\n"
   ]
  },
  {
   "cell_type": "code",
   "execution_count": 1,
   "metadata": {},
   "outputs": [],
   "source": [
    "import warnings\n",
    "warnings.filterwarnings('ignore')"
   ]
  },
  {
   "cell_type": "code",
   "execution_count": 2,
   "metadata": {},
   "outputs": [
    {
     "name": "stdout",
     "output_type": "stream",
     "text": [
      "Average age :  27.33\n",
      "Average age :  27.33\n"
     ]
    }
   ],
   "source": [
    "import re\n",
    "sent = 'They told that their ages are 25 26 and 31 respectively.'\n",
    "\n",
    "#Find the average ages in the sentence\n",
    "ar = [int(i) for i in re.findall('\\d{2,3}', sent)]\n",
    "print(f'Average age : {sum(ar)/len(ar) : .2f}')\n",
    "\n",
    "ar=[int(i) for i in sent.split(\" \") if i.isdigit()]\n",
    "print(f'Average age : {sum(ar)/len(ar) : .2f}')"
   ]
  },
  {
   "cell_type": "code",
   "execution_count": 3,
   "metadata": {},
   "outputs": [
    {
     "name": "stdout",
     "output_type": "stream",
     "text": [
      "अजय\n",
      "अतुल\n",
      "अजय विजय प्रिया अतुल\n",
      "अजय\n",
      "6\n",
      "ु "
     ]
    }
   ],
   "source": [
    "names = ['अजय', 'विजय', 'प्रिया', 'अतुल' ] \n",
    "for name in names:\n",
    "    if name.startswith('अ'):\n",
    "        print(name)\n",
    "\n",
    "print(' '.join(names))\n",
    "\n",
    "print('विजय'.replace('वि', 'अ'))\n",
    "\n",
    "print(len(names[2]))\n",
    "\n",
    "for i in name[2]:\n",
    "    print(i, end=' ')"
   ]
  },
  {
   "cell_type": "code",
   "execution_count": 4,
   "metadata": {},
   "outputs": [],
   "source": [
    "f = open('names.txt','w', encoding='utf8')\n",
    "for x in range(10):\n",
    "    f.write('प्रिया\\n')\n",
    "f.close()"
   ]
  },
  {
   "cell_type": "code",
   "execution_count": 5,
   "metadata": {},
   "outputs": [
    {
     "data": {
      "text/plain": [
       "(114, 2352, 49, 'र', 2351)"
      ]
     },
     "execution_count": 5,
     "metadata": {},
     "output_type": "execute_result"
    }
   ],
   "source": [
    "ord('r'),ord('र'), ord('1'), chr(2352), ord('य')"
   ]
  },
  {
   "cell_type": "code",
   "execution_count": 6,
   "metadata": {},
   "outputs": [
    {
     "data": {
      "text/plain": [
       "'हप'"
      ]
     },
     "execution_count": 6,
     "metadata": {},
     "output_type": "execute_result"
    }
   ],
   "source": [
    "x = '\\u0939\\u092A'\n",
    "x"
   ]
  },
  {
   "cell_type": "code",
   "execution_count": 7,
   "metadata": {},
   "outputs": [
    {
     "data": {
      "text/plain": [
       "65039"
      ]
     },
     "execution_count": 7,
     "metadata": {},
     "output_type": "execute_result"
    }
   ],
   "source": [
    "x = '😊❤️😍👍😎'\n",
    "ord(x[2])"
   ]
  },
  {
   "cell_type": "code",
   "execution_count": 8,
   "metadata": {},
   "outputs": [
    {
     "name": "stdout",
     "output_type": "stream",
     "text": [
      "2346 2325 2379 2337 2366 "
     ]
    }
   ],
   "source": [
    "for x in 'पकोडा':\n",
    "    print(ord(x), end=' ')"
   ]
  },
  {
   "cell_type": "markdown",
   "metadata": {},
   "source": [
    "<div style=\"\n",
    "    background: linear-gradient(90deg,rgb(251, 255, 10), #ff758c, #ff4d6d);\n",
    "    -webkit-background-clip: text;\n",
    "    -webkit-text-fill-color: transparent;\n",
    "    font-size: 24px;\n",
    "    font-weight: bold;\n",
    "    text-align: center;\">\n",
    "  Tokenization\n",
    "</div>\n"
   ]
  },
  {
   "cell_type": "code",
   "execution_count": 9,
   "metadata": {},
   "outputs": [
    {
     "name": "stdout",
     "output_type": "stream",
     "text": [
      "Found existing installation: numpy 1.26.4\n",
      "Uninstalling numpy-1.26.4:\n",
      "  Successfully uninstalled numpy-1.26.4\n",
      "Found existing installation: scipy 1.11.3\n",
      "Uninstalling scipy-1.11.3:\n",
      "  Successfully uninstalled scipy-1.11.3\n"
     ]
    },
    {
     "name": "stderr",
     "output_type": "stream",
     "text": [
      "WARNING: Failed to remove contents in a temporary directory 'C:\\Users\\DAI.STUDENTSDC\\.conda\\envs\\pythonProject\\Lib\\site-packages\\~-mpy.libs'.\n",
      "You can safely remove it manually.\n",
      "WARNING: Failed to remove contents in a temporary directory 'C:\\Users\\DAI.STUDENTSDC\\.conda\\envs\\pythonProject\\Lib\\site-packages\\~-mpy'.\n",
      "You can safely remove it manually.\n",
      "ERROR: pip's dependency resolver does not currently take into account all the packages that are installed. This behaviour is the source of the following dependency conflicts.\n",
      "blis 1.0.1 requires numpy<3.0.0,>=2.0.0, but you have numpy 1.26.4 which is incompatible.\n",
      "thinc 8.3.2 requires numpy<2.1.0,>=2.0.0; python_version >= \"3.9\", but you have numpy 1.26.4 which is incompatible.\n"
     ]
    },
    {
     "name": "stdout",
     "output_type": "stream",
     "text": [
      "Collecting numpy==1.26.4\n",
      "  Using cached numpy-1.26.4-cp312-cp312-win_amd64.whl.metadata (61 kB)\n",
      "Collecting scipy==1.11.3\n",
      "  Using cached scipy-1.11.3-cp312-cp312-win_amd64.whl.metadata (60 kB)\n",
      "Using cached numpy-1.26.4-cp312-cp312-win_amd64.whl (15.5 MB)\n",
      "Using cached scipy-1.11.3-cp312-cp312-win_amd64.whl (43.7 MB)\n",
      "Installing collected packages: numpy, scipy\n",
      "Successfully installed numpy-1.26.4 scipy-1.11.3\n"
     ]
    }
   ],
   "source": [
    "!pip uninstall numpy scipy -y\n",
    "!pip install numpy==1.26.4 scipy==1.11.3\n",
    "# !pip install --force-reinstall numpy==1.26.4 scipy\n"
   ]
  },
  {
   "cell_type": "code",
   "execution_count": 9,
   "metadata": {},
   "outputs": [],
   "source": [
    "import nltk"
   ]
  },
  {
   "cell_type": "code",
   "execution_count": 11,
   "metadata": {},
   "outputs": [
    {
     "name": "stderr",
     "output_type": "stream",
     "text": [
      "[nltk_data] Downloading package punkt to\n",
      "[nltk_data]     C:\\Users\\DAI.STUDENTSDC\\AppData\\Roaming\\nltk_data...\n",
      "[nltk_data]   Package punkt is already up-to-date!\n",
      "[nltk_data] Downloading package stopwords to\n",
      "[nltk_data]     C:\\Users\\DAI.STUDENTSDC\\AppData\\Roaming\\nltk_data...\n",
      "[nltk_data]   Package stopwords is already up-to-date!\n",
      "[nltk_data] Downloading package wordnet to\n",
      "[nltk_data]     C:\\Users\\DAI.STUDENTSDC\\AppData\\Roaming\\nltk_data...\n",
      "[nltk_data]   Package wordnet is already up-to-date!\n",
      "[nltk_data] Downloading package omw-1.4 to\n",
      "[nltk_data]     C:\\Users\\DAI.STUDENTSDC\\AppData\\Roaming\\nltk_data...\n",
      "[nltk_data]   Package omw-1.4 is already up-to-date!\n",
      "[nltk_data] Downloading package averaged_perceptron_tagger to\n",
      "[nltk_data]     C:\\Users\\DAI.STUDENTSDC\\AppData\\Roaming\\nltk_data...\n",
      "[nltk_data]   Package averaged_perceptron_tagger is already up-to-\n",
      "[nltk_data]       date!\n",
      "[nltk_data] Downloading package indian to\n",
      "[nltk_data]     C:\\Users\\DAI.STUDENTSDC\\AppData\\Roaming\\nltk_data...\n",
      "[nltk_data]   Package indian is already up-to-date!\n",
      "[nltk_data] Downloading package maxent_ne_chunker to\n",
      "[nltk_data]     C:\\Users\\DAI.STUDENTSDC\\AppData\\Roaming\\nltk_data...\n",
      "[nltk_data]   Package maxent_ne_chunker is already up-to-date!\n",
      "[nltk_data] Downloading package punkt_tab to\n",
      "[nltk_data]     C:\\Users\\DAI.STUDENTSDC\\AppData\\Roaming\\nltk_data...\n",
      "[nltk_data]   Package punkt_tab is already up-to-date!\n"
     ]
    },
    {
     "data": {
      "text/plain": [
       "True"
      ]
     },
     "execution_count": 11,
     "metadata": {},
     "output_type": "execute_result"
    }
   ],
   "source": [
    "nltk.download('punkt')                                # tokenizer\n",
    "nltk.download('stopwords')                            # collection of stopwords\n",
    "nltk.download('wordnet')                              # wordnet -> database of english words\n",
    "nltk.download('omw-1.4')                              # open multilingual wordnet\n",
    "nltk.download('averaged_perceptron_tagger')           # POS Tagger\n",
    "nltk.download('indian')                               # indian language POS tagger\n",
    "nltk.download('maxent_ne_chunker')                    # maxent chunking\n",
    "nltk.download('punkt_tab')"
   ]
  },
  {
   "cell_type": "markdown",
   "metadata": {},
   "source": [
    "<div style=\"\n",
    "    background: linear-gradient(90deg,rgb(251, 255, 10), #ff758c, #ff4d6d);\n",
    "    -webkit-background-clip: text;\n",
    "    -webkit-text-fill-color: transparent;\n",
    "    font-size: 20px;\n",
    "    font-weight: bold;\n",
    "    text-align: center;\">\n",
    "  Word Tokenization\n",
    "</div>\n"
   ]
  },
  {
   "cell_type": "code",
   "execution_count": 10,
   "metadata": {},
   "outputs": [],
   "source": [
    "from nltk.tokenize import word_tokenize"
   ]
  },
  {
   "cell_type": "code",
   "execution_count": 11,
   "metadata": {},
   "outputs": [
    {
     "name": "stdout",
     "output_type": "stream",
     "text": [
      "['They', 'told', 'that', 'their', 'ages', 'of', 'mr.', 'are', '25,', '26.2', 'and', '31', 'respectively.']\n",
      "['They', 'told', 'that', 'their', 'ages', 'of', 'mr.', 'are', '25', ',', '26.2', 'and', '31', 'respectively', '.']\n"
     ]
    }
   ],
   "source": [
    "sent = 'They told that their ages of mr. are 25, 26.2 and 31 respectively.'\n",
    "print(sent.split())\n",
    "print(word_tokenize(sent))"
   ]
  },
  {
   "cell_type": "code",
   "execution_count": 12,
   "metadata": {},
   "outputs": [
    {
     "name": "stdout",
     "output_type": "stream",
     "text": [
      "['Hello', 'friends!', 'How', 'are', 'you?', 'Welcome', 'to', 'the', 'world', 'of', 'python', 'programming.']\n",
      "['Hello', 'friends', '!', 'How', 'are', 'you', '?', 'Welcome', 'to', 'the', 'world', 'of', 'python', 'programming', '.']\n",
      "Percentage of punctuation 20.0%\n"
     ]
    }
   ],
   "source": [
    "from string import punctuation\n",
    "\n",
    "sent = '''Hello friends!\n",
    "How are you? Welcome to the world of python programming.'''\n",
    "\n",
    "print(sent.split())\n",
    "print(word_tokenize(sent))\n",
    "\n",
    "ar = [1 if i in punctuation else 0 for i in word_tokenize(sent)]\n",
    "ar = sum(ar)/len(ar)\n",
    "\n",
    "print(f\"Percentage of punctuation {ar*100}%\")"
   ]
  },
  {
   "cell_type": "markdown",
   "metadata": {},
   "source": [
    "<div style=\"\n",
    "  background: linear-gradient(90deg,rgb(251, 255, 10), #ff758c, #ff4d6d);\n",
    "  -webkit-background-clip: text;\n",
    "  -webkit-text-fill-color: transparent;\n",
    "  font-size: 20px;\n",
    "  font-weight: bold;\n",
    "  text-align: center;\"\n",
    ">\n",
    "  Other Tokenizers\n",
    "</div>\n"
   ]
  },
  {
   "cell_type": "code",
   "execution_count": 23,
   "metadata": {},
   "outputs": [
    {
     "data": {
      "text/plain": [
       "['छत्रपति',\n",
       " 'शिवाजी',\n",
       " 'महाराज',\n",
       " 'वस्तु',\n",
       " 'संग्रहालय',\n",
       " 'मुंबई',\n",
       " ',',\n",
       " '(',\n",
       " 'पूर्व',\n",
       " 'नाम',\n",
       " \"'The\",\n",
       " 'Prince',\n",
       " 'of',\n",
       " 'Wales',\n",
       " 'Museum',\n",
       " 'of',\n",
       " 'Western',\n",
       " 'India',\n",
       " \"'\",\n",
       " ')',\n",
       " 'मुम्बई',\n",
       " 'का',\n",
       " 'मुख्य',\n",
       " 'संग्रहालय',\n",
       " 'है।',\n",
       " 'इसका',\n",
       " 'निर्माण',\n",
       " 'वेल्स',\n",
       " 'के',\n",
       " 'राजकुमार',\n",
       " 'के',\n",
       " 'भारत',\n",
       " 'यात्रा',\n",
       " 'के',\n",
       " 'समय',\n",
       " 'मुम्बई',\n",
       " 'के',\n",
       " 'प्रतिष्ठित',\n",
       " 'उद्योगपतियो',\n",
       " 'और',\n",
       " 'नागरिकों',\n",
       " 'से',\n",
       " 'प्राप्त',\n",
       " 'सहायता',\n",
       " 'मुम्बई',\n",
       " 'के',\n",
       " 'सरकार',\n",
       " 'द्वारा',\n",
       " 'स्मारक',\n",
       " 'के',\n",
       " 'रूप',\n",
       " 'में',\n",
       " 'निर्मित',\n",
       " 'किया',\n",
       " 'गया',\n",
       " 'था।',\n",
       " 'यह',\n",
       " 'भव्य',\n",
       " 'भवन',\n",
       " 'दक्षिण',\n",
       " 'मुम्बई',\n",
       " 'के',\n",
       " 'फोर्ट',\n",
       " 'विलियम',\n",
       " 'मे',\n",
       " ',',\n",
       " 'एल्फिंस्टन',\n",
       " 'कालेज',\n",
       " 'के',\n",
       " 'सामने',\n",
       " 'है।',\n",
       " 'इसके',\n",
       " 'सामने',\n",
       " 'रीगल',\n",
       " 'सिनिमा',\n",
       " 'और',\n",
       " 'पुलिस',\n",
       " 'आयुक्त',\n",
       " 'कार्यालय',\n",
       " 'स्थित',\n",
       " 'है।',\n",
       " 'बगल',\n",
       " 'मे',\n",
       " \"'\",\n",
       " 'डॅविड',\n",
       " 'ससून',\n",
       " 'पुस्तक',\n",
       " 'संग्रहालय',\n",
       " \"'\",\n",
       " ',',\n",
       " \"'\",\n",
       " 'व्याट्स्न',\n",
       " 'हॉटेल्',\n",
       " \"'\",\n",
       " ',',\n",
       " 'भी',\n",
       " 'है।',\n",
       " 'आगे',\n",
       " 'समुद्र',\n",
       " 'के',\n",
       " 'तरफ',\n",
       " 'जाने',\n",
       " 'पर',\n",
       " \"'\",\n",
       " 'गेटवे',\n",
       " 'ऑफ़',\n",
       " 'इन्डिया',\n",
       " \"'\",\n",
       " 'आता',\n",
       " 'है।']"
      ]
     },
     "execution_count": 23,
     "metadata": {},
     "output_type": "execute_result"
    }
   ],
   "source": [
    "sent = '''\n",
    "छत्रपति शिवाजी महाराज वस्तु संग्रहालय मुंबई, (पूर्व नाम 'The Prince of Wales Museum of Western India') मुम्बई का मुख्य संग्रहालय है। \n",
    "इसका निर्माण वेल्स के राजकुमार के भारत यात्रा के समय मुम्बई के प्रतिष्ठित उद्योगपतियो और नागरिकों से प्राप्त सहायता मुम्बई के सरकार द्वारा स्मारक के रूप में निर्मित किया गया था। \n",
    "यह भव्य भवन दक्षिण मुम्बई के फोर्ट विलियम मे, एल्फिंस्टन कालेज के सामने है। \n",
    "इसके सामने रीगल सिनिमा और पुलिस आयुक्त कार्यालय स्थित है।\n",
    "बगल मे 'डॅविड ससून पुस्तक संग्रहालय', 'व्याट्स्न हॉटेल्', भी है। \n",
    "आगे समुद्र के तरफ जाने पर 'गेटवे ऑफ़ इन्डिया' आता है।\n",
    "'''\n",
    "\n",
    "word_tokenize(sent)"
   ]
  },
  {
   "cell_type": "code",
   "execution_count": 22,
   "metadata": {},
   "outputs": [
    {
     "data": {
      "text/plain": [
       "['ムンバイのチャトラパティ',\n",
       " 'シヴァージー',\n",
       " 'マハラジ博物館',\n",
       " '(',\n",
       " '以前は「西インドのプリンス',\n",
       " 'オブ',\n",
       " 'ウェールズ博物館」として知られていました',\n",
       " ')',\n",
       " 'は、ムンバイの主要な博物館です。',\n",
       " 'この記念碑は、ウェールズ皇太子のインド訪問中にムンバイ政府が著名な実業家やムンバイ市民の協力を得て記念碑として建てたものです。',\n",
       " 'この壮大な建物は、南ムンバイのフォート',\n",
       " 'ウィリアム、エルフィンストーン大学の向かいにあります。',\n",
       " 'リーガルシネマと警察庁舎が目の前にあります。',\n",
       " '近くには「デヴィッド・サスーン・ブック・ミュージアム」、「ヴャトン・ホテル」もあります。',\n",
       " 'さらに海のほうへ行くと「インド門」があります。']"
      ]
     },
     "execution_count": 22,
     "metadata": {},
     "output_type": "execute_result"
    }
   ],
   "source": [
    "sent = \"\"\"\n",
    "ムンバイのチャトラパティ シヴァージー マハラジ博物館 (以前は「西インドのプリンス オブ ウェールズ博物館」として知られていました) は、ムンバイの主要な博物館です。\n",
    "この記念碑は、ウェールズ皇太子のインド訪問中にムンバイ政府が著名な実業家やムンバイ市民の協力を得て記念碑として建てたものです。\n",
    "この壮大な建物は、南ムンバイのフォート ウィリアム、エルフィンストーン大学の向かいにあります。\n",
    "リーガルシネマと警察庁舎が目の前にあります。\n",
    "近くには「デヴィッド・サスーン・ブック・ミュージアム」、「ヴャトン・ホテル」もあります。\n",
    "さらに海のほうへ行くと「インド門」があります。\"\"\"\n",
    "\n",
    "word_tokenize(sent)"
   ]
  },
  {
   "cell_type": "code",
   "execution_count": null,
   "metadata": {},
   "outputs": [],
   "source": []
  },
  {
   "cell_type": "code",
   "execution_count": null,
   "metadata": {},
   "outputs": [],
   "source": []
  },
  {
   "cell_type": "code",
   "execution_count": null,
   "metadata": {},
   "outputs": [],
   "source": []
  }
 ],
 "metadata": {
  "kernelspec": {
   "display_name": "pythonProject",
   "language": "python",
   "name": "python3"
  },
  "language_info": {
   "codemirror_mode": {
    "name": "ipython",
    "version": 3
   },
   "file_extension": ".py",
   "mimetype": "text/x-python",
   "name": "python",
   "nbconvert_exporter": "python",
   "pygments_lexer": "ipython3",
   "version": "3.12.4"
  }
 },
 "nbformat": 4,
 "nbformat_minor": 2
}
