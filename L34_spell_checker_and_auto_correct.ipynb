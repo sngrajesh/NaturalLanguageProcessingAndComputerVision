{
 "cells": [
  {
   "cell_type": "markdown",
   "metadata": {},
   "source": [
    "<div style=\"\n",
    "    background: linear-gradient(90deg,rgb(251, 255, 10), #ff758c, #ff4d6d);\n",
    "    -webkit-background-clip: text;\n",
    "    -webkit-text-fill-color: transparent;\n",
    "    font-size: 20px;\n",
    "    font-weight: bold;\n",
    "    text-align: center;\">\n",
    "    Spell Checker and Auto Correct\n",
    "</div>\n",
    "\n"
   ]
  },
  {
   "cell_type": "code",
   "execution_count": 1,
   "metadata": {},
   "outputs": [
    {
     "name": "stdout",
     "output_type": "stream",
     "text": [
      "Requirement already satisfied: textblob in e:\\naturallanguageprocessingandcomputervision\\.env\\lib\\site-packages (0.18.0.post0)\n",
      "Requirement already satisfied: nltk>=3.8 in e:\\naturallanguageprocessingandcomputervision\\.env\\lib\\site-packages (from textblob) (3.9.1)\n",
      "Requirement already satisfied: click in e:\\naturallanguageprocessingandcomputervision\\.env\\lib\\site-packages (from nltk>=3.8->textblob) (8.1.7)\n",
      "Requirement already satisfied: joblib in e:\\naturallanguageprocessingandcomputervision\\.env\\lib\\site-packages (from nltk>=3.8->textblob) (1.4.2)\n",
      "Requirement already satisfied: regex>=2021.8.3 in e:\\naturallanguageprocessingandcomputervision\\.env\\lib\\site-packages (from nltk>=3.8->textblob) (2024.11.6)\n",
      "Requirement already satisfied: tqdm in e:\\naturallanguageprocessingandcomputervision\\.env\\lib\\site-packages (from nltk>=3.8->textblob) (4.67.1)\n",
      "Requirement already satisfied: colorama in e:\\naturallanguageprocessingandcomputervision\\.env\\lib\\site-packages (from click->nltk>=3.8->textblob) (0.4.6)\n",
      "Requirement already satisfied: googletrans==4.0.0-rc1 in e:\\naturallanguageprocessingandcomputervision\\.env\\lib\\site-packages (4.0.0rc1)\n",
      "Requirement already satisfied: httpx==0.13.3 in e:\\naturallanguageprocessingandcomputervision\\.env\\lib\\site-packages (from googletrans==4.0.0-rc1) (0.13.3)\n",
      "Requirement already satisfied: certifi in e:\\naturallanguageprocessingandcomputervision\\.env\\lib\\site-packages (from httpx==0.13.3->googletrans==4.0.0-rc1) (2024.8.30)\n",
      "Requirement already satisfied: hstspreload in e:\\naturallanguageprocessingandcomputervision\\.env\\lib\\site-packages (from httpx==0.13.3->googletrans==4.0.0-rc1) (2024.12.1)\n",
      "Requirement already satisfied: sniffio in e:\\naturallanguageprocessingandcomputervision\\.env\\lib\\site-packages (from httpx==0.13.3->googletrans==4.0.0-rc1) (1.3.1)\n",
      "Requirement already satisfied: chardet==3.* in e:\\naturallanguageprocessingandcomputervision\\.env\\lib\\site-packages (from httpx==0.13.3->googletrans==4.0.0-rc1) (3.0.4)\n",
      "Requirement already satisfied: idna==2.* in e:\\naturallanguageprocessingandcomputervision\\.env\\lib\\site-packages (from httpx==0.13.3->googletrans==4.0.0-rc1) (2.10)\n",
      "Requirement already satisfied: rfc3986<2,>=1.3 in e:\\naturallanguageprocessingandcomputervision\\.env\\lib\\site-packages (from httpx==0.13.3->googletrans==4.0.0-rc1) (1.5.0)\n",
      "Requirement already satisfied: httpcore==0.9.* in e:\\naturallanguageprocessingandcomputervision\\.env\\lib\\site-packages (from httpx==0.13.3->googletrans==4.0.0-rc1) (0.9.1)\n",
      "Requirement already satisfied: h11<0.10,>=0.8 in e:\\naturallanguageprocessingandcomputervision\\.env\\lib\\site-packages (from httpcore==0.9.*->httpx==0.13.3->googletrans==4.0.0-rc1) (0.9.0)\n",
      "Requirement already satisfied: h2==3.* in e:\\naturallanguageprocessingandcomputervision\\.env\\lib\\site-packages (from httpcore==0.9.*->httpx==0.13.3->googletrans==4.0.0-rc1) (3.2.0)\n",
      "Requirement already satisfied: hyperframe<6,>=5.2.0 in e:\\naturallanguageprocessingandcomputervision\\.env\\lib\\site-packages (from h2==3.*->httpcore==0.9.*->httpx==0.13.3->googletrans==4.0.0-rc1) (5.2.0)\n",
      "Requirement already satisfied: hpack<4,>=3.0 in e:\\naturallanguageprocessingandcomputervision\\.env\\lib\\site-packages (from h2==3.*->httpcore==0.9.*->httpx==0.13.3->googletrans==4.0.0-rc1) (3.0.0)\n",
      "Finished.\n"
     ]
    },
    {
     "name": "stderr",
     "output_type": "stream",
     "text": [
      "[nltk_data] Downloading package brown to\n",
      "[nltk_data]     C:\\Users\\DAI.STUDENTSDC\\AppData\\Roaming\\nltk_data...\n",
      "[nltk_data]   Package brown is already up-to-date!\n",
      "[nltk_data] Downloading package punkt to\n",
      "[nltk_data]     C:\\Users\\DAI.STUDENTSDC\\AppData\\Roaming\\nltk_data...\n",
      "[nltk_data]   Package punkt is already up-to-date!\n",
      "[nltk_data] Downloading package wordnet to\n",
      "[nltk_data]     C:\\Users\\DAI.STUDENTSDC\\AppData\\Roaming\\nltk_data...\n",
      "[nltk_data]   Package wordnet is already up-to-date!\n",
      "[nltk_data] Downloading package averaged_perceptron_tagger to\n",
      "[nltk_data]     C:\\Users\\DAI.STUDENTSDC\\AppData\\Roaming\\nltk_data...\n",
      "[nltk_data]   Package averaged_perceptron_tagger is already up-to-\n",
      "[nltk_data]       date!\n",
      "[nltk_data] Downloading package conll2000 to\n",
      "[nltk_data]     C:\\Users\\DAI.STUDENTSDC\\AppData\\Roaming\\nltk_data...\n",
      "[nltk_data]   Package conll2000 is already up-to-date!\n",
      "[nltk_data] Downloading package movie_reviews to\n",
      "[nltk_data]     C:\\Users\\DAI.STUDENTSDC\\AppData\\Roaming\\nltk_data...\n",
      "[nltk_data]   Package movie_reviews is already up-to-date!\n"
     ]
    }
   ],
   "source": [
    "!pip install textblob\n",
    "!pip install googletrans==4.0.0-rc1\n",
    "!python -m textblob.download_corpora"
   ]
  },
  {
   "cell_type": "code",
   "execution_count": 2,
   "metadata": {},
   "outputs": [
    {
     "name": "stderr",
     "output_type": "stream",
     "text": [
      "[nltk_data] Downloading package brown to\n",
      "[nltk_data]     C:\\Users\\DAI.STUDENTSDC\\AppData\\Roaming\\nltk_data...\n",
      "[nltk_data]   Package brown is already up-to-date!\n"
     ]
    },
    {
     "data": {
      "text/plain": [
       "True"
      ]
     },
     "execution_count": 2,
     "metadata": {},
     "output_type": "execute_result"
    }
   ],
   "source": [
    "import nltk\n",
    "nltk.download('brown')"
   ]
  },
  {
   "cell_type": "code",
   "execution_count": 3,
   "metadata": {},
   "outputs": [],
   "source": [
    "from textblob import TextBlob"
   ]
  },
  {
   "cell_type": "code",
   "execution_count": 4,
   "metadata": {},
   "outputs": [
    {
     "name": "stdout",
     "output_type": "stream",
     "text": [
      "computer\n",
      "defaultdict(<class 'int'>, {'komputer': 1})\n"
     ]
    }
   ],
   "source": [
    "word = 'komputer'\n",
    "blob = TextBlob(word)\n",
    "print(blob.correct())\n",
    "print(blob.word_counts)"
   ]
  },
  {
   "cell_type": "code",
   "execution_count": 5,
   "metadata": {},
   "outputs": [
    {
     "name": "stdout",
     "output_type": "stream",
     "text": [
      "\n",
      "Printing the corrected word: \n",
      " It was a great day. When they played on the ground\n",
      "\n",
      "Printing the word count: \n",
      " defaultdict(<class 'int'>, {'it': 1, 'was': 1, 'a': 1, 'great': 1, 'day': 1, 'when': 1, 'they': 1, 'playde': 1, 'on': 1, 'the': 1, 'ground': 1})\n",
      "\n",
      "Printing the tokenized word: \n",
      " ['It', 'was', 'a', 'great', 'day', '.', 'When', 'they', 'playde', 'on', 'the', 'ground']\n",
      "\n",
      "Printing the sentence tokenized word: \n",
      " [Sentence(\"It was a great day.\"), Sentence(\"When they playde on the ground\")]\n",
      "\n",
      "Printing the POS tags: \n",
      " [('It', 'PRP'), ('was', 'VBD'), ('a', 'DT'), ('great', 'JJ'), ('day', 'NN'), ('When', 'WRB'), ('they', 'PRP'), ('playde', 'VBP'), ('on', 'IN'), ('the', 'DT'), ('ground', 'NN')]\n",
      "\n",
      "Printing the words: \n",
      " ['It', 'was', 'a', 'great', 'day', 'When', 'they', 'playde', 'on', 'the', 'ground']\n",
      "\n",
      "Printing the POS tags: \n",
      " [('It', 'PRP'), ('was', 'VBD'), ('a', 'DT'), ('great', 'JJ'), ('day', 'NN'), ('When', 'WRB'), ('they', 'PRP'), ('playde', 'VBP'), ('on', 'IN'), ('the', 'DT'), ('ground', 'NN')]\n",
      "\n",
      "Printing the words: \n",
      " ['It', 'was', 'a', 'great', 'day', 'When', 'they', 'playde', 'on', 'the', 'ground']\n",
      "\n",
      "Printing the nouns: \n",
      " ['great day']\n"
     ]
    }
   ],
   "source": [
    "word = 'It was a great day. When they playde on the ground'\n",
    "blob = TextBlob(word)\n",
    "print('\\nPrinting the corrected word: \\n', blob.correct())\n",
    "print('\\nPrinting the word count: \\n', blob.word_counts)\n",
    "print('\\nPrinting the tokenized word: \\n', blob.tokenize())\n",
    "print('\\nPrinting the sentence tokenized word: \\n', blob.sentences)\n",
    "print('\\nPrinting the POS tags: \\n', blob.pos_tags) \n",
    "print('\\nPrinting the words: \\n', blob.words) \n",
    "print('\\nPrinting the nouns: \\n', blob.noun_phrases)"
   ]
  }
 ],
 "metadata": {
  "kernelspec": {
   "display_name": ".env",
   "language": "python",
   "name": "python3"
  },
  "language_info": {
   "codemirror_mode": {
    "name": "ipython",
    "version": 3
   },
   "file_extension": ".py",
   "mimetype": "text/x-python",
   "name": "python",
   "nbconvert_exporter": "python",
   "pygments_lexer": "ipython3",
   "version": "3.12.5"
  }
 },
 "nbformat": 4,
 "nbformat_minor": 2
}
