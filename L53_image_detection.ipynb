{
 "cells": [
  {
   "cell_type": "markdown",
   "metadata": {},
   "source": [
    "<div style=\"\n",
    "    background: linear-gradient(90deg,rgb(251, 255, 10), #ff758c, #ff4d6d);\n",
    "    -webkit-background-clip: text;\n",
    "    -webkit-text-fill-color: transparent;\n",
    "    font-size: 20px;\n",
    "    font-weight: bold;\n",
    "    text-align: center;\">\n",
    "    Object Recognition    \n",
    "</div>\n",
    "\n"
   ]
  },
  {
   "cell_type": "markdown",
   "metadata": {},
   "source": [
    "* Object recognition in image processing refers to the task of identifying and classifying the objects within digital images or video frames.\n",
    "\n",
    "* It involves the use of computer vision techniques and machine learning algorithms to automatically detect and recognize objects of interest in visual data."
   ]
  },
  {
   "cell_type": "markdown",
   "metadata": {},
   "source": [
    "<div style=\"\n",
    "    background: linear-gradient(90deg,rgb(251, 255, 10), #ff758c, #ff4d6d);\n",
    "    -webkit-background-clip: text;\n",
    "    -webkit-text-fill-color: transparent;\n",
    "    font-size: 17px;\n",
    "    font-weight: bold;\n",
    "    text-align: center;\">\n",
    " Region based Convolutional Neural Networks for Object Recognition (R-CNN)\n",
    " <br>\n",
    "-----------------------------------------------------------------------------------------------------------------------------------------\n",
    "</div>\n",
    "\n",
    "* The R-CNN was described in the 2014 paper by Ross Girshick, et al, from UC Berkeley titled \"Rich feature hiearchies for accurate object detction and semantic segmentation.\n",
    "\n",
    "* It may have been one of the first large and successful application of convolution neural networks to the problem of object localization, detction, and segmentation.\n",
    "\n",
    "* The approach was demonstrated on benchmark datasets, achieving then state-of-the-art results on the VOC-2012 dataset and the 200-class ILSVRC-2013 object detection dataset."
   ]
  },
  {
   "cell_type": "markdown",
   "metadata": {},
   "source": [
    "\n",
    "<div style=\"\n",
    "    background: linear-gradient(90deg,rgb(251, 255, 10), #ff758c, #ff4d6d);\n",
    "    -webkit-background-clip: text;\n",
    "    -webkit-text-fill-color: transparent;\n",
    "    font-size: 17px;\n",
    "    font-weight: bold;\n",
    "    text-align: center;\">\n",
    " Fast R-CNN\n",
    " <br>\n",
    "-----------------------------------------------------------------------------------------------------------------------------------------\n",
    "</div>\n",
    "\n",
    "* Fast R-CNN was introduced in the 2015 paper by Ross Girshick titled \"Fast R-CNN.\"\n",
    "\n",
    "* It improves upon R-CNN by training a single network for classification and bounding box regression, making it faster and more efficient.\n",
    "\n",
    "* It uses a Region of Interest (RoI) pooling layer to process proposals, reducing the need to run CNN for each region.\n",
    "\n",
    "* Demonstrated significant speedups compared to R-CNN and achieved better accuracy on PASCAL VOC datasets.\n"
   ]
  },
  {
   "cell_type": "markdown",
   "metadata": {},
   "source": [
    "\n",
    "<div style=\"\n",
    "    background: linear-gradient(90deg,rgb(251, 255, 10), #ff758c, #ff4d6d);\n",
    "    -webkit-background-clip: text;\n",
    "    -webkit-text-fill-color: transparent;\n",
    "    font-size: 17px;\n",
    "    font-weight: bold;\n",
    "    text-align: center;\">\n",
    " Faster R-CNN\n",
    " <br>\n",
    "-----------------------------------------------------------------------------------------------------------------------------------------\n",
    "</div>\n",
    "* Faster R-CNN was introduced in 2015 by Shaoqing Ren, et al., in the paper \"Faster R-CNN: Towards Real-Time Object Detection with Region Proposal Networks.\"\n",
    "\n",
    "* It integrates a Region Proposal Network (RPN) directly into the object detection pipeline, eliminating the need for external proposal generation.\n",
    "\n",
    "* The RPN shares convolutional layers with the detection network, enabling end-to-end training.\n",
    "\n",
    "* Achieved state-of-the-art results with reduced computational costs, making it suitable for real-time applications.\n"
   ]
  },
  {
   "cell_type": "markdown",
   "metadata": {},
   "source": [
    "\n",
    "<div style=\"\n",
    "    background: linear-gradient(90deg,rgb(251, 255, 10), #ff758c, #ff4d6d);\n",
    "    -webkit-background-clip: text;\n",
    "    -webkit-text-fill-color: transparent;\n",
    "    font-size: 17px;\n",
    "    font-weight: bold;\n",
    "    text-align: center;\">\n",
    " Mask R-CNN\n",
    " <br>\n",
    "-----------------------------------------------------------------------------------------------------------------------------------------\n",
    "</div>\n",
    "\n",
    "* Mask R-CNN was introduced in the 2017 paper by Kaiming He, et al., titled \"Mask R-CNN.\"\n",
    "\n",
    "* It extends Faster R-CNN by adding a branch for predicting object masks in parallel with bounding box regression and classification.\n",
    "\n",
    "* Achieved state-of-the-art results in instance segmentation tasks while maintaining high accuracy in object detection.\n",
    "\n",
    "* Widely used for tasks requiring pixel-level accuracy, such as autonomous driving and medical image analysis.\n"
   ]
  },
  {
   "cell_type": "markdown",
   "metadata": {},
   "source": [
    "\n",
    "<div style=\"\n",
    "    background: linear-gradient(90deg,rgb(251, 255, 10), #ff758c, #ff4d6d);\n",
    "    -webkit-background-clip: text;\n",
    "    -webkit-text-fill-color: transparent;\n",
    "    font-size: 17px;\n",
    "    font-weight: bold;\n",
    "    text-align: center;\">\n",
    " YOLO (You Only Look Once)\n",
    " <br>\n",
    "-----------------------------------------------------------------------------------------------------------------------------------------\n",
    "</div>\n",
    "\n",
    "* YOLO was introduced in the 2016 paper by Joseph Redmon, et al., titled \"You Only Look Once: Unified, Real-Time Object Detection.\"\n",
    "\n",
    "* Unlike R-CNN models, YOLO frames object detection as a single regression problem, predicting bounding boxes and class probabilities simultaneously.\n",
    "\n",
    "* It processes the entire image in one forward pass, achieving real-time speeds with reasonable accuracy.\n",
    "\n",
    "* Successive versions (YOLOv2, YOLOv3, etc.) have improved speed, accuracy, and scalability."
   ]
  }
 ],
 "metadata": {
  "accelerator": "GPU",
  "colab": {
   "gpuType": "T4",
   "provenance": []
  },
  "kernelspec": {
   "display_name": "Python 3",
   "name": "python3"
  },
  "language_info": {
   "name": "python"
  }
 },
 "nbformat": 4,
 "nbformat_minor": 0
}
