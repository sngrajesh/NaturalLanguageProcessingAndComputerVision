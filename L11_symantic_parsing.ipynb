{
 "cells": [
  {
   "cell_type": "markdown",
   "metadata": {},
   "source": [
    "<div style=\"\n",
    "    background: linear-gradient(90deg,rgb(251, 255, 10), #ff758c, #ff4d6d);\n",
    "    -webkit-background-clip: text;\n",
    "    -webkit-text-fill-color: transparent;\n",
    "    font-size: 20px;\n",
    "    font-weight: bold;\n",
    "    text-align: center;\">\n",
    "    Symantic Parsing\n",
    "</div>\n"
   ]
  },
  {
   "cell_type": "markdown",
   "metadata": {},
   "source": [
    "* Semantic Parsing is the task of converting a natuarl language uttrence to a logical form: a machine-understandable representation of its meaning.\n",
    "\n",
    "* Semantic Parsing can be thus be understood as extracting the precise meaning of an utterence.\n",
    "\n",
    "* Application of  semantic parsing iniclude machiene translation, question answering, onology induction, automated reasoning, and code generation.\n",
    "\n",
    "* The phrase was firast used in the 1970s by Yorich Wilks as the basis of Machine Learnignt ranslation progams working with the smantic expressions."
   ]
  }
 ],
 "metadata": {
  "language_info": {
   "name": "python"
  }
 },
 "nbformat": 4,
 "nbformat_minor": 2
}
