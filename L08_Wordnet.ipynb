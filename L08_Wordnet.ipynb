{
 "cells": [
  {
   "cell_type": "markdown",
   "metadata": {},
   "source": [
    "<div style=\"\n",
    "    background: linear-gradient(90deg,rgb(251, 255, 10), #ff758c, #ff4d6d);\n",
    "    -webkit-background-clip: text;\n",
    "    -webkit-text-fill-color: transparent;\n",
    "    font-size: 20px;\n",
    "    font-weight: bold;\n",
    "    text-align: center;\">\n",
    "    WordNET\n",
    "</div>\n"
   ]
  },
  {
   "cell_type": "markdown",
   "metadata": {},
   "source": [
    "* WordNet is a large lexical database that groups  words in english language into sets of synonyms, called synsets.\n",
    "* These synsets capture the different senses ir meanings that a word can have.\n",
    "* It's essential a vast electronics thesaurus combined with elements of a dictionary, desgned to provide a deeper understanding of word relationships.\n",
    "\n",
    "* Hepernymy/Hyponymy : A hierarchial relationship where a general term (Hepernymy) is linked to more specific term (Heponymy) tha falls under it\n",
    "    \n",
    "```python\n",
    "        Animal(Hepernymy)\n",
    "               /\\\n",
    "              /  \\\n",
    "   Cat(Heponymy) Dog(Heponymy)\n",
    "```\n",
    "\n",
    "*  Meronymy/Holonymy : A part-whole relationship where a part (meornym) is linked to the whole it belongs to (holonym). \n",
    "\n",
    "```python\n",
    "        Car(Holonymy)\n",
    "              |\n",
    "        Wheel(Meronymy)\n",
    "```"
   ]
  },
  {
   "cell_type": "markdown",
   "metadata": {},
   "source": [
    "<div style=\"\n",
    "    background: linear-gradient(90deg,rgb(251, 255, 10), #ff758c, #ff4d6d);\n",
    "    -webkit-background-clip: text;\n",
    "    -webkit-text-fill-color: transparent;\n",
    "    font-size: 17px;\n",
    "    font-weight: bold;\n",
    "    text-align: center;\">\n",
    "    Using nltkwith WordNet <br>\n",
    "-----------------------------------------------------------------------------------------------------------------------------------------\n",
    "</div>\n"
   ]
  },
  {
   "cell_type": "code",
   "execution_count": 3,
   "metadata": {},
   "outputs": [
    {
     "name": "stderr",
     "output_type": "stream",
     "text": [
      "[nltk_data] Downloading package wordnet to\n",
      "[nltk_data]     C:\\Users\\DAI.STUDENTSDC\\AppData\\Roaming\\nltk_data...\n",
      "[nltk_data]   Package wordnet is already up-to-date!\n"
     ]
    },
    {
     "data": {
      "text/plain": [
       "True"
      ]
     },
     "execution_count": 3,
     "metadata": {},
     "output_type": "execute_result"
    }
   ],
   "source": [
    "import nltk\n",
    "nltk.download('wordnet')"
   ]
  },
  {
   "cell_type": "code",
   "execution_count": 4,
   "metadata": {},
   "outputs": [],
   "source": [
    "from nltk.corpus import wordnet"
   ]
  },
  {
   "cell_type": "markdown",
   "metadata": {},
   "source": [
    "<div style=\"\n",
    "    background: linear-gradient(90deg,rgb(251, 255, 10), #ff758c, #ff4d6d);\n",
    "    -webkit-background-clip: text;\n",
    "    -webkit-text-fill-color: transparent;\n",
    "    font-size: 17px;\n",
    "    font-weight: 500;\n",
    "    text-align: center;\">\n",
    "    Get Synonyms of word \n",
    "    <br>\n",
    "</div>\n"
   ]
  },
  {
   "cell_type": "code",
   "execution_count": 5,
   "metadata": {},
   "outputs": [
    {
     "data": {
      "text/plain": [
       "[Synset('make.v.03'),\n",
       " Synset('create.v.02'),\n",
       " Synset('create.v.03'),\n",
       " Synset('create.v.04'),\n",
       " Synset('create.v.05'),\n",
       " Synset('produce.v.02')]"
      ]
     },
     "execution_count": 5,
     "metadata": {},
     "output_type": "execute_result"
    }
   ],
   "source": [
    "x = wordnet.synsets('create')\n",
    "x"
   ]
  },
  {
   "cell_type": "code",
   "execution_count": 6,
   "metadata": {},
   "outputs": [
    {
     "data": {
      "text/plain": [
       "{'create', 'make', 'produce'}"
      ]
     },
     "execution_count": 6,
     "metadata": {},
     "output_type": "execute_result"
    }
   ],
   "source": [
    "synonyms = set()\n",
    "for word in wordnet.synsets('create'):\n",
    "    synonyms.add(word.lemmas()[0].name())\n",
    "\n",
    "synonyms"
   ]
  },
  {
   "cell_type": "code",
   "execution_count": 7,
   "metadata": {},
   "outputs": [
    {
     "data": {
      "text/plain": [
       "['__class__',\n",
       " '__delattr__',\n",
       " '__dict__',\n",
       " '__dir__',\n",
       " '__doc__',\n",
       " '__eq__',\n",
       " '__format__',\n",
       " '__ge__',\n",
       " '__getattribute__',\n",
       " '__gt__',\n",
       " '__hash__',\n",
       " '__init__',\n",
       " '__init_subclass__',\n",
       " '__le__',\n",
       " '__lt__',\n",
       " '__module__',\n",
       " '__ne__',\n",
       " '__new__',\n",
       " '__reduce__',\n",
       " '__reduce_ex__',\n",
       " '__repr__',\n",
       " '__setattr__',\n",
       " '__sizeof__',\n",
       " '__slots__',\n",
       " '__str__',\n",
       " '__subclasshook__',\n",
       " '__weakref__',\n",
       " '_frame_ids',\n",
       " '_frame_strings',\n",
       " '_hypernyms',\n",
       " '_instance_hypernyms',\n",
       " '_key',\n",
       " '_lang',\n",
       " '_lex_id',\n",
       " '_lexname_index',\n",
       " '_name',\n",
       " '_related',\n",
       " '_synset',\n",
       " '_syntactic_marker',\n",
       " '_wordnet_corpus_reader',\n",
       " 'also_sees',\n",
       " 'antonyms',\n",
       " 'attributes',\n",
       " 'causes',\n",
       " 'count',\n",
       " 'derivationally_related_forms',\n",
       " 'entailments',\n",
       " 'frame_ids',\n",
       " 'frame_strings',\n",
       " 'hypernyms',\n",
       " 'hyponyms',\n",
       " 'in_region_domains',\n",
       " 'in_topic_domains',\n",
       " 'in_usage_domains',\n",
       " 'instance_hypernyms',\n",
       " 'instance_hyponyms',\n",
       " 'key',\n",
       " 'lang',\n",
       " 'member_holonyms',\n",
       " 'member_meronyms',\n",
       " 'name',\n",
       " 'part_holonyms',\n",
       " 'part_meronyms',\n",
       " 'pertainyms',\n",
       " 'region_domains',\n",
       " 'similar_tos',\n",
       " 'substance_holonyms',\n",
       " 'substance_meronyms',\n",
       " 'synset',\n",
       " 'syntactic_marker',\n",
       " 'topic_domains',\n",
       " 'usage_domains',\n",
       " 'verb_groups']"
      ]
     },
     "execution_count": 7,
     "metadata": {},
     "output_type": "execute_result"
    }
   ],
   "source": [
    "# All methods with perticular lemma\n",
    "dir(wordnet.synsets('create')[0].lemmas()[0])"
   ]
  },
  {
   "cell_type": "code",
   "execution_count": 8,
   "metadata": {},
   "outputs": [
    {
     "data": {
      "text/plain": [
       "[Lemma('post.n.01.post'), Lemma('post.n.01.station')]"
      ]
     },
     "execution_count": 8,
     "metadata": {},
     "output_type": "execute_result"
    }
   ],
   "source": [
    "wordnet.synsets('post')[0].lemmas() "
   ]
  },
  {
   "cell_type": "markdown",
   "metadata": {},
   "source": [
    "<div style=\"\n",
    "    background: linear-gradient(90deg,rgb(251, 255, 10), #ff758c, #ff4d6d);\n",
    "    -webkit-background-clip: text;\n",
    "    -webkit-text-fill-color: transparent;\n",
    "    font-size: 17px;\n",
    "    font-weight: 500;\n",
    "    text-align: center;\">\n",
    "    Extract definition and meaning from wordnet <br>\n",
    "</div>\n"
   ]
  },
  {
   "cell_type": "code",
   "execution_count": 9,
   "metadata": {},
   "outputs": [
    {
     "name": "stdout",
     "output_type": "stream",
     "text": [
      "Word and Type: post.n.01\n",
      "Word and Type: post\n",
      "Word and Type: the position where someone (as a guard or sentry) stands or is assigned to stand\n",
      "Word and Type: ['a soldier manned the entrance post', 'a sentry station']\n"
     ]
    }
   ],
   "source": [
    "sysset = wordnet.synsets('post')\n",
    "print('Word and Type: ' + sysset[0].name())\n",
    "print('Word and Type: ' + sysset[0].lemmas()[0].name()) # only first synonym element \n",
    "print('Word and Type: ' + sysset[0].definition()) \n",
    "print('Word and Type: ' + str(sysset[0].examples())) \n"
   ]
  },
  {
   "cell_type": "code",
   "execution_count": 10,
   "metadata": {},
   "outputs": [
    {
     "name": "stdout",
     "output_type": "stream",
     "text": [
      "Word and Type: post.n.11\n",
      "Word and Type: post\n",
      "Word and Type: the delivery and collection of letters and packages\n",
      "Word and Type: ['it came by the first post', \"if you hurry you'll catch the post\"]\n"
     ]
    }
   ],
   "source": [
    "sysset = wordnet.synsets('post')\n",
    "print('Word and Type: ' + sysset[10].name())\n",
    "print('Word and Type: ' + sysset[10].lemmas()[0].name()) # only first synonym element \n",
    "print('Word and Type: ' + sysset[10].definition()) \n",
    "print('Word and Type: ' + str(sysset[10].examples())) \n"
   ]
  },
  {
   "cell_type": "code",
   "execution_count": 11,
   "metadata": {},
   "outputs": [
    {
     "name": "stdout",
     "output_type": "stream",
     "text": [
      "sound.v.01\n",
      "sound.v.02\n",
      "sound.v.03\n",
      "sound.v.04\n",
      "voice.v.02\n",
      "sound.v.06\n",
      "fathom.v.02\n",
      "sound.n.01\n",
      "sound.n.02\n",
      "sound.n.03\n",
      "sound.n.04\n",
      "audio.n.01\n",
      "phone.n.02\n",
      "strait.n.01\n",
      "sound.n.08\n"
     ]
    }
   ],
   "source": [
    "for word in wordnet.synsets('sound', pos='v'):     # Extracting synonyms of form verb only\n",
    "    print(word.name())\n",
    "\n",
    "for word in wordnet.synsets('sound', pos='n'):     # Extracting synonyms of form nound only\n",
    "    print(word.name())\n"
   ]
  },
  {
   "cell_type": "code",
   "execution_count": 12,
   "metadata": {},
   "outputs": [
    {
     "name": "stdout",
     "output_type": "stream",
     "text": [
      "\n",
      "\n",
      "All meanings of word : \n",
      "sound.n.01      the particular auditory effect produced by a given cause\n",
      "sound.n.02      the subjective sensation of hearing something\n",
      "sound.n.03      mechanical vibrations transmitted by an elastic medium\n",
      "sound.n.04      the sudden occurrence of an audible event\n",
      "audio.n.01      the audible part of a transmitted signal\n",
      "phone.n.02      (phonetics) an individual sound unit of speech without concern as to whether or not it is a phoneme of some language\n",
      "strait.n.01     a narrow channel of the sea joining two larger bodies of water\n",
      "sound.n.08      a large ocean inlet or deep bay\n",
      "sound.v.01      appear in a certain way\n",
      "sound.v.02      make a certain noise or sound\n",
      "sound.v.03      give off a certain sound or sounds\n",
      "sound.v.04      announce by means of a sound\n",
      "voice.v.02      utter with vibrating vocal chords\n",
      "sound.v.06      cause to sound\n",
      "fathom.v.02     measure the depth of (a body of water) with a sounding line\n",
      "sound.a.01      financially secure and safe\n",
      "healthy.s.04    exercising or showing good judgment\n",
      "sound.a.03      in good condition; free from defect or damage or decay\n",
      "good.s.17       in excellent physical condition\n",
      "reasoned.s.01   logically valid\n",
      "legal.s.03      having legal efficacy or force\n",
      "sound.s.07      free from moral defect\n",
      "heavy.s.26      (of sleep) deep and complete\n",
      "sound.s.09      thorough\n",
      "\n",
      "\n",
      "Noun meanings of word : \n",
      "sound.n.01      the particular auditory effect produced by a given cause\n",
      "sound.n.02      the subjective sensation of hearing something\n",
      "sound.n.03      mechanical vibrations transmitted by an elastic medium\n",
      "sound.n.04      the sudden occurrence of an audible event\n",
      "audio.n.01      the audible part of a transmitted signal\n",
      "phone.n.02      (phonetics) an individual sound unit of speech without concern as to whether or not it is a phoneme of some language\n",
      "strait.n.01     a narrow channel of the sea joining two larger bodies of water\n",
      "sound.n.08      a large ocean inlet or deep bay\n"
     ]
    }
   ],
   "source": [
    "w = input(\"Word : \")\n",
    "\n",
    "print('\\n\\nAll meanings of word : ') \n",
    "for word in wordnet.synsets(w):     # Extracting all synonyms \n",
    "    print(f'{word.name() :<15} {word.definition()}')\n",
    "\n",
    "\n",
    "print('\\n\\nNoun meanings of word : ')\n",
    "for word in wordnet.synsets(w, pos='n'):     # Extracting synonyms of form nound only\n",
    "    print(f'{word.name() :<15} {word.definition()}')\n",
    "    \n"
   ]
  },
  {
   "cell_type": "markdown",
   "metadata": {},
   "source": [
    "<div style=\"\n",
    "    background: linear-gradient(90deg,rgb(251, 255, 10), #ff758c, #ff4d6d);\n",
    "    -webkit-background-clip: text;\n",
    "    -webkit-text-fill-color: transparent;\n",
    "    font-size: 17px;\n",
    "    font-weight: 500;\n",
    "    text-align: center;\">\n",
    "    Different forms of meaning of words<br>\n",
    "</div>\n"
   ]
  },
  {
   "cell_type": "code",
   "execution_count": 17,
   "metadata": {},
   "outputs": [],
   "source": [
    "verbs = set()\n",
    "nouns = set()\n",
    "adj = set()\n",
    "\n",
    "w = 'sound'\n",
    "\n",
    "for word in wordnet.synsets(w, pos='v'):     # Extracting synonyms of form nound only\n",
    "    verbs.add(word.lemmas()[0].name())\n",
    "    \n",
    "for word in wordnet.synsets(w, pos='n'):     # Extracting synonyms of form nound only\n",
    "    nouns.add(word.lemmas()[0].name())\n",
    "    \n",
    "for word in wordnet.synsets(w, pos='a'):     # Extracting synonyms of form nound only\n",
    "    adj.add(word.lemmas()[0].name())\n",
    "    "
   ]
  },
  {
   "cell_type": "code",
   "execution_count": 18,
   "metadata": {},
   "outputs": [
    {
     "name": "stdout",
     "output_type": "stream",
     "text": [
      "Verb meanings of word :  {'fathom', 'sound', 'voice'}\n",
      "Noun meanings of word :  {'phone', 'sound', 'audio', 'strait'}\n",
      "Adjective meanings of word :  {'healthy', 'heavy', 'legal', 'sound', 'good', 'reasoned'}\n"
     ]
    }
   ],
   "source": [
    "print('Verb meanings of word : ', verbs)\n",
    "print('Noun meanings of word : ', nouns)\n",
    "print('Adjective meanings of word : ', adj)"
   ]
  },
  {
   "cell_type": "markdown",
   "metadata": {},
   "source": [
    "<div style=\"\n",
    "    background: linear-gradient(90deg,rgb(251, 255, 10), #ff758c, #ff4d6d);\n",
    "    -webkit-background-clip: text;\n",
    "    -webkit-text-fill-color: transparent;\n",
    "    font-size: 17px;\n",
    "    font-weight: 500;\n",
    "    text-align: center;\">\n",
    "    Antonyms forms of meaning of words<br>\n",
    "</div>\n"
   ]
  },
  {
   "cell_type": "code",
   "execution_count": 35,
   "metadata": {},
   "outputs": [
    {
     "name": "stdout",
     "output_type": "stream",
     "text": [
      "Antonyms: \n"
     ]
    },
    {
     "data": {
      "text/plain": [
       "{'actual', 'impossible'}"
      ]
     },
     "execution_count": 35,
     "metadata": {},
     "output_type": "execute_result"
    }
   ],
   "source": [
    "ant = set()\n",
    "\n",
    "w = 'possible'\n",
    "\n",
    "for word in wordnet.synsets(w):  \n",
    "    for lemma in word.lemmas():\n",
    "        if lemma.antonyms():    # When antonyms are available, add them into the list\n",
    "            ant.add(lemma.antonyms()[0].name())\n",
    "\n",
    "print('Antonyms: ')\n",
    "ant"
   ]
  },
  {
   "cell_type": "markdown",
   "metadata": {},
   "source": [
    "<div style=\"\n",
    "    background: linear-gradient(90deg,rgb(251, 255, 10), #ff758c, #ff4d6d);\n",
    "    -webkit-background-clip: text;\n",
    "    -webkit-text-fill-color: transparent;\n",
    "    font-size: 17px;\n",
    "    font-weight: 500;\n",
    "    text-align: center;\">\n",
    "    Hypernyms forms of meaning of words<br>\n",
    "</div>\n"
   ]
  },
  {
   "cell_type": "code",
   "execution_count": 36,
   "metadata": {},
   "outputs": [
    {
     "name": "stdout",
     "output_type": "stream",
     "text": [
      "Hypernyms: \n"
     ]
    },
    {
     "data": {
      "text/plain": [
       "{'dry.v.01',\n",
       " 'element.n.05',\n",
       " 'expose.v.01',\n",
       " 'gas.n.02',\n",
       " 'medium.n.03',\n",
       " 'music.n.01',\n",
       " 'publicize.v.01',\n",
       " 'quality.n.01',\n",
       " 'refresh.v.02',\n",
       " 'region.n.01',\n",
       " 'tell.v.02',\n",
       " 'travel.n.01',\n",
       " 'wind.n.01'}"
      ]
     },
     "execution_count": 36,
     "metadata": {},
     "output_type": "execute_result"
    }
   ],
   "source": [
    "hyp = set()\n",
    "w = 'air'\n",
    "\n",
    "for word in wordnet.synsets(w):  \n",
    "    hypernyms = word.hypernyms()\n",
    "    if hypernyms:  # When hypernyms are available, add them into the list\n",
    "        for hypernym in hypernyms:\n",
    "            hyp.add(hypernym.name())  # Corrected here\n",
    "\n",
    "print('Hypernyms: ')\n",
    "hyp"
   ]
  },
  {
   "cell_type": "markdown",
   "metadata": {},
   "source": [
    "<div style=\"\n",
    "    background: linear-gradient(90deg,rgb(251, 255, 10), #ff758c, #ff4d6d);\n",
    "    -webkit-background-clip: text;\n",
    "    -webkit-text-fill-color: transparent;\n",
    "    font-size: 17px;\n",
    "    font-weight: 500;\n",
    "    text-align: center;\">\n",
    "    Synonyms forms of meaning of words<br>\n",
    "</div>\n"
   ]
  },
  {
   "cell_type": "code",
   "execution_count": 37,
   "metadata": {},
   "outputs": [
    {
     "name": "stdout",
     "output_type": "stream",
     "text": [
      "Synonyms: \n"
     ]
    },
    {
     "data": {
      "text/plain": [
       "{'aerate',\n",
       " 'air',\n",
       " 'air_out',\n",
       " 'air_travel',\n",
       " 'airwave',\n",
       " 'atmosphere',\n",
       " 'aura',\n",
       " 'aviation',\n",
       " 'bare',\n",
       " 'beam',\n",
       " 'breeze',\n",
       " 'broadcast',\n",
       " 'gentle_wind',\n",
       " 'line',\n",
       " 'melodic_line',\n",
       " 'melodic_phrase',\n",
       " 'melody',\n",
       " 'publicise',\n",
       " 'publicize',\n",
       " 'send',\n",
       " 'strain',\n",
       " 'transmit',\n",
       " 'tune',\n",
       " 'vent',\n",
       " 'ventilate',\n",
       " 'zephyr'}"
      ]
     },
     "execution_count": 37,
     "metadata": {},
     "output_type": "execute_result"
    }
   ],
   "source": [
    "syn = set()\n",
    "w = 'air'\n",
    "\n",
    "for word in wordnet.synsets(w):  \n",
    "    synonyms = word.lemmas()  # Use lemmas() to get synonyms\n",
    "    if synonyms:  # When synonyms are available, add them into the list\n",
    "        for lemma in synonyms:\n",
    "            syn.add(lemma.name())  \n",
    "\n",
    "print('Synonyms: ')\n",
    "syn\n"
   ]
  },
  {
   "cell_type": "markdown",
   "metadata": {},
   "source": [
    "<div style=\"\n",
    "    background: linear-gradient(90deg,rgb(251, 255, 10), #ff758c, #ff4d6d);\n",
    "    -webkit-background-clip: text;\n",
    "    -webkit-text-fill-color: transparent;\n",
    "    font-size: 17px;\n",
    "    font-weight: 500;\n",
    "    text-align: center;\">\n",
    "    Meronyms forms of meaning of words<br>\n",
    "</div>\n"
   ]
  },
  {
   "cell_type": "code",
   "execution_count": 44,
   "metadata": {},
   "outputs": [
    {
     "name": "stdout",
     "output_type": "stream",
     "text": [
      "Meronyms: \n"
     ]
    },
    {
     "data": {
      "text/plain": [
       "{'accelerator.n.01',\n",
       " 'air_bag.n.01',\n",
       " 'auto_accessory.n.01',\n",
       " 'automobile_engine.n.01',\n",
       " 'automobile_horn.n.01',\n",
       " 'buffer.n.06',\n",
       " 'bumper.n.02',\n",
       " 'car_door.n.01',\n",
       " 'car_mirror.n.01',\n",
       " 'car_seat.n.01',\n",
       " 'car_window.n.01',\n",
       " 'fender.n.01',\n",
       " 'first_gear.n.01',\n",
       " 'floorboard.n.02',\n",
       " 'gasoline_engine.n.01',\n",
       " 'glove_compartment.n.01',\n",
       " 'grille.n.02',\n",
       " 'high_gear.n.01',\n",
       " 'hood.n.09',\n",
       " 'luggage_compartment.n.01',\n",
       " 'rear_window.n.01',\n",
       " 'reverse.n.02',\n",
       " 'roof.n.02',\n",
       " 'running_board.n.01',\n",
       " 'stabilizer_bar.n.01',\n",
       " 'sunroof.n.01',\n",
       " 'suspension.n.05',\n",
       " 'tail_fin.n.02',\n",
       " 'third_gear.n.01',\n",
       " 'window.n.02'}"
      ]
     },
     "execution_count": 44,
     "metadata": {},
     "output_type": "execute_result"
    }
   ],
   "source": [
    "mel = set()\n",
    "w = 'car'\n",
    "\n",
    "for word in wordnet.synsets(w):  \n",
    "    meronyms = word.part_meronyms()  \n",
    "    if meronyms:  \n",
    "        for meronym in meronyms:\n",
    "            mel.add(meronym.name())  \n",
    "\n",
    "print('Meronyms: ') \n",
    "mel\n"
   ]
  }
 ],
 "metadata": {
  "kernelspec": {
   "display_name": ".nlpcv",
   "language": "python",
   "name": "python3"
  },
  "language_info": {
   "codemirror_mode": {
    "name": "ipython",
    "version": 3
   },
   "file_extension": ".py",
   "mimetype": "text/x-python",
   "name": "python",
   "nbconvert_exporter": "python",
   "pygments_lexer": "ipython3",
   "version": "3.8.5"
  }
 },
 "nbformat": 4,
 "nbformat_minor": 2
}
