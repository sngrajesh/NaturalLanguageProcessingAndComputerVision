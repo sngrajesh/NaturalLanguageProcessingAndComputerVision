{
 "cells": [
  {
   "cell_type": "markdown",
   "metadata": {
    "id": "g6U6ibUH1N-k"
   },
   "source": [
    "<div style=\"\n",
    "    background: linear-gradient(90deg,rgb(251, 255, 10), #ff758c, #ff4d6d);\n",
    "    -webkit-background-clip: text;\n",
    "    -webkit-text-fill-color: transparent;\n",
    "    font-size: 20px;\n",
    "    font-weight: bold;\n",
    "    text-align: center;\">\n",
    "    Seq2Seq Model\n",
    "</div>\n",
    "\n"
   ]
  },
  {
   "cell_type": "markdown",
   "metadata": {
    "id": "PuzObRZ91Xp4"
   },
   "source": [
    "* The Seq2Seq Model is a kind of machine learning model that takes sequential data as input and generates also sequential data as output.\n",
    "* Before the arrival of the Seq2Seq model, machine translation systems relied on statistical methods and phrase-based approaches.\n",
    "* The most popular was the use of phrase-based statistical translation (SMT) systems. That was not able to handle long distance dependencies and capture global context."
   ]
  },
  {
   "cell_type": "markdown",
   "metadata": {
    "id": "_2cnkPZ_1U2q"
   },
   "source": [
    "<div style=\"\n",
    "    background: linear-gradient(90deg,rgb(251, 255, 10), #ff758c, #ff4d6d);\n",
    "    -webkit-background-clip: text;\n",
    "    -webkit-text-fill-color: transparent;\n",
    "    font-size: 17px;\n",
    "    font-weight: bold;\n",
    "    text-align: center;\">\n",
    "     Plan of Action\n",
    "<br/>\n",
    "-----------------------------------------------------------------------------------------------------------------------------------------\n",
    "</div>\n"
   ]
  },
  {
   "cell_type": "markdown",
   "metadata": {
    "id": "N8EFRZ0bcRxc"
   },
   "source": [
    "\n",
    "<svg aria-roledescription=\"flowchart-v2\" role=\"graphics-document document\" viewBox=\"0 0 1299.05078125 1904\" style=\"max-width: 1299.05078125px;\" class=\"flowchart\" xmlns=\"http://www.w3.org/2000/svg\" width=\"100%\" id=\"export-svg\"><style xmlns=\"http://www.w3.org/1999/xhtml\">@import url(\"https://cdnjs.cloudflare.com/ajax/libs/font-awesome/6.2.0/css/all.min.css\"); p {margin: 0;}</style><style>#export-svg{font-family:\"trebuchet ms\",verdana,arial,sans-serif;font-size:14px;fill:#333;}#export-svg .error-icon{fill:#ffffff;}#export-svg .error-text{fill:#000000;stroke:#000000;}#export-svg .edge-thickness-normal{stroke-width:1px;}#export-svg .edge-thickness-thick{stroke-width:3.5px;}#export-svg .edge-pattern-solid{stroke-dasharray:0;}#export-svg .edge-thickness-invisible{stroke-width:0;fill:none;}#export-svg .edge-pattern-dashed{stroke-dasharray:3;}#export-svg .edge-pattern-dotted{stroke-dasharray:2;}#export-svg .marker{fill:#000000;stroke:#000000;}#export-svg .marker.cross{stroke:#000000;}#export-svg svg{font-family:\"trebuchet ms\",verdana,arial,sans-serif;font-size:14px;}#export-svg p{margin:0;}#export-svg .label{font-family:\"trebuchet ms\",verdana,arial,sans-serif;color:#333;}#export-svg .cluster-label text{fill:#000000;}#export-svg .cluster-label span{color:#000000;}#export-svg .cluster-label span p{background-color:transparent;}#export-svg .label text,#export-svg span{fill:#333;color:#333;}#export-svg .node rect,#export-svg .node circle,#export-svg .node ellipse,#export-svg .node polygon,#export-svg .node path{fill:#ffffff;stroke:#000000;stroke-width:1px;}#export-svg .rough-node .label text,#export-svg .node .label text,#export-svg .image-shape .label,#export-svg .icon-shape .label{text-anchor:middle;}#export-svg .node .katex path{fill:#000;stroke:#000;stroke-width:1px;}#export-svg .rough-node .label,#export-svg .node .label,#export-svg .image-shape .label,#export-svg .icon-shape .label{text-align:center;}#export-svg .node.clickable{cursor:pointer;}#export-svg .root .anchor path{fill:#000000!important;stroke-width:0;stroke:#000000;}#export-svg .arrowheadPath{fill:#000000;}#export-svg .edgePath .path{stroke:#000000;stroke-width:2.0px;}#export-svg .flowchart-link{stroke:#000000;fill:none;}#export-svg .edgeLabel{background-color:hsl(-120, 0%, 80%);text-align:center;}#export-svg .edgeLabel p{background-color:hsl(-120, 0%, 80%);}#export-svg .edgeLabel rect{opacity:0.5;background-color:hsl(-120, 0%, 80%);fill:hsl(-120, 0%, 80%);}#export-svg .labelBkg{background-color:rgba(204, 204, 204, 0.5);}#export-svg .cluster rect{fill:#ffffff;stroke:hsl(0, 0%, 90%);stroke-width:1px;}#export-svg .cluster text{fill:#000000;}#export-svg .cluster span{color:#000000;}#export-svg div.mermaidTooltip{position:absolute;text-align:center;max-width:200px;padding:2px;font-family:\"trebuchet ms\",verdana,arial,sans-serif;font-size:12px;background:#ffffff;border:1px solid hsl(0, 0%, 90%);border-radius:2px;pointer-events:none;z-index:100;}#export-svg .flowchartTitleText{text-anchor:middle;font-size:18px;fill:#333;}#export-svg rect.text{fill:none;stroke-width:0;}#export-svg .icon-shape,#export-svg .image-shape{background-color:hsl(-120, 0%, 80%);text-align:center;}#export-svg .icon-shape p,#export-svg .image-shape p{background-color:hsl(-120, 0%, 80%);padding:2px;}#export-svg .icon-shape rect,#export-svg .image-shape rect{opacity:0.5;background-color:hsl(-120, 0%, 80%);fill:hsl(-120, 0%, 80%);}#export-svg .node .neo-node{stroke:#000000;}#export-svg [data-look=\"neo\"].node rect,#export-svg [data-look=\"neo\"].cluster rect,#export-svg [data-look=\"neo\"].node polygon{stroke:url(#export-svg-gradient);filter:drop-shadow( 0px 1px 2px rgba(0, 0, 0, 0.25));}#export-svg [data-look=\"neo\"].node rect,#export-svg [data-look=\"neo\"].node polygon,#export-svg [data-look=\"neo\"].node path{stroke:url(#export-svg-gradient);filter:drop-shadow( 0px 1px 2px rgba(0, 0, 0, 0.25));}#export-svg [data-look=\"neo\"].node .neo-line path{stroke:hsl(0, 0%, 70%);filter:none;}#export-svg [data-look=\"neo\"].node circle{stroke:url(#export-svg-gradient);filter:drop-shadow( 0px 1px 2px rgba(0, 0, 0, 0.25));}#export-svg [data-look=\"neo\"].node circle .state-start{fill:#000000;}#export-svg [data-look=\"neo\"].statediagram-cluster rect{fill:#ffffff;stroke:url(#export-svg-gradient);stroke-width:1px;}#export-svg [data-look=\"neo\"].icon-shape .icon{fill:url(#export-svg-gradient);filter:drop-shadow( 0px 1px 2px rgba(0, 0, 0, 0.25));}#export-svg [data-look=\"neo\"].icon-shape .icon-neo path{stroke:url(#export-svg-gradient);filter:drop-shadow( 0px 1px 2px rgba(0, 0, 0, 0.25));}#export-svg :root{--mermaid-font-family:\"trebuchet ms\",verdana,arial,sans-serif;}</style><g><marker orient=\"auto\" markerHeight=\"8\" markerWidth=\"8\" markerUnits=\"userSpaceOnUse\" refY=\"5\" refX=\"5\" viewBox=\"0 0 10 10\" class=\"marker flowchart-v2\" id=\"export-svg_flowchart-v2-pointEnd\"><path style=\"stroke-width: 1; stroke-dasharray: 1, 0;\" class=\"arrowMarkerPath\" d=\"M 0 0 L 10 5 L 0 10 z\"/></marker><marker orient=\"auto\" markerHeight=\"8\" markerWidth=\"8\" markerUnits=\"userSpaceOnUse\" refY=\"5\" refX=\"4.5\" viewBox=\"0 0 10 10\" class=\"marker flowchart-v2\" id=\"export-svg_flowchart-v2-pointStart\"><path style=\"stroke-width: 1; stroke-dasharray: 1, 0;\" class=\"arrowMarkerPath\" d=\"M 0 5 L 10 10 L 10 0 z\"/></marker><marker orient=\"auto\" markerHeight=\"11\" markerWidth=\"11\" markerUnits=\"userSpaceOnUse\" refY=\"5\" refX=\"11\" viewBox=\"0 0 10 10\" class=\"marker flowchart-v2\" id=\"export-svg_flowchart-v2-circleEnd\"><circle style=\"stroke-width: 1; stroke-dasharray: 1, 0;\" class=\"arrowMarkerPath\" r=\"5\" cy=\"5\" cx=\"5\"/></marker><marker orient=\"auto\" markerHeight=\"11\" markerWidth=\"11\" markerUnits=\"userSpaceOnUse\" refY=\"5\" refX=\"-1\" viewBox=\"0 0 10 10\" class=\"marker flowchart-v2\" id=\"export-svg_flowchart-v2-circleStart\"><circle style=\"stroke-width: 1; stroke-dasharray: 1, 0;\" class=\"arrowMarkerPath\" r=\"5\" cy=\"5\" cx=\"5\"/></marker><marker orient=\"auto\" markerHeight=\"11\" markerWidth=\"11\" markerUnits=\"userSpaceOnUse\" refY=\"5.2\" refX=\"12\" viewBox=\"0 0 11 11\" class=\"marker cross flowchart-v2\" id=\"export-svg_flowchart-v2-crossEnd\"><path style=\"stroke-width: 2; stroke-dasharray: 1, 0;\" class=\"arrowMarkerPath\" d=\"M 1,1 l 9,9 M 10,1 l -9,9\"/></marker><marker orient=\"auto\" markerHeight=\"11\" markerWidth=\"11\" markerUnits=\"userSpaceOnUse\" refY=\"5.2\" refX=\"-1\" viewBox=\"0 0 11 11\" class=\"marker cross flowchart-v2\" id=\"export-svg_flowchart-v2-crossStart\"><path style=\"stroke-width: 2; stroke-dasharray: 1, 0;\" class=\"arrowMarkerPath\" d=\"M 1,1 l 9,9 M 10,1 l -9,9\"/></marker><g class=\"root\"><g class=\"clusters\"><g data-look=\"neo\" data-et=\"cluster\" data-id=\"Inference\" id=\"Inference\" class=\"cluster\"><rect height=\"530\" width=\"303.76171875\" y=\"1366\" x=\"8\" style=\"fill:#fff2e6 !important;stroke:#333 !important;stroke-width:2px !important\"/><g transform=\"translate(130.693359375, 1366)\" class=\"cluster-label\"><foreignObject height=\"21\" width=\"58.375\"><div xmlns=\"http://www.w3.org/1999/xhtml\" style=\"display: table-cell; white-space: normal; line-height: 1.5; max-width: 200px; text-align: center;\"><span class=\"nodeLabel\"><p>Inference</p></span></div></foreignObject></g></g><g data-look=\"neo\" data-et=\"cluster\" data-id=\"Training\" id=\"Training\" class=\"cluster\"><rect height=\"353\" width=\"262.4296875\" y=\"1114\" x=\"331.76171875\" style=\"fill:#e6ffe6 !important;stroke:#333 !important;stroke-width:2px !important\"/><g transform=\"translate(437.9453125, 1114)\" class=\"cluster-label\"><foreignObject height=\"21\" width=\"50.0625\"><div xmlns=\"http://www.w3.org/1999/xhtml\" style=\"display: table-cell; white-space: normal; line-height: 1.5; max-width: 200px; text-align: center;\"><span class=\"nodeLabel\"><p>Training</p></span></div></foreignObject></g></g><g data-look=\"neo\" data-et=\"cluster\" data-id=\"subGraph1\" id=\"subGraph1\" class=\"cluster\"><rect height=\"328\" width=\"676.859375\" y=\"887\" x=\"614.19140625\" style=\"\"/><g transform=\"translate(894.64453125, 887)\" class=\"cluster-label\"><foreignObject height=\"21\" width=\"115.953125\"><div xmlns=\"http://www.w3.org/1999/xhtml\" style=\"display: table-cell; white-space: normal; line-height: 1.5; max-width: 200px; text-align: center;\"><span class=\"nodeLabel\"><p>Model Architecture</p></span></div></foreignObject></g></g><g data-look=\"neo\" data-et=\"cluster\" data-id=\"Preprocessing\" id=\"Preprocessing\" class=\"cluster\"><rect height=\"627\" width=\"330\" y=\"109\" x=\"819.92578125\" style=\"fill:#f6f6f6 !important;stroke:#333 !important;stroke-width:2px !important\"/><g transform=\"translate(940.17578125, 109)\" class=\"cluster-label\"><foreignObject height=\"21\" width=\"89.5\"><div xmlns=\"http://www.w3.org/1999/xhtml\" style=\"display: table-cell; white-space: normal; line-height: 1.5; max-width: 200px; text-align: center;\"><span class=\"nodeLabel\"><p>Preprocessing</p></span></div></foreignObject></g></g></g><g class=\"edgePaths\"><path marker-end=\"url(#export-svg_flowchart-v2-pointEnd)\" data-points=\"W3sieCI6OTg0LjkyNTc4MTI1LCJ5Ijo1OX0seyJ4Ijo5ODQuOTI1NzgxMjUsInkiOjg0fSx7IngiOjk4NC45MjU3ODEyNSwieSI6MTA5fSx7IngiOjk4NC45MjU3ODEyNSwieSI6MTM0fV0=\" data-id=\"L_A_B_0\" data-et=\"edge\" data-edge=\"true\" style=\"\" class=\"edge-thickness-normal edge-pattern-solid edge-thickness-normal edge-pattern-solid flowchart-link\" id=\"L_A_B_0\" d=\"M984.92578125,59L984.92578125,84L984.92578125,109L984.92578125,121.5L984.92578125,130\"/><path marker-end=\"url(#export-svg_flowchart-v2-pointEnd)\" data-points=\"W3sieCI6OTQ3LjMzODUyODc3NDc1MjUsInkiOjE4NX0seyJ4Ijo5MTAuNDg4MjgxMjUsInkiOjIxMH0seyJ4Ijo5NDcuMzM4NTI4Nzc0NzUyNSwieSI6MjM1fV0=\" data-id=\"L_B_C_1\" data-et=\"edge\" data-edge=\"true\" style=\"\" class=\"edge-thickness-normal edge-pattern-solid edge-thickness-normal edge-pattern-solid flowchart-link\" id=\"L_B_C_1\" d=\"M947.3385287747525,185L915.48828125,206.607892527288Q910.48828125,210 915.48828125,213.392107472712L928.9134050123762,222.5L944.0283950985665,232.75433416426677\"/><path marker-end=\"url(#export-svg_flowchart-v2-pointEnd)\" data-points=\"W3sieCI6OTQ3LjMzODUyODc3NDc1MjUsInkiOjI4Nn0seyJ4Ijo5MTAuNDg4MjgxMjUsInkiOjMxMX0seyJ4Ijo5NDcuMzM4NTI4Nzc0NzUyNSwieSI6MzM2fV0=\" data-id=\"L_C_D_2\" data-et=\"edge\" data-edge=\"true\" style=\"\" class=\"edge-thickness-normal edge-pattern-solid edge-thickness-normal edge-pattern-solid flowchart-link\" id=\"L_C_D_2\" d=\"M947.3385287747525,286L915.48828125,307.607892527288Q910.48828125,311 915.48828125,314.39210747271204L928.9134050123762,323.5L944.0283950985665,333.75433416426677\"/><path marker-end=\"url(#export-svg_flowchart-v2-pointEnd)\" data-points=\"W3sieCI6OTQ3LjMzODUyODc3NDc1MjUsInkiOjM4N30seyJ4Ijo5MTAuNDg4MjgxMjUsInkiOjQxMn0seyJ4Ijo5NDAuOTk1NDUzMzgxMTQ3NSwieSI6NDM3fV0=\" data-id=\"L_D_E_3\" data-et=\"edge\" data-edge=\"true\" style=\"\" class=\"edge-thickness-normal edge-pattern-solid edge-thickness-normal edge-pattern-solid flowchart-link\" id=\"L_D_E_3\" d=\"M947.3385287747525,387L915.6518587861199,408.49691801076Q910.48828125,412 915.314488032755,415.9549771788152L925.7418673155737,424.5L937.9015926831944,434.4646448016774\"/><path marker-end=\"url(#export-svg_flowchart-v2-pointEnd)\" data-points=\"W3sieCI6OTQwLjk5NTQ1MzM4MTE0NzUsInkiOjUwOX0seyJ4Ijo5MTAuNDg4MjgxMjUsInkiOjUzNH0seyJ4Ijo5NDcuMzM4NTI4Nzc0NzUyNSwieSI6NTU5fV0=\" data-id=\"L_E_F_4\" data-et=\"edge\" data-edge=\"true\" style=\"\" class=\"edge-thickness-normal edge-pattern-solid edge-thickness-normal edge-pattern-solid flowchart-link\" id=\"L_E_F_4\" d=\"M940.9954533811475,509L915.314488032755,530.0450228211848Q910.48828125,534 915.6518587861199,537.5030819892401L928.9134050123762,546.5L944.0283950985665,556.7543341642668\"/><path marker-end=\"url(#export-svg_flowchart-v2-pointEnd)\" data-points=\"W3sieCI6OTQ3LjMzODUyODc3NDc1MjUsInkiOjYxMH0seyJ4Ijo5MTAuNDg4MjgxMjUsInkiOjYzNX0seyJ4Ijo5NDcuMzM4NTI4Nzc0NzUyNSwieSI6NjYwfV0=\" data-id=\"L_F_G_5\" data-et=\"edge\" data-edge=\"true\" style=\"\" class=\"edge-thickness-normal edge-pattern-solid edge-thickness-normal edge-pattern-solid flowchart-link\" id=\"L_F_G_5\" d=\"M947.3385287747525,610L915.48828125,631.607892527288Q910.48828125,635 915.48828125,638.392107472712L928.9134050123762,647.5L944.0283950985665,657.7543341642668\"/><path marker-end=\"url(#export-svg_flowchart-v2-pointEnd)\" data-points=\"W3sieCI6OTg0LjkyNTc4MTI1LCJ5Ijo3MTF9LHsieCI6OTg0LjkyNTc4MTI1LCJ5Ijo3MzZ9LHsieCI6OTg0LjkyNTc4MTI1LCJ5Ijo3NjF9LHsieCI6OTg0LjkyNTc4MTI1LCJ5Ijo3ODZ9XQ==\" data-id=\"L_G_H_6\" data-et=\"edge\" data-edge=\"true\" style=\"\" class=\"edge-thickness-normal edge-pattern-solid edge-thickness-normal edge-pattern-solid flowchart-link\" id=\"L_G_H_6\" d=\"M984.92578125,711L984.92578125,736L984.92578125,761L984.92578125,773.5L984.92578125,782\"/><path marker-end=\"url(#export-svg_flowchart-v2-pointEnd)\" data-points=\"W3sieCI6OTg0LjkyNTc4MTI1LCJ5Ijo4Mzd9LHsieCI6OTg0LjkyNTc4MTI1LCJ5Ijo4NjJ9LHsieCI6OTg0LjkyNTc4MTI1LCJ5Ijo4ODd9LHsieCI6OTg0LjkyNTc4MTI1LCJ5Ijo5MTJ9XQ==\" data-id=\"L_H_I_7\" data-et=\"edge\" data-edge=\"true\" style=\"\" class=\"edge-thickness-normal edge-pattern-solid edge-thickness-normal edge-pattern-solid flowchart-link\" id=\"L_H_I_7\" d=\"M984.92578125,837L984.92578125,862L984.92578125,887L984.92578125,899.5L984.92578125,908\"/><path marker-end=\"url(#export-svg_flowchart-v2-pointEnd)\" data-points=\"W3sieCI6ODg0Ljg4NjcxODc1LCJ5Ijo5NTguOTY5OTE5MzIwMDMwNX0seyJ4Ijo3NDkuNjIxMDkzNzUsInkiOjk4OH0seyJ4Ijo3NDkuNjIxMDkzNzUsInkiOjEwMTN9XQ==\" data-id=\"L_I_J_8\" data-et=\"edge\" data-edge=\"true\" style=\"\" class=\"edge-thickness-normal edge-pattern-solid edge-thickness-normal edge-pattern-solid flowchart-link\" id=\"L_I_J_8\" d=\"M884.88671875,958.9699193200305L755.7319458259947,986.6885172874521Q749.62109375,988 749.62109375,994.25L749.62109375,1000.5L749.62109375,1009\"/><path marker-end=\"url(#export-svg_flowchart-v2-pointEnd)\" data-points=\"W3sieCI6NzIwLjQ3Nzk1NDgyNjczMjcsInkiOjEwNjR9LHsieCI6NjkxLjkwNjI1LCJ5IjoxMDg5fSx7IngiOjY5MS45MDYyNSwieSI6MTExNH0seyJ4Ijo1MjAuMTM2NzE4NzUsInkiOjExNDguOTEyOTIzNTEyMzAyNX1d\" data-id=\"L_J_K_9\" data-et=\"edge\" data-edge=\"true\" style=\"\" class=\"edge-thickness-normal edge-pattern-solid edge-thickness-normal edge-pattern-solid flowchart-link\" id=\"L_J_K_9\" d=\"M720.4779548267327,1064L701.0125692393258,1081.0320477072078Q691.90625,1089 691.90625,1101.1001369342964L691.90625,1106.09834570942Q691.90625,1114 684.1629246073759,1115.573865430011L606.021484375,1131.4564617561514L524.0565690030567,1148.116196461418\"/><path marker-end=\"url(#export-svg_flowchart-v2-pointEnd)\" data-points=\"W3sieCI6NDIwLjUzOTA2MjUsInkiOjExOTB9LHsieCI6Mzk4LjA3ODEyNSwieSI6MTIxNX0seyJ4IjozOTguMDc4MTI1LCJ5IjoxMjQwfSx7IngiOjIyOS41MjczNDM3NSwieSI6MTI3Ni4xODEzOTQ3Njk2MTR9XQ==\" data-id=\"L_K_L_10\" data-et=\"edge\" data-edge=\"true\" style=\"\" class=\"edge-thickness-normal edge-pattern-solid edge-thickness-normal edge-pattern-solid flowchart-link\" id=\"L_K_L_10\" d=\"M420.5390625,1190L406.4321540930307,1205.7016024008005Q398.078125,1215 398.078125,1227.5L398.078125,1232.0450286226737Q398.078125,1240 390.30033439514426,1241.6695936395115L313.802734375,1258.0906973848068L233.43825190337162,1275.3418726341754\"/><path marker-end=\"url(#export-svg_flowchart-v2-pointEnd)\" data-points=\"W3sieCI6MTYyLjgyNDIxODc1LCJ5IjoxMzE2fSx7IngiOjE2Mi44MjQyMTg3NSwieSI6MTM0MX0seyJ4IjoxNjIuODI0MjE4NzUsInkiOjEzNjZ9LHsieCI6MTYyLjgyNDIxODc1LCJ5IjoxMzkxfV0=\" data-id=\"L_L_M_11\" data-et=\"edge\" data-edge=\"true\" style=\"\" class=\"edge-thickness-normal edge-pattern-solid edge-thickness-normal edge-pattern-solid flowchart-link\" id=\"L_L_M_11\" d=\"M162.82421875,1316L162.82421875,1341L162.82421875,1366L162.82421875,1378.5L162.82421875,1387\"/><path marker-end=\"url(#export-svg_flowchart-v2-pointEnd)\" data-points=\"W3sieCI6MTk3LjQ1NDc0OTM4MTE4ODEyLCJ5IjoxNDQyfSx7IngiOjIzMS40MDYyNSwieSI6MTQ2N30seyJ4IjoyMzEuNDA2MjUsInkiOjE0OTJ9LHsieCI6MzQ3LjI4ODQ0MzY4ODExODgzLCJ5IjoxNTE3fV0=\" data-id=\"L_M_N_12\" data-et=\"edge\" data-edge=\"true\" style=\"\" class=\"edge-thickness-normal edge-pattern-solid edge-thickness-normal edge-pattern-solid flowchart-link\" id=\"L_M_N_12\" d=\"M197.45474938118812,1442L222.4817351696343,1460.4284827859562Q231.40625,1467 231.40625,1478.0829510263238L231.40625,1484.0399691320972Q231.40625,1492 239.18726739287922,1493.678648191158L289.3473468440594,1504.5L343.37839985939223,1516.156461466537\"/><path marker-end=\"url(#export-svg_flowchart-v2-pointEnd)\" data-points=\"W3sieCI6NDY1LjQ4ODI4MTI1LCJ5IjoxNTY4fSx7IngiOjQ2NS40ODgyODEyNSwieSI6MTU5M30seyJ4Ijo0NjUuNDg4MjgxMjUsInkiOjE2MTh9XQ==\" data-id=\"L_N_O_13\" data-et=\"edge\" data-edge=\"true\" style=\"\" class=\"edge-thickness-normal edge-pattern-solid edge-thickness-normal edge-pattern-solid flowchart-link\" id=\"L_N_O_13\" d=\"M465.48828125,1568L465.48828125,1593L465.48828125,1605.5L465.48828125,1614\"/><path marker-end=\"url(#export-svg_flowchart-v2-pointEnd)\" data-points=\"W3sieCI6NDY1LjQ4ODI4MTI1LCJ5IjoxNjY5fSx7IngiOjQ2NS40ODgyODEyNSwieSI6MTY5NH0seyJ4Ijo0NjUuNDg4MjgxMjUsInkiOjE3MTl9XQ==\" data-id=\"L_O_P_14\" data-et=\"edge\" data-edge=\"true\" style=\"\" class=\"edge-thickness-normal edge-pattern-solid edge-thickness-normal edge-pattern-solid flowchart-link\" id=\"L_O_P_14\" d=\"M465.48828125,1669L465.48828125,1694L465.48828125,1706.5L465.48828125,1715\"/><path marker-end=\"url(#export-svg_flowchart-v2-pointEnd)\" data-points=\"W3sieCI6MTAyMC41NTYzNTA1NTY5MzA3LCJ5IjoxODV9LHsieCI6MTA1NS40ODgyODEyNSwieSI6MjEwfSx7IngiOjEwMjAuNTU2MzUwNTU2OTMwNywieSI6MjM1fV0=\" data-id=\"L_B_C_15\" data-et=\"edge\" data-edge=\"true\" style=\"\" class=\"edge-thickness-normal edge-pattern-solid edge-thickness-normal edge-pattern-solid flowchart-link\" id=\"L_B_C_15\" d=\"M1020.5563505569307,185L1050.48828125,206.42161204605844Q1055.48828125,210 1050.48828125,213.57838795394156L1038.0223159034654,222.5L1023.8091416838008,232.672050282984\"/><path marker-end=\"url(#export-svg_flowchart-v2-pointEnd)\" data-points=\"W3sieCI6MTAyMC41NTYzNTA1NTY5MzA3LCJ5IjoyODZ9LHsieCI6MTA1NS40ODgyODEyNSwieSI6MzExfSx7IngiOjEwMjAuNTU2MzUwNTU2OTMwNywieSI6MzM2fV0=\" data-id=\"L_C_D_16\" data-et=\"edge\" data-edge=\"true\" style=\"\" class=\"edge-thickness-normal edge-pattern-solid edge-thickness-normal edge-pattern-solid flowchart-link\" id=\"L_C_D_16\" d=\"M1020.5563505569307,286L1050.48828125,307.42161204605844Q1055.48828125,311 1050.48828125,314.57838795394156L1038.0223159034654,323.5L1023.8091416838008,333.672050282984\"/><path marker-end=\"url(#export-svg_flowchart-v2-pointEnd)\" data-points=\"W3sieCI6MTAyMC41NTYzNTA1NTY5MzA3LCJ5IjozODd9LHsieCI6MTA1NS40ODgyODEyNSwieSI6NDEyfSx7IngiOjEwMjYuNTY5MjIzODcyOTUwNywieSI6NDM3fV0=\" data-id=\"L_D_E_17\" data-et=\"edge\" data-edge=\"true\" style=\"\" class=\"edge-thickness-normal edge-pattern-solid edge-thickness-normal edge-pattern-solid flowchart-link\" id=\"L_D_E_17\" d=\"M1020.5563505569307,387L1050.3131428063505,408.2962693866529Q1055.48828125,412 1050.6739223526524,416.16192584925705L1041.0287525614754,424.5L1029.5952499538716,434.3840553986015\"/><path marker-end=\"url(#export-svg_flowchart-v2-pointEnd)\" data-points=\"W3sieCI6MTAyNi41NjkyMjM4NzI5NTA3LCJ5Ijo1MDl9LHsieCI6MTA1NS40ODgyODEyNSwieSI6NTM0fSx7IngiOjEwMjAuNTU2MzUwNTU2OTMwNywieSI6NTU5fV0=\" data-id=\"L_E_F_18\" data-et=\"edge\" data-edge=\"true\" style=\"\" class=\"edge-thickness-normal edge-pattern-solid edge-thickness-normal edge-pattern-solid flowchart-link\" id=\"L_E_F_18\" d=\"M1026.5692238729507,509L1050.6739223526524,529.838074150743Q1055.48828125,534 1050.3131428063505,537.703730613347L1038.0223159034654,546.5L1023.8091416838008,556.672050282984\"/><path marker-end=\"url(#export-svg_flowchart-v2-pointEnd)\" data-points=\"W3sieCI6MTAyMC41NTYzNTA1NTY5MzA3LCJ5Ijo2MTB9LHsieCI6MTA1NS40ODgyODEyNSwieSI6NjM1fSx7IngiOjEwMjAuNTU2MzUwNTU2OTMwNywieSI6NjYwfV0=\" data-id=\"L_F_G_19\" data-et=\"edge\" data-edge=\"true\" style=\"\" class=\"edge-thickness-normal edge-pattern-solid edge-thickness-normal edge-pattern-solid flowchart-link\" id=\"L_F_G_19\" d=\"M1020.5563505569307,610L1050.48828125,631.4216120460585Q1055.48828125,635 1050.48828125,638.5783879539415L1038.0223159034654,647.5L1023.8091416838008,657.672050282984\"/><path marker-end=\"url(#export-svg_flowchart-v2-pointEnd)\" data-points=\"W3sieCI6OTg0LjkyNTc4MTI1LCJ5Ijo5NjN9LHsieCI6OTg0LjkyNTc4MTI1LCJ5Ijo5ODh9LHsieCI6OTg0LjkyNTc4MTI1LCJ5IjoxMDEzfV0=\" data-id=\"L_I_J1_20\" data-et=\"edge\" data-edge=\"true\" style=\"\" class=\"edge-thickness-normal edge-pattern-solid edge-thickness-normal edge-pattern-solid flowchart-link\" id=\"L_I_J1_20\" d=\"M984.92578125,963L984.92578125,988L984.92578125,1000.5L984.92578125,1009\"/><path marker-end=\"url(#export-svg_flowchart-v2-pointEnd)\" data-points=\"W3sieCI6MTA4NC45NjQ4NDM3NSwieSI6OTYyLjM4NjU2NDgwOTExMzN9LHsieCI6MTE4Ny45MjU3ODEyNSwieSI6OTg4fSx7IngiOjExODcuOTI1NzgxMjUsInkiOjEwMTN9XQ==\" data-id=\"L_I_J2_21\" data-et=\"edge\" data-edge=\"true\" style=\"\" class=\"edge-thickness-normal edge-pattern-solid edge-thickness-normal edge-pattern-solid flowchart-link\" id=\"L_I_J2_21\" d=\"M1084.96484375,962.3865648091133L1181.8606371961123,986.491183375757Q1187.92578125,988 1187.92578125,994.25L1187.92578125,1000.5L1187.92578125,1009\"/><path marker-end=\"url(#export-svg_flowchart-v2-pointEnd)\" data-points=\"W3sieCI6ODUwLjA1MDc4MTI1LCJ5IjoxMDYxLjcyNTU1NTQzNjI5OTF9LHsieCI6OTY3Ljk4ODI4MTI1LCJ5IjoxMDg5fSx7IngiOjk2Ny45ODgyODEyNSwieSI6MTExNH0seyJ4Ijo5NjcuOTg4MjgxMjUsInkiOjExMzl9XQ==\" data-id=\"L_J_J3_22\" data-et=\"edge\" data-edge=\"true\" style=\"\" class=\"edge-thickness-normal edge-pattern-solid edge-thickness-normal edge-pattern-solid flowchart-link\" id=\"L_J_J3_22\" d=\"M850.05078125,1061.7255554362991L960.1610366266526,1087.189856919419Q967.98828125,1089 967.98828125,1097.0338270062216L967.98828125,1114L967.98828125,1126.5L967.98828125,1135\"/><path marker-end=\"url(#export-svg_flowchart-v2-pointEnd)\" data-points=\"W3sieCI6NDUzLjU0ODIyODY1MDk5MDEsInkiOjExOTB9LHsieCI6NDYzLjQ0OTIxODc1LCJ5IjoxMjE1fSx7IngiOjQ2My40NDkyMTg3NSwieSI6MTI0MH0seyJ4Ijo0NjMuNDQ5MjE4NzUsInkiOjEyNjV9XQ==\" data-id=\"L_K_L1_23\" data-et=\"edge\" data-edge=\"true\" style=\"\" class=\"edge-thickness-normal edge-pattern-solid edge-thickness-normal edge-pattern-solid flowchart-link\" id=\"L_K_L1_23\" d=\"M453.5482286509901,1190L458.84654068510815,1203.378237886148Q463.44921875,1215 463.44921875,1227.5L463.44921875,1240L463.44921875,1252.5L463.44921875,1261\"/><path marker-end=\"url(#export-svg_flowchart-v2-pointEnd)\" data-points=\"W3sieCI6NDYzLjQ0OTIxODc1LCJ5IjoxMzE2fSx7IngiOjQ2My40NDkyMTg3NSwieSI6MTM0MX0seyJ4Ijo0NjMuNDQ5MjE4NzUsInkiOjEzNjZ9LHsieCI6NDYzLjQ0OTIxODc1LCJ5IjoxMzkxfV0=\" data-id=\"L_L1_L2_24\" data-et=\"edge\" data-edge=\"true\" style=\"\" class=\"edge-thickness-normal edge-pattern-solid edge-thickness-normal edge-pattern-solid flowchart-link\" id=\"L_L1_L2_24\" d=\"M463.44921875,1316L463.44921875,1341L463.44921875,1366L463.44921875,1378.5L463.44921875,1387\"/><path marker-end=\"url(#export-svg_flowchart-v2-pointEnd)\" data-points=\"W3sieCI6MTU5Ljg1MTcxNzIwMjk3MDMsInkiOjE0NDJ9LHsieCI6MTU2LjkzNzUsInkiOjE0Njd9LHsieCI6MTU2LjkzNzUsInkiOjE0OTJ9LHsieCI6MTU2LjkzNzUsInkiOjE1MTd9XQ==\" data-id=\"L_M_N1_25\" data-et=\"edge\" data-edge=\"true\" style=\"\" class=\"edge-thickness-normal edge-pattern-solid edge-thickness-normal edge-pattern-solid flowchart-link\" id=\"L_M_N1_25\" d=\"M159.8517172029703,1442L158.38480857852204,1454.5840708008407Q156.9375,1467 156.9375,1479.5L156.9375,1492L156.9375,1504.5L156.9375,1513\"/><path marker-end=\"url(#export-svg_flowchart-v2-pointEnd)\" data-points=\"W3sieCI6MTU2LjkzNzUsInkiOjE1Njh9LHsieCI6MTU2LjkzNzUsInkiOjE1OTN9LHsieCI6MTU2LjkzNzUsInkiOjE2MTh9XQ==\" data-id=\"L_N1_N2_26\" data-et=\"edge\" data-edge=\"true\" style=\"\" class=\"edge-thickness-normal edge-pattern-solid edge-thickness-normal edge-pattern-solid flowchart-link\" id=\"L_N1_N2_26\" d=\"M156.9375,1568L156.9375,1593L156.9375,1605.5L156.9375,1614\"/><path marker-end=\"url(#export-svg_flowchart-v2-pointEnd)\" data-points=\"W3sieCI6MTU2LjkzNzUsInkiOjE2Njl9LHsieCI6MTU2LjkzNzUsInkiOjE2OTR9LHsieCI6MTU2LjkzNzUsInkiOjE3MTl9XQ==\" data-id=\"L_N2_N3_27\" data-et=\"edge\" data-edge=\"true\" style=\"\" class=\"edge-thickness-normal edge-pattern-solid edge-thickness-normal edge-pattern-solid flowchart-link\" id=\"L_N2_N3_27\" d=\"M156.9375,1669L156.9375,1694L156.9375,1706.5L156.9375,1715\"/><path marker-end=\"url(#export-svg_flowchart-v2-pointEnd)\" data-points=\"W3sieCI6MTU2LjkzNzUsInkiOjE3NzB9LHsieCI6MTU2LjkzNzUsInkiOjE3OTV9LHsieCI6MTU2LjkzNzUsInkiOjE4MjB9XQ==\" data-id=\"L_N3_N4_28\" data-et=\"edge\" data-edge=\"true\" style=\"\" class=\"edge-thickness-normal edge-pattern-solid edge-thickness-normal edge-pattern-solid flowchart-link\" id=\"L_N3_N4_28\" d=\"M156.9375,1770L156.9375,1795L156.9375,1807.5L156.9375,1816\"/></g><g class=\"edgeLabels\"><g class=\"edgeLabel\"><g transform=\"translate(0, 0)\" data-id=\"L_A_B_0\" class=\"label\"><foreignObject height=\"0\" width=\"0\"><div class=\"labelBkg\" xmlns=\"http://www.w3.org/1999/xhtml\" style=\"display: table-cell; white-space: normal; line-height: 1.5; max-width: 200px; text-align: center;\"><span class=\"edgeLabel\"></span></div></foreignObject></g></g><g class=\"edgeLabel\"><g transform=\"translate(0, 0)\" data-id=\"L_B_C_1\" class=\"label\"><foreignObject height=\"0\" width=\"0\"><div class=\"labelBkg\" xmlns=\"http://www.w3.org/1999/xhtml\" style=\"display: table-cell; white-space: normal; line-height: 1.5; max-width: 200px; text-align: center;\"><span class=\"edgeLabel\"></span></div></foreignObject></g></g><g class=\"edgeLabel\"><g transform=\"translate(0, 0)\" data-id=\"L_C_D_2\" class=\"label\"><foreignObject height=\"0\" width=\"0\"><div class=\"labelBkg\" xmlns=\"http://www.w3.org/1999/xhtml\" style=\"display: table-cell; white-space: normal; line-height: 1.5; max-width: 200px; text-align: center;\"><span class=\"edgeLabel\"></span></div></foreignObject></g></g><g class=\"edgeLabel\"><g transform=\"translate(0, 0)\" data-id=\"L_D_E_3\" class=\"label\"><foreignObject height=\"0\" width=\"0\"><div class=\"labelBkg\" xmlns=\"http://www.w3.org/1999/xhtml\" style=\"display: table-cell; white-space: normal; line-height: 1.5; max-width: 200px; text-align: center;\"><span class=\"edgeLabel\"></span></div></foreignObject></g></g><g class=\"edgeLabel\"><g transform=\"translate(0, 0)\" data-id=\"L_E_F_4\" class=\"label\"><foreignObject height=\"0\" width=\"0\"><div class=\"labelBkg\" xmlns=\"http://www.w3.org/1999/xhtml\" style=\"display: table-cell; white-space: normal; line-height: 1.5; max-width: 200px; text-align: center;\"><span class=\"edgeLabel\"></span></div></foreignObject></g></g><g class=\"edgeLabel\"><g transform=\"translate(0, 0)\" data-id=\"L_F_G_5\" class=\"label\"><foreignObject height=\"0\" width=\"0\"><div class=\"labelBkg\" xmlns=\"http://www.w3.org/1999/xhtml\" style=\"display: table-cell; white-space: normal; line-height: 1.5; max-width: 200px; text-align: center;\"><span class=\"edgeLabel\"></span></div></foreignObject></g></g><g class=\"edgeLabel\"><g transform=\"translate(0, 0)\" data-id=\"L_G_H_6\" class=\"label\"><foreignObject height=\"0\" width=\"0\"><div class=\"labelBkg\" xmlns=\"http://www.w3.org/1999/xhtml\" style=\"display: table-cell; white-space: normal; line-height: 1.5; max-width: 200px; text-align: center;\"><span class=\"edgeLabel\"></span></div></foreignObject></g></g><g class=\"edgeLabel\"><g transform=\"translate(0, 0)\" data-id=\"L_H_I_7\" class=\"label\"><foreignObject height=\"0\" width=\"0\"><div class=\"labelBkg\" xmlns=\"http://www.w3.org/1999/xhtml\" style=\"display: table-cell; white-space: normal; line-height: 1.5; max-width: 200px; text-align: center;\"><span class=\"edgeLabel\"></span></div></foreignObject></g></g><g class=\"edgeLabel\"><g transform=\"translate(0, 0)\" data-id=\"L_I_J_8\" class=\"label\"><foreignObject height=\"0\" width=\"0\"><div class=\"labelBkg\" xmlns=\"http://www.w3.org/1999/xhtml\" style=\"display: table-cell; white-space: normal; line-height: 1.5; max-width: 200px; text-align: center;\"><span class=\"edgeLabel\"></span></div></foreignObject></g></g><g class=\"edgeLabel\"><g transform=\"translate(0, 0)\" data-id=\"L_J_K_9\" class=\"label\"><foreignObject height=\"0\" width=\"0\"><div class=\"labelBkg\" xmlns=\"http://www.w3.org/1999/xhtml\" style=\"display: table-cell; white-space: normal; line-height: 1.5; max-width: 200px; text-align: center;\"><span class=\"edgeLabel\"></span></div></foreignObject></g></g><g class=\"edgeLabel\"><g transform=\"translate(0, 0)\" data-id=\"L_K_L_10\" class=\"label\"><foreignObject height=\"0\" width=\"0\"><div class=\"labelBkg\" xmlns=\"http://www.w3.org/1999/xhtml\" style=\"display: table-cell; white-space: normal; line-height: 1.5; max-width: 200px; text-align: center;\"><span class=\"edgeLabel\"></span></div></foreignObject></g></g><g class=\"edgeLabel\"><g transform=\"translate(0, 0)\" data-id=\"L_L_M_11\" class=\"label\"><foreignObject height=\"0\" width=\"0\"><div class=\"labelBkg\" xmlns=\"http://www.w3.org/1999/xhtml\" style=\"display: table-cell; white-space: normal; line-height: 1.5; max-width: 200px; text-align: center;\"><span class=\"edgeLabel\"></span></div></foreignObject></g></g><g class=\"edgeLabel\"><g transform=\"translate(0, 0)\" data-id=\"L_M_N_12\" class=\"label\"><foreignObject height=\"0\" width=\"0\"><div class=\"labelBkg\" xmlns=\"http://www.w3.org/1999/xhtml\" style=\"display: table-cell; white-space: normal; line-height: 1.5; max-width: 200px; text-align: center;\"><span class=\"edgeLabel\"></span></div></foreignObject></g></g><g class=\"edgeLabel\"><g transform=\"translate(0, 0)\" data-id=\"L_N_O_13\" class=\"label\"><foreignObject height=\"0\" width=\"0\"><div class=\"labelBkg\" xmlns=\"http://www.w3.org/1999/xhtml\" style=\"display: table-cell; white-space: normal; line-height: 1.5; max-width: 200px; text-align: center;\"><span class=\"edgeLabel\"></span></div></foreignObject></g></g><g class=\"edgeLabel\"><g transform=\"translate(0, 0)\" data-id=\"L_O_P_14\" class=\"label\"><foreignObject height=\"0\" width=\"0\"><div class=\"labelBkg\" xmlns=\"http://www.w3.org/1999/xhtml\" style=\"display: table-cell; white-space: normal; line-height: 1.5; max-width: 200px; text-align: center;\"><span class=\"edgeLabel\"></span></div></foreignObject></g></g><g class=\"edgeLabel\"><g transform=\"translate(0, 0)\" data-id=\"L_B_C_15\" class=\"label\"><foreignObject height=\"0\" width=\"0\"><div class=\"labelBkg\" xmlns=\"http://www.w3.org/1999/xhtml\" style=\"display: table-cell; white-space: normal; line-height: 1.5; max-width: 200px; text-align: center;\"><span class=\"edgeLabel\"></span></div></foreignObject></g></g><g class=\"edgeLabel\"><g transform=\"translate(0, 0)\" data-id=\"L_C_D_16\" class=\"label\"><foreignObject height=\"0\" width=\"0\"><div class=\"labelBkg\" xmlns=\"http://www.w3.org/1999/xhtml\" style=\"display: table-cell; white-space: normal; line-height: 1.5; max-width: 200px; text-align: center;\"><span class=\"edgeLabel\"></span></div></foreignObject></g></g><g class=\"edgeLabel\"><g transform=\"translate(0, 0)\" data-id=\"L_D_E_17\" class=\"label\"><foreignObject height=\"0\" width=\"0\"><div class=\"labelBkg\" xmlns=\"http://www.w3.org/1999/xhtml\" style=\"display: table-cell; white-space: normal; line-height: 1.5; max-width: 200px; text-align: center;\"><span class=\"edgeLabel\"></span></div></foreignObject></g></g><g class=\"edgeLabel\"><g transform=\"translate(0, 0)\" data-id=\"L_E_F_18\" class=\"label\"><foreignObject height=\"0\" width=\"0\"><div class=\"labelBkg\" xmlns=\"http://www.w3.org/1999/xhtml\" style=\"display: table-cell; white-space: normal; line-height: 1.5; max-width: 200px; text-align: center;\"><span class=\"edgeLabel\"></span></div></foreignObject></g></g><g class=\"edgeLabel\"><g transform=\"translate(0, 0)\" data-id=\"L_F_G_19\" class=\"label\"><foreignObject height=\"0\" width=\"0\"><div class=\"labelBkg\" xmlns=\"http://www.w3.org/1999/xhtml\" style=\"display: table-cell; white-space: normal; line-height: 1.5; max-width: 200px; text-align: center;\"><span class=\"edgeLabel\"></span></div></foreignObject></g></g><g class=\"edgeLabel\"><g transform=\"translate(0, 0)\" data-id=\"L_I_J1_20\" class=\"label\"><foreignObject height=\"0\" width=\"0\"><div class=\"labelBkg\" xmlns=\"http://www.w3.org/1999/xhtml\" style=\"display: table-cell; white-space: normal; line-height: 1.5; max-width: 200px; text-align: center;\"><span class=\"edgeLabel\"></span></div></foreignObject></g></g><g class=\"edgeLabel\"><g transform=\"translate(0, 0)\" data-id=\"L_I_J2_21\" class=\"label\"><foreignObject height=\"0\" width=\"0\"><div class=\"labelBkg\" xmlns=\"http://www.w3.org/1999/xhtml\" style=\"display: table-cell; white-space: normal; line-height: 1.5; max-width: 200px; text-align: center;\"><span class=\"edgeLabel\"></span></div></foreignObject></g></g><g class=\"edgeLabel\"><g transform=\"translate(0, 0)\" data-id=\"L_J_J3_22\" class=\"label\"><foreignObject height=\"0\" width=\"0\"><div class=\"labelBkg\" xmlns=\"http://www.w3.org/1999/xhtml\" style=\"display: table-cell; white-space: normal; line-height: 1.5; max-width: 200px; text-align: center;\"><span class=\"edgeLabel\"></span></div></foreignObject></g></g><g class=\"edgeLabel\"><g transform=\"translate(0, 0)\" data-id=\"L_K_L1_23\" class=\"label\"><foreignObject height=\"0\" width=\"0\"><div class=\"labelBkg\" xmlns=\"http://www.w3.org/1999/xhtml\" style=\"display: table-cell; white-space: normal; line-height: 1.5; max-width: 200px; text-align: center;\"><span class=\"edgeLabel\"></span></div></foreignObject></g></g><g class=\"edgeLabel\"><g transform=\"translate(0, 0)\" data-id=\"L_L1_L2_24\" class=\"label\"><foreignObject height=\"0\" width=\"0\"><div class=\"labelBkg\" xmlns=\"http://www.w3.org/1999/xhtml\" style=\"display: table-cell; white-space: normal; line-height: 1.5; max-width: 200px; text-align: center;\"><span class=\"edgeLabel\"></span></div></foreignObject></g></g><g class=\"edgeLabel\"><g transform=\"translate(0, 0)\" data-id=\"L_M_N1_25\" class=\"label\"><foreignObject height=\"0\" width=\"0\"><div class=\"labelBkg\" xmlns=\"http://www.w3.org/1999/xhtml\" style=\"display: table-cell; white-space: normal; line-height: 1.5; max-width: 200px; text-align: center;\"><span class=\"edgeLabel\"></span></div></foreignObject></g></g><g class=\"edgeLabel\"><g transform=\"translate(0, 0)\" data-id=\"L_N1_N2_26\" class=\"label\"><foreignObject height=\"0\" width=\"0\"><div class=\"labelBkg\" xmlns=\"http://www.w3.org/1999/xhtml\" style=\"display: table-cell; white-space: normal; line-height: 1.5; max-width: 200px; text-align: center;\"><span class=\"edgeLabel\"></span></div></foreignObject></g></g><g class=\"edgeLabel\"><g transform=\"translate(0, 0)\" data-id=\"L_N2_N3_27\" class=\"label\"><foreignObject height=\"0\" width=\"0\"><div class=\"labelBkg\" xmlns=\"http://www.w3.org/1999/xhtml\" style=\"display: table-cell; white-space: normal; line-height: 1.5; max-width: 200px; text-align: center;\"><span class=\"edgeLabel\"></span></div></foreignObject></g></g><g class=\"edgeLabel\"><g transform=\"translate(0, 0)\" data-id=\"L_N3_N4_28\" class=\"label\"><foreignObject height=\"0\" width=\"0\"><div class=\"labelBkg\" xmlns=\"http://www.w3.org/1999/xhtml\" style=\"display: table-cell; white-space: normal; line-height: 1.5; max-width: 200px; text-align: center;\"><span class=\"edgeLabel\"></span></div></foreignObject></g></g></g><g class=\"nodes\"><g transform=\"translate(984.92578125, 33.5)\" data-look=\"neo\" data-et=\"node\" data-node=\"true\" data-id=\"A\" id=\"flowchart-A-644\" class=\"node default\"><rect stroke=\"url(#gradient)\" height=\"51\" width=\"89.578125\" y=\"-25.5\" x=\"-44.7890625\" data-id=\"A\" style=\"fill:#f9f !important;stroke:#333 !important;stroke-width:4px !important\" class=\"basic label-container\"/><g transform=\"translate(-14.7890625, -10.5)\" style=\"\" class=\"label\"><rect/><foreignObject height=\"21\" width=\"29.578125\"><div xmlns=\"http://www.w3.org/1999/xhtml\" style=\"display: table-cell; white-space: normal; line-height: 1.5; max-width: 200px; text-align: center;\"><span class=\"nodeLabel\"><p>Start</p></span></div></foreignObject></g></g><g transform=\"translate(984.92578125, 159.5)\" data-look=\"neo\" data-et=\"node\" data-node=\"true\" data-id=\"B\" id=\"flowchart-B-645\" class=\"node default\"><rect stroke=\"url(#gradient)\" height=\"51\" width=\"179.859375\" y=\"-25.5\" x=\"-89.9296875\" data-id=\"B\" style=\"\" class=\"basic label-container\"/><g transform=\"translate(-59.9296875, -10.5)\" style=\"\" class=\"label\"><rect/><foreignObject height=\"21\" width=\"119.859375\"><div xmlns=\"http://www.w3.org/1999/xhtml\" style=\"display: table-cell; white-space: normal; line-height: 1.5; max-width: 200px; text-align: center;\"><span class=\"nodeLabel\"><p>Prepare Sentences</p></span></div></foreignObject></g></g><g transform=\"translate(984.92578125, 260.5)\" data-look=\"neo\" data-et=\"node\" data-node=\"true\" data-id=\"C\" id=\"flowchart-C-647\" class=\"node default\"><rect stroke=\"url(#gradient)\" height=\"51\" width=\"214.84375\" y=\"-25.5\" x=\"-107.421875\" data-id=\"C\" style=\"\" class=\"basic label-container\"/><g transform=\"translate(-77.421875, -10.5)\" style=\"\" class=\"label\"><rect/><foreignObject height=\"21\" width=\"154.84375\"><div xmlns=\"http://www.w3.org/1999/xhtml\" style=\"display: table-cell; white-space: normal; line-height: 1.5; max-width: 200px; text-align: center;\"><span class=\"nodeLabel\"><p>Add START/END Tokens</p></span></div></foreignObject></g></g><g transform=\"translate(984.92578125, 361.5)\" data-look=\"neo\" data-et=\"node\" data-node=\"true\" data-id=\"D\" id=\"flowchart-D-649\" class=\"node default\"><rect stroke=\"url(#gradient)\" height=\"51\" width=\"172.578125\" y=\"-25.5\" x=\"-86.2890625\" data-id=\"D\" style=\"\" class=\"basic label-container\"/><g transform=\"translate(-56.2890625, -10.5)\" style=\"\" class=\"label\"><rect/><foreignObject height=\"21\" width=\"112.578125\"><div xmlns=\"http://www.w3.org/1999/xhtml\" style=\"display: table-cell; white-space: normal; line-height: 1.5; max-width: 200px; text-align: center;\"><span class=\"nodeLabel\"><p>Create Tokenizers</p></span></div></foreignObject></g></g><g transform=\"translate(984.92578125, 473)\" data-look=\"neo\" data-et=\"node\" data-node=\"true\" data-id=\"E\" id=\"flowchart-E-651\" class=\"node default\"><rect stroke=\"url(#gradient)\" height=\"72\" width=\"260\" y=\"-36\" x=\"-130\" data-id=\"E\" style=\"\" class=\"basic label-container\"/><g transform=\"translate(-100, -21)\" style=\"\" class=\"label\"><rect/><foreignObject height=\"42\" width=\"200\"><div xmlns=\"http://www.w3.org/1999/xhtml\" style=\"display: table; white-space: break-spaces; line-height: 1.5; max-width: 200px; text-align: center; width: 200px;\"><span class=\"nodeLabel\"><p>Convert Sentences to Sequences</p></span></div></foreignObject></g></g><g transform=\"translate(984.92578125, 584.5)\" data-look=\"neo\" data-et=\"node\" data-node=\"true\" data-id=\"F\" id=\"flowchart-F-653\" class=\"node default\"><rect stroke=\"url(#gradient)\" height=\"51\" width=\"158.859375\" y=\"-25.5\" x=\"-79.4296875\" data-id=\"F\" style=\"\" class=\"basic label-container\"/><g transform=\"translate(-49.4296875, -10.5)\" style=\"\" class=\"label\"><rect/><foreignObject height=\"21\" width=\"98.859375\"><div xmlns=\"http://www.w3.org/1999/xhtml\" style=\"display: table-cell; white-space: normal; line-height: 1.5; max-width: 200px; text-align: center;\"><span class=\"nodeLabel\"><p>Pad Sequences</p></span></div></foreignObject></g></g><g transform=\"translate(984.92578125, 685.5)\" data-look=\"neo\" data-et=\"node\" data-node=\"true\" data-id=\"G\" id=\"flowchart-G-655\" class=\"node default\"><rect stroke=\"url(#gradient)\" height=\"51\" width=\"185.828125\" y=\"-25.5\" x=\"-92.9140625\" data-id=\"G\" style=\"\" class=\"basic label-container\"/><g transform=\"translate(-62.9140625, -10.5)\" style=\"\" class=\"label\"><rect/><foreignObject height=\"21\" width=\"125.828125\"><div xmlns=\"http://www.w3.org/1999/xhtml\" style=\"display: table-cell; white-space: normal; line-height: 1.5; max-width: 200px; text-align: center;\"><span class=\"nodeLabel\"><p>Prepare Target Data</p></span></div></foreignObject></g></g><g transform=\"translate(984.92578125, 811.5)\" data-look=\"neo\" data-et=\"node\" data-node=\"true\" data-id=\"H\" id=\"flowchart-H-657\" class=\"node default\"><rect stroke=\"url(#gradient)\" height=\"51\" width=\"204.765625\" y=\"-25.5\" x=\"-102.3828125\" data-id=\"H\" style=\"\" class=\"basic label-container\"/><g transform=\"translate(-72.3828125, -10.5)\" style=\"\" class=\"label\"><rect/><foreignObject height=\"21\" width=\"144.765625\"><div xmlns=\"http://www.w3.org/1999/xhtml\" style=\"display: table-cell; white-space: normal; line-height: 1.5; max-width: 200px; text-align: center;\"><span class=\"nodeLabel\"><p>Define Vocabulary Size</p></span></div></foreignObject></g></g><g transform=\"translate(984.92578125, 937.5)\" data-look=\"neo\" data-et=\"node\" data-node=\"true\" data-id=\"I\" id=\"flowchart-I-659\" class=\"node default\"><rect stroke=\"url(#gradient)\" height=\"51\" width=\"200.078125\" y=\"-25.5\" x=\"-100.0390625\" data-id=\"I\" style=\"\" class=\"basic label-container\"/><g transform=\"translate(-70.0390625, -10.5)\" style=\"\" class=\"label\"><rect/><foreignObject height=\"21\" width=\"140.078125\"><div xmlns=\"http://www.w3.org/1999/xhtml\" style=\"display: table-cell; white-space: normal; line-height: 1.5; max-width: 200px; text-align: center;\"><span class=\"nodeLabel\"><p>Create Encoder Model</p></span></div></foreignObject></g></g><g transform=\"translate(749.62109375, 1038.5)\" data-look=\"neo\" data-et=\"node\" data-node=\"true\" data-id=\"J\" id=\"flowchart-J-661\" class=\"node default\"><rect stroke=\"url(#gradient)\" height=\"51\" width=\"200.859375\" y=\"-25.5\" x=\"-100.4296875\" data-id=\"J\" style=\"\" class=\"basic label-container\"/><g transform=\"translate(-70.4296875, -10.5)\" style=\"\" class=\"label\"><rect/><foreignObject height=\"21\" width=\"140.859375\"><div xmlns=\"http://www.w3.org/1999/xhtml\" style=\"display: table-cell; white-space: normal; line-height: 1.5; max-width: 200px; text-align: center;\"><span class=\"nodeLabel\"><p>Create Decoder Model</p></span></div></foreignObject></g></g><g transform=\"translate(443.44921875, 1164.5)\" data-look=\"neo\" data-et=\"node\" data-node=\"true\" data-id=\"K\" id=\"flowchart-K-663\" class=\"node default\"><rect stroke=\"url(#gradient)\" height=\"51\" width=\"153.375\" y=\"-25.5\" x=\"-76.6875\" data-id=\"K\" style=\"\" class=\"basic label-container\"/><g transform=\"translate(-46.6875, -10.5)\" style=\"\" class=\"label\"><rect/><foreignObject height=\"21\" width=\"93.375\"><div xmlns=\"http://www.w3.org/1999/xhtml\" style=\"display: table-cell; white-space: normal; line-height: 1.5; max-width: 200px; text-align: center;\"><span class=\"nodeLabel\"><p>Compile Model</p></span></div></foreignObject></g></g><g transform=\"translate(162.82421875, 1290.5)\" data-look=\"neo\" data-et=\"node\" data-node=\"true\" data-id=\"L\" id=\"flowchart-L-665\" class=\"node default\"><rect stroke=\"url(#gradient)\" height=\"51\" width=\"133.40625\" y=\"-25.5\" x=\"-66.703125\" data-id=\"L\" style=\"\" class=\"basic label-container\"/><g transform=\"translate(-36.703125, -10.5)\" style=\"\" class=\"label\"><rect/><foreignObject height=\"21\" width=\"73.40625\"><div xmlns=\"http://www.w3.org/1999/xhtml\" style=\"display: table-cell; white-space: normal; line-height: 1.5; max-width: 200px; text-align: center;\"><span class=\"nodeLabel\"><p>Train Model</p></span></div></foreignObject></g></g><g transform=\"translate(162.82421875, 1416.5)\" data-look=\"neo\" data-et=\"node\" data-node=\"true\" data-id=\"M\" id=\"flowchart-M-667\" class=\"node default\"><rect stroke=\"url(#gradient)\" height=\"51\" width=\"213.3125\" y=\"-25.5\" x=\"-106.65625\" data-id=\"M\" style=\"\" class=\"basic label-container\"/><g transform=\"translate(-76.65625, -10.5)\" style=\"\" class=\"label\"><rect/><foreignObject height=\"21\" width=\"153.3125\"><div xmlns=\"http://www.w3.org/1999/xhtml\" style=\"display: table-cell; white-space: normal; line-height: 1.5; max-width: 200px; text-align: center;\"><span class=\"nodeLabel\"><p>Create Inference Models</p></span></div></foreignObject></g></g><g transform=\"translate(465.48828125, 1542.5)\" data-look=\"neo\" data-et=\"node\" data-node=\"true\" data-id=\"N\" id=\"flowchart-N-669\" class=\"node default\"><rect stroke=\"url(#gradient)\" height=\"51\" width=\"237.453125\" y=\"-25.5\" x=\"-118.7265625\" data-id=\"N\" style=\"\" class=\"basic label-container\"/><g transform=\"translate(-88.7265625, -10.5)\" style=\"\" class=\"label\"><rect/><foreignObject height=\"21\" width=\"177.453125\"><div xmlns=\"http://www.w3.org/1999/xhtml\" style=\"display: table-cell; white-space: normal; line-height: 1.5; max-width: 200px; text-align: center;\"><span class=\"nodeLabel\"><p>Decoder Sequence Function</p></span></div></foreignObject></g></g><g transform=\"translate(465.48828125, 1643.5)\" data-look=\"neo\" data-et=\"node\" data-node=\"true\" data-id=\"O\" id=\"flowchart-O-671\" class=\"node default\"><rect stroke=\"url(#gradient)\" height=\"51\" width=\"158.0625\" y=\"-25.5\" x=\"-79.03125\" data-id=\"O\" style=\"\" class=\"basic label-container\"/><g transform=\"translate(-49.03125, -10.5)\" style=\"\" class=\"label\"><rect/><foreignObject height=\"21\" width=\"98.0625\"><div xmlns=\"http://www.w3.org/1999/xhtml\" style=\"display: table-cell; white-space: normal; line-height: 1.5; max-width: 200px; text-align: center;\"><span class=\"nodeLabel\"><p>Test Translation</p></span></div></foreignObject></g></g><g transform=\"translate(465.48828125, 1744.5)\" data-look=\"neo\" data-et=\"node\" data-node=\"true\" data-id=\"P\" id=\"flowchart-P-673\" class=\"node default\"><rect stroke=\"url(#gradient)\" height=\"51\" width=\"84.921875\" y=\"-25.5\" x=\"-42.4609375\" data-id=\"P\" style=\"fill:#bbf !important;stroke:#333 !important;stroke-width:4px !important\" class=\"basic label-container\"/><g transform=\"translate(-12.4609375, -10.5)\" style=\"\" class=\"label\"><rect/><foreignObject height=\"21\" width=\"24.921875\"><div xmlns=\"http://www.w3.org/1999/xhtml\" style=\"display: table-cell; white-space: normal; line-height: 1.5; max-width: 200px; text-align: center;\"><span class=\"nodeLabel\"><p>End</p></span></div></foreignObject></g></g><g transform=\"translate(984.92578125, 1038.5)\" data-look=\"neo\" data-et=\"node\" data-node=\"true\" data-id=\"J1\" id=\"flowchart-J1-685\" class=\"node default\"><rect stroke=\"url(#gradient)\" height=\"51\" width=\"169.75\" y=\"-25.5\" x=\"-84.875\" data-id=\"J1\" style=\"\" class=\"basic label-container\"/><g transform=\"translate(-54.875, -10.5)\" style=\"\" class=\"label\"><rect/><foreignObject height=\"21\" width=\"109.75\"><div xmlns=\"http://www.w3.org/1999/xhtml\" style=\"display: table-cell; white-space: normal; line-height: 1.5; max-width: 200px; text-align: center;\"><span class=\"nodeLabel\"><p>Embedding Layer</p></span></div></foreignObject></g></g><g transform=\"translate(1187.92578125, 1038.5)\" data-look=\"neo\" data-et=\"node\" data-node=\"true\" data-id=\"J2\" id=\"flowchart-J2-687\" class=\"node default\"><rect stroke=\"url(#gradient)\" height=\"51\" width=\"136.25\" y=\"-25.5\" x=\"-68.125\" data-id=\"J2\" style=\"\" class=\"basic label-container\"/><g transform=\"translate(-38.125, -10.5)\" style=\"\" class=\"label\"><rect/><foreignObject height=\"21\" width=\"76.25\"><div xmlns=\"http://www.w3.org/1999/xhtml\" style=\"display: table-cell; white-space: normal; line-height: 1.5; max-width: 200px; text-align: center;\"><span class=\"nodeLabel\"><p>LSTM Layer</p></span></div></foreignObject></g></g><g transform=\"translate(967.98828125, 1164.5)\" data-look=\"neo\" data-et=\"node\" data-node=\"true\" data-id=\"J3\" id=\"flowchart-J3-689\" class=\"node default\"><rect stroke=\"url(#gradient)\" height=\"51\" width=\"139.390625\" y=\"-25.5\" x=\"-69.6953125\" data-id=\"J3\" style=\"\" class=\"basic label-container\"/><g transform=\"translate(-39.6953125, -10.5)\" style=\"\" class=\"label\"><rect/><foreignObject height=\"21\" width=\"79.390625\"><div xmlns=\"http://www.w3.org/1999/xhtml\" style=\"display: table-cell; white-space: normal; line-height: 1.5; max-width: 200px; text-align: center;\"><span class=\"nodeLabel\"><p>Dense Layer</p></span></div></foreignObject></g></g><g transform=\"translate(463.44921875, 1290.5)\" data-look=\"neo\" data-et=\"node\" data-node=\"true\" data-id=\"L1\" id=\"flowchart-L1-691\" class=\"node default\"><rect stroke=\"url(#gradient)\" height=\"51\" width=\"117.578125\" y=\"-25.5\" x=\"-58.7890625\" data-id=\"L1\" style=\"\" class=\"basic label-container\"/><g transform=\"translate(-28.7890625, -10.5)\" style=\"\" class=\"label\"><rect/><foreignObject height=\"21\" width=\"57.578125\"><div xmlns=\"http://www.w3.org/1999/xhtml\" style=\"display: table-cell; white-space: normal; line-height: 1.5; max-width: 200px; text-align: center;\"><span class=\"nodeLabel\"><p>Fit Model</p></span></div></foreignObject></g></g><g transform=\"translate(463.44921875, 1416.5)\" data-look=\"neo\" data-et=\"node\" data-node=\"true\" data-id=\"L2\" id=\"flowchart-L2-693\" class=\"node default\"><rect stroke=\"url(#gradient)\" height=\"51\" width=\"191.484375\" y=\"-25.5\" x=\"-95.7421875\" data-id=\"L2\" style=\"\" class=\"basic label-container\"/><g transform=\"translate(-65.7421875, -10.5)\" style=\"\" class=\"label\"><rect/><foreignObject height=\"21\" width=\"131.484375\"><div xmlns=\"http://www.w3.org/1999/xhtml\" style=\"display: table-cell; white-space: normal; line-height: 1.5; max-width: 200px; text-align: center;\"><span class=\"nodeLabel\"><p>Optimize Parameters</p></span></div></foreignObject></g></g><g transform=\"translate(156.9375, 1542.5)\" data-look=\"neo\" data-et=\"node\" data-node=\"true\" data-id=\"N1\" id=\"flowchart-N1-695\" class=\"node default\"><rect stroke=\"url(#gradient)\" height=\"51\" width=\"142.515625\" y=\"-25.5\" x=\"-71.2578125\" data-id=\"N1\" style=\"\" class=\"basic label-container\"/><g transform=\"translate(-41.2578125, -10.5)\" style=\"\" class=\"label\"><rect/><foreignObject height=\"21\" width=\"82.515625\"><div xmlns=\"http://www.w3.org/1999/xhtml\" style=\"display: table-cell; white-space: normal; line-height: 1.5; max-width: 200px; text-align: center;\"><span class=\"nodeLabel\"><p>Encode Input</p></span></div></foreignObject></g></g><g transform=\"translate(156.9375, 1643.5)\" data-look=\"neo\" data-et=\"node\" data-node=\"true\" data-id=\"N2\" id=\"flowchart-N2-697\" class=\"node default\"><rect stroke=\"url(#gradient)\" height=\"51\" width=\"227.875\" y=\"-25.5\" x=\"-113.9375\" data-id=\"N2\" style=\"\" class=\"basic label-container\"/><g transform=\"translate(-83.9375, -10.5)\" style=\"\" class=\"label\"><rect/><foreignObject height=\"21\" width=\"167.875\"><div xmlns=\"http://www.w3.org/1999/xhtml\" style=\"display: table-cell; white-space: normal; line-height: 1.5; max-width: 200px; text-align: center;\"><span class=\"nodeLabel\"><p>Generate Target Sequence</p></span></div></foreignObject></g></g><g transform=\"translate(156.9375, 1744.5)\" data-look=\"neo\" data-et=\"node\" data-node=\"true\" data-id=\"N3\" id=\"flowchart-N3-699\" class=\"node default\"><rect stroke=\"url(#gradient)\" height=\"51\" width=\"177.25\" y=\"-25.5\" x=\"-88.625\" data-id=\"N3\" style=\"\" class=\"basic label-container\"/><g transform=\"translate(-58.625, -10.5)\" style=\"\" class=\"label\"><rect/><foreignObject height=\"21\" width=\"117.25\"><div xmlns=\"http://www.w3.org/1999/xhtml\" style=\"display: table-cell; white-space: normal; line-height: 1.5; max-width: 200px; text-align: center;\"><span class=\"nodeLabel\"><p>Predict Next Token</p></span></div></foreignObject></g></g><g transform=\"translate(156.9375, 1845.5)\" data-look=\"neo\" data-et=\"node\" data-node=\"true\" data-id=\"N4\" id=\"flowchart-N4-701\" class=\"node default\"><rect stroke=\"url(#gradient)\" height=\"51\" width=\"175.203125\" y=\"-25.5\" x=\"-87.6015625\" data-id=\"N4\" style=\"\" class=\"basic label-container\"/><g transform=\"translate(-57.6015625, -10.5)\" style=\"\" class=\"label\"><rect/><foreignObject height=\"21\" width=\"115.203125\"><div xmlns=\"http://www.w3.org/1999/xhtml\" style=\"display: table-cell; white-space: normal; line-height: 1.5; max-width: 200px; text-align: center;\"><span class=\"nodeLabel\"><p>Decode Sequence</p></span></div></foreignObject></g></g><g transform=\"translate(1128.78515625, 33.5)\" data-look=\"neo\" data-et=\"node\" data-node=\"true\" data-id=\"Model\" id=\"flowchart-Model-705\" class=\"node default\"><rect stroke=\"url(#gradient)\" height=\"51\" width=\"98.140625\" y=\"-25.5\" x=\"-49.0703125\" data-id=\"Model\" style=\"Architecture fill:#e6f2ff !important;stroke:#333 !important;stroke-width:2px !important\" class=\"basic label-container\"/><g transform=\"translate(-19.0703125, -10.5)\" style=\"\" class=\"label\"><rect/><foreignObject height=\"21\" width=\"38.140625\"><div xmlns=\"http://www.w3.org/1999/xhtml\" style=\"display: table-cell; white-space: normal; line-height: 1.5; max-width: 200px; text-align: center;\"><span class=\"nodeLabel\"><p>Model</p></span></div></foreignObject></g></g></g></g></g><linearGradient y2=\"0%\" x2=\"100%\" y1=\"0%\" x1=\"0%\" gradientUnits=\"objectBoundingBox\" id=\"export-svg-gradient\"><stop stop-opacity=\"1\" stop-color=\"#0042eb\" offset=\"0%\"/><stop stop-opacity=\"1\" stop-color=\"#eb0042\" offset=\"100%\"/></linearGradient></svg>"
   ]
  },
  {
   "cell_type": "code",
   "execution_count": 73,
   "metadata": {
    "id": "J_kPXqD11D3K"
   },
   "outputs": [],
   "source": [
    "import numpy as np\n",
    "from tensorflow.keras.models import Model\n",
    "from tensorflow.keras.layers import Input, Dense, Embedding\n",
    "from tensorflow.keras.preprocessing.text import Tokenizer\n",
    "from tensorflow.keras.preprocessing.sequence import pad_sequences\n",
    "from tensorflow.keras.callbacks import EarlyStopping\n",
    "from tensorflow.keras.layers import LSTM\n"
   ]
  },
  {
   "cell_type": "code",
   "execution_count": 74,
   "metadata": {
    "id": "MYftQ8BHRhdD"
   },
   "outputs": [],
   "source": [
    "english_sentences = [\n",
    "    'hello', 'how are you', 'good morning', 'good night', 'thank you',\n",
    "    'please', 'yes', 'no', 'excuse me', 'sorry',\n",
    "    'what is your name', 'my name is', 'where are you from', 'I am from',\n",
    "    'do you speak English', 'I speak a little French', 'goodbye', 'see you later',\n",
    "    'I love you', 'help me', 'how much is this', 'can you help me',\n",
    "    'happy birthday', 'congratulations', 'I am hungry', 'I am thirsty'\n",
    "]\n",
    "\n",
    "french_sentences = [\n",
    "    'Bonjour', 'comment vas-tu', 'bonjour', 'bonne nuit', 'merci',\n",
    "    's’il vous plaît', 'oui', 'non', 'excusez-moi', 'désolé',\n",
    "    'comment vous appelez-vous', 'je m’appelle', 'd’où viens-tu', 'je viens de',\n",
    "    'parlez-vous anglais', 'je parle un peu français', 'au revoir', 'à plus tard',\n",
    "    'je t’aime', 'aidez-moi', 'combien ça coûte', 'pouvez-vous m’aider',\n",
    "    'joyeux anniversaire', 'félicitations', 'j’ai faim', 'j’ai soif'\n",
    "]\n"
   ]
  },
  {
   "cell_type": "code",
   "execution_count": 75,
   "metadata": {
    "id": "--xzQyfX5URk"
   },
   "outputs": [],
   "source": [
    "english_sentences =['hello', 'how are you', 'good morning', 'good night', 'thank you']\n",
    "french_sentences = ['Bonjour', 'comment vas-tu' ,'bonjour','bonne nuit', 'merci']"
   ]
  },
  {
   "cell_type": "code",
   "execution_count": 76,
   "metadata": {
    "id": "OcuoJu-151SH"
   },
   "outputs": [],
   "source": [
    "# Adding START and END tokens to french sentences\n",
    "french_sentences = ['starttoken '+ sentence + ' endtoken' for sentence in french_sentences]\n",
    "\n",
    "# Hpyerparameters\n",
    "BATCH_SIZE = 2\n",
    "EPOCHS = 100\n",
    "LATENT_DIM =256 # Dimentionality of the encoding space"
   ]
  },
  {
   "cell_type": "code",
   "execution_count": 77,
   "metadata": {
    "colab": {
     "base_uri": "https://localhost:8080/"
    },
    "id": "a_Ufw64k6bSb",
    "outputId": "17c7347c-4735-461d-cc6a-3cdf3e8ddc7d"
   },
   "outputs": [
    {
     "data": {
      "text/plain": [
       "['starttoken Bonjour endtoken',\n",
       " 'starttoken comment vas-tu endtoken',\n",
       " 'starttoken bonjour endtoken',\n",
       " 'starttoken bonne nuit endtoken',\n",
       " 'starttoken merci endtoken']"
      ]
     },
     "execution_count": 77,
     "metadata": {},
     "output_type": "execute_result"
    }
   ],
   "source": [
    "french_sentences"
   ]
  },
  {
   "cell_type": "code",
   "execution_count": 78,
   "metadata": {
    "id": "Zr1B0l_x6cxW"
   },
   "outputs": [],
   "source": [
    "# Tokenizers\n",
    "eng_tokenizers = Tokenizer(char_level=False)\n",
    "fra_tokenizers = Tokenizer(char_level=False)\n",
    "\n",
    "# Fit tokeniers on sentences\n",
    "eng_tokenizers.fit_on_texts(english_sentences)\n",
    "fra_tokenizers.fit_on_texts(french_sentences)\n"
   ]
  },
  {
   "cell_type": "code",
   "execution_count": 79,
   "metadata": {
    "colab": {
     "base_uri": "https://localhost:8080/"
    },
    "id": "A3a0eMwN7DtU",
    "outputId": "4af20838-ce2f-4b37-cbc1-61eeed7d7f1c"
   },
   "outputs": [
    {
     "data": {
      "text/plain": [
       "({'you': 1,\n",
       "  'good': 2,\n",
       "  'hello': 3,\n",
       "  'how': 4,\n",
       "  'are': 5,\n",
       "  'morning': 6,\n",
       "  'night': 7,\n",
       "  'thank': 8},\n",
       " {'starttoken': 1,\n",
       "  'endtoken': 2,\n",
       "  'bonjour': 3,\n",
       "  'comment': 4,\n",
       "  'vas': 5,\n",
       "  'tu': 6,\n",
       "  'bonne': 7,\n",
       "  'nuit': 8,\n",
       "  'merci': 9})"
      ]
     },
     "execution_count": 79,
     "metadata": {},
     "output_type": "execute_result"
    }
   ],
   "source": [
    "eng_tokenizers.word_index, fra_tokenizers.word_index,"
   ]
  },
  {
   "cell_type": "code",
   "execution_count": 80,
   "metadata": {
    "id": "nxdwhYNy7oTw"
   },
   "outputs": [],
   "source": [
    "# Convert the sentence into sequences of integers\n",
    "encoder_input_data = eng_tokenizers.texts_to_sequences(english_sentences)\n",
    "decoder_input_data = fra_tokenizers.texts_to_sequences(french_sentences)"
   ]
  },
  {
   "cell_type": "code",
   "execution_count": 81,
   "metadata": {
    "id": "k8aehCI07n3x"
   },
   "outputs": [],
   "source": [
    "# Pad sequence to ensure uniform length\n",
    "max_encoder_seq_lenght = max([len(seq) for seq in encoder_input_data])\n",
    "max_decoder_seq_lenght = max([len(seq) for seq in decoder_input_data])"
   ]
  },
  {
   "cell_type": "code",
   "execution_count": 82,
   "metadata": {
    "colab": {
     "base_uri": "https://localhost:8080/"
    },
    "id": "qpp_ZqO18Zrl",
    "outputId": "91252a4b-ef84-4d6f-836a-42081a8ed0d1"
   },
   "outputs": [
    {
     "data": {
      "text/plain": [
       "(3, 5)"
      ]
     },
     "execution_count": 82,
     "metadata": {},
     "output_type": "execute_result"
    }
   ],
   "source": [
    "max_encoder_seq_lenght , max_decoder_seq_lenght"
   ]
  },
  {
   "cell_type": "code",
   "execution_count": 83,
   "metadata": {
    "id": "z4JZG4Sv8iPD"
   },
   "outputs": [],
   "source": [
    "encoder_input_data = pad_sequences(encoder_input_data, maxlen=max_encoder_seq_lenght, padding='post')\n",
    "decoder_input_data = pad_sequences(decoder_input_data, maxlen=max_decoder_seq_lenght, padding='post')"
   ]
  },
  {
   "cell_type": "code",
   "execution_count": 84,
   "metadata": {
    "colab": {
     "base_uri": "https://localhost:8080/"
    },
    "id": "Umk0i1mj86Gm",
    "outputId": "14976378-f2f9-42a3-a145-ad7f52000207"
   },
   "outputs": [
    {
     "data": {
      "text/plain": [
       "(array([[3, 0, 0],\n",
       "        [4, 5, 1],\n",
       "        [2, 6, 0],\n",
       "        [2, 7, 0],\n",
       "        [8, 1, 0]], dtype=int32),\n",
       " array([[1, 3, 2, 0, 0],\n",
       "        [1, 4, 5, 6, 2],\n",
       "        [1, 3, 2, 0, 0],\n",
       "        [1, 7, 8, 2, 0],\n",
       "        [1, 9, 2, 0, 0]], dtype=int32))"
      ]
     },
     "execution_count": 84,
     "metadata": {},
     "output_type": "execute_result"
    }
   ],
   "source": [
    "encoder_input_data, decoder_input_data"
   ]
  },
  {
   "cell_type": "code",
   "execution_count": 85,
   "metadata": {
    "id": "sNpbBGpO9ED-"
   },
   "outputs": [],
   "source": [
    "# Preparing the target data (decode output, shifted by one time step)\n",
    "decoder_output_data = np.zeros_like(decoder_input_data)\n",
    "decoder_output_data[:,0:-1] = decoder_input_data[:,1:]"
   ]
  },
  {
   "cell_type": "code",
   "execution_count": 86,
   "metadata": {
    "colab": {
     "base_uri": "https://localhost:8080/"
    },
    "id": "-9IEhsqp9odR",
    "outputId": "5153eb9b-abdd-428c-fd13-3bd4810cb5ab"
   },
   "outputs": [
    {
     "data": {
      "text/plain": [
       "(array([[1, 3, 2, 0, 0],\n",
       "        [1, 4, 5, 6, 2],\n",
       "        [1, 3, 2, 0, 0],\n",
       "        [1, 7, 8, 2, 0],\n",
       "        [1, 9, 2, 0, 0]], dtype=int32),\n",
       " array([[3, 2, 0, 0, 0],\n",
       "        [4, 5, 6, 2, 0],\n",
       "        [3, 2, 0, 0, 0],\n",
       "        [7, 8, 2, 0, 0],\n",
       "        [9, 2, 0, 0, 0]], dtype=int32))"
      ]
     },
     "execution_count": 86,
     "metadata": {},
     "output_type": "execute_result"
    }
   ],
   "source": [
    "decoder_input_data, decoder_output_data"
   ]
  },
  {
   "cell_type": "code",
   "execution_count": 87,
   "metadata": {
    "id": "ck0PdRqV90NS"
   },
   "outputs": [],
   "source": [
    "# Deifne the vocabuklary size (total unique tokens)\n",
    "num_encode_tokens = len(eng_tokenizers.word_index)+1\n",
    "num_decode_tokens = len(fra_tokenizers.word_index)+1"
   ]
  },
  {
   "cell_type": "code",
   "execution_count": 88,
   "metadata": {
    "colab": {
     "base_uri": "https://localhost:8080/"
    },
    "id": "k-RQ2v2T-Ln9",
    "outputId": "befe8fec-8d54-41c0-a316-c8dddcb62475"
   },
   "outputs": [
    {
     "data": {
      "text/plain": [
       "(9, 10)"
      ]
     },
     "execution_count": 88,
     "metadata": {},
     "output_type": "execute_result"
    }
   ],
   "source": [
    "num_encode_tokens, num_decode_tokens"
   ]
  },
  {
   "cell_type": "code",
   "execution_count": 89,
   "metadata": {
    "id": "3WqpLdI-90KS"
   },
   "outputs": [],
   "source": [
    "# Define the input sequence and output sequence for the Se2Seq model\n",
    "encode_inputs = Input(shape=(None,))\n",
    "decode_inputs = Input(shape=(None,))"
   ]
  },
  {
   "cell_type": "code",
   "execution_count": 90,
   "metadata": {
    "colab": {
     "base_uri": "https://localhost:8080/"
    },
    "id": "buELmaLq90G7",
    "outputId": "dee55bc7-5afb-4568-f7d4-7ca0a0bd21f4"
   },
   "outputs": [
    {
     "name": "stderr",
     "output_type": "stream",
     "text": [
      "/usr/local/lib/python3.10/dist-packages/keras/src/layers/core/embedding.py:90: UserWarning: Argument `input_length` is deprecated. Just remove it.\n",
      "  warnings.warn(\n"
     ]
    }
   ],
   "source": [
    "# Encode\n",
    "encode_embedding = Embedding(\n",
    "    input_dim =num_encode_tokens,\n",
    "    output_dim = LATENT_DIM,\n",
    "    input_length=max_encoder_seq_lenght,\n",
    "    name='encode_embedding'\n",
    ")(encode_inputs)\n",
    "\n",
    "encode_lstm = LSTM(\n",
    "    units=LATENT_DIM,\n",
    "    return_state=True,\n",
    "    name='encode_lstm'\n",
    ")(encode_embedding)\n",
    "\n",
    "encoder_outputs, state_h, state_c = encode_lstm"
   ]
  },
  {
   "cell_type": "code",
   "execution_count": 91,
   "metadata": {
    "id": "5rHeqiTx90DK"
   },
   "outputs": [],
   "source": [
    "# Decoder\n",
    "decode_embedding = Embedding(\n",
    "    input_dim=num_decode_tokens,\n",
    "    output_dim=LATENT_DIM,\n",
    "    input_length=max_decoder_seq_lenght,\n",
    "    name='decode_embedding'\n",
    ")(decode_inputs)\n",
    "\n",
    "decode_lstm = LSTM(\n",
    "    units=LATENT_DIM,\n",
    "    return_sequences=True,\n",
    "    return_state=True,\n",
    "    name='decode_lstm'\n",
    ")(decode_embedding, initial_state=[state_h, state_c])\n",
    "\n",
    "decoder_outputs, _, _ = decode_lstm"
   ]
  },
  {
   "cell_type": "code",
   "execution_count": 92,
   "metadata": {
    "id": "4UxYPy5bRokU"
   },
   "outputs": [],
   "source": [
    "# Dense layer for grnrtating predictions\n",
    "decoder_dense = Dense(num_decode_tokens, activation='softmax')\n",
    "decode_output = decoder_dense(decoder_outputs)\n",
    "# or\n",
    "# decode_output = Dense(num_decode_tokens, activation='softmax')(decoder_outputs)"
   ]
  },
  {
   "cell_type": "code",
   "execution_count": 93,
   "metadata": {
    "id": "BqalKJFmSFSD"
   },
   "outputs": [],
   "source": [
    "# Defining the model\n",
    "model = Model(\n",
    "    [encode_inputs, decode_inputs],\n",
    "    decode_output\n",
    ")"
   ]
  },
  {
   "cell_type": "code",
   "execution_count": 94,
   "metadata": {
    "colab": {
     "base_uri": "https://localhost:8080/",
     "height": 493
    },
    "id": "2ex1NYopSYi0",
    "outputId": "766af3e3-f6c4-43c5-a904-ad790c9a1be5"
   },
   "outputs": [
    {
     "data": {
      "text/html": [
       "<pre style=\"white-space:pre;overflow-x:auto;line-height:normal;font-family:Menlo,'DejaVu Sans Mono',consolas,'Courier New',monospace\"><span style=\"font-weight: bold\">Model: \"functional_7\"</span>\n",
       "</pre>\n"
      ],
      "text/plain": [
       "\u001b[1mModel: \"functional_7\"\u001b[0m\n"
      ]
     },
     "metadata": {},
     "output_type": "display_data"
    },
    {
     "data": {
      "text/html": [
       "<pre style=\"white-space:pre;overflow-x:auto;line-height:normal;font-family:Menlo,'DejaVu Sans Mono',consolas,'Courier New',monospace\">┏━━━━━━━━━━━━━━━━━━━━━━━━━━━┳━━━━━━━━━━━━━━━━━━━━━━━━┳━━━━━━━━━━━━━━━━┳━━━━━━━━━━━━━━━━━━━━━━━━┓\n",
       "┃<span style=\"font-weight: bold\"> Layer (type)              </span>┃<span style=\"font-weight: bold\"> Output Shape           </span>┃<span style=\"font-weight: bold\">        Param # </span>┃<span style=\"font-weight: bold\"> Connected to           </span>┃\n",
       "┡━━━━━━━━━━━━━━━━━━━━━━━━━━━╇━━━━━━━━━━━━━━━━━━━━━━━━╇━━━━━━━━━━━━━━━━╇━━━━━━━━━━━━━━━━━━━━━━━━┩\n",
       "│ input_layer_8             │ (<span style=\"color: #00d7ff; text-decoration-color: #00d7ff\">None</span>, <span style=\"color: #00d7ff; text-decoration-color: #00d7ff\">None</span>)           │              <span style=\"color: #00af00; text-decoration-color: #00af00\">0</span> │ -                      │\n",
       "│ (<span style=\"color: #0087ff; text-decoration-color: #0087ff\">InputLayer</span>)              │                        │                │                        │\n",
       "├───────────────────────────┼────────────────────────┼────────────────┼────────────────────────┤\n",
       "│ input_layer_9             │ (<span style=\"color: #00d7ff; text-decoration-color: #00d7ff\">None</span>, <span style=\"color: #00d7ff; text-decoration-color: #00d7ff\">None</span>)           │              <span style=\"color: #00af00; text-decoration-color: #00af00\">0</span> │ -                      │\n",
       "│ (<span style=\"color: #0087ff; text-decoration-color: #0087ff\">InputLayer</span>)              │                        │                │                        │\n",
       "├───────────────────────────┼────────────────────────┼────────────────┼────────────────────────┤\n",
       "│ encode_embedding          │ (<span style=\"color: #00d7ff; text-decoration-color: #00d7ff\">None</span>, <span style=\"color: #00d7ff; text-decoration-color: #00d7ff\">None</span>, <span style=\"color: #00af00; text-decoration-color: #00af00\">256</span>)      │          <span style=\"color: #00af00; text-decoration-color: #00af00\">2,304</span> │ input_layer_8[<span style=\"color: #00af00; text-decoration-color: #00af00\">0</span>][<span style=\"color: #00af00; text-decoration-color: #00af00\">0</span>]    │\n",
       "│ (<span style=\"color: #0087ff; text-decoration-color: #0087ff\">Embedding</span>)               │                        │                │                        │\n",
       "├───────────────────────────┼────────────────────────┼────────────────┼────────────────────────┤\n",
       "│ decode_embedding          │ (<span style=\"color: #00d7ff; text-decoration-color: #00d7ff\">None</span>, <span style=\"color: #00d7ff; text-decoration-color: #00d7ff\">None</span>, <span style=\"color: #00af00; text-decoration-color: #00af00\">256</span>)      │          <span style=\"color: #00af00; text-decoration-color: #00af00\">2,560</span> │ input_layer_9[<span style=\"color: #00af00; text-decoration-color: #00af00\">0</span>][<span style=\"color: #00af00; text-decoration-color: #00af00\">0</span>]    │\n",
       "│ (<span style=\"color: #0087ff; text-decoration-color: #0087ff\">Embedding</span>)               │                        │                │                        │\n",
       "├───────────────────────────┼────────────────────────┼────────────────┼────────────────────────┤\n",
       "│ encode_lstm (<span style=\"color: #0087ff; text-decoration-color: #0087ff\">LSTM</span>)        │ [(<span style=\"color: #00d7ff; text-decoration-color: #00d7ff\">None</span>, <span style=\"color: #00af00; text-decoration-color: #00af00\">256</span>), (<span style=\"color: #00d7ff; text-decoration-color: #00d7ff\">None</span>,   │        <span style=\"color: #00af00; text-decoration-color: #00af00\">525,312</span> │ encode_embedding[<span style=\"color: #00af00; text-decoration-color: #00af00\">0</span>][<span style=\"color: #00af00; text-decoration-color: #00af00\">0</span>] │\n",
       "│                           │ <span style=\"color: #00af00; text-decoration-color: #00af00\">256</span>), (<span style=\"color: #00d7ff; text-decoration-color: #00d7ff\">None</span>, <span style=\"color: #00af00; text-decoration-color: #00af00\">256</span>)]     │                │                        │\n",
       "├───────────────────────────┼────────────────────────┼────────────────┼────────────────────────┤\n",
       "│ decode_lstm (<span style=\"color: #0087ff; text-decoration-color: #0087ff\">LSTM</span>)        │ [(<span style=\"color: #00d7ff; text-decoration-color: #00d7ff\">None</span>, <span style=\"color: #00d7ff; text-decoration-color: #00d7ff\">None</span>, <span style=\"color: #00af00; text-decoration-color: #00af00\">256</span>),    │        <span style=\"color: #00af00; text-decoration-color: #00af00\">525,312</span> │ decode_embedding[<span style=\"color: #00af00; text-decoration-color: #00af00\">0</span>][<span style=\"color: #00af00; text-decoration-color: #00af00\">0</span>… │\n",
       "│                           │ (<span style=\"color: #00d7ff; text-decoration-color: #00d7ff\">None</span>, <span style=\"color: #00af00; text-decoration-color: #00af00\">256</span>), (<span style=\"color: #00d7ff; text-decoration-color: #00d7ff\">None</span>,    │                │ encode_lstm[<span style=\"color: #00af00; text-decoration-color: #00af00\">0</span>][<span style=\"color: #00af00; text-decoration-color: #00af00\">1</span>],     │\n",
       "│                           │ <span style=\"color: #00af00; text-decoration-color: #00af00\">256</span>)]                  │                │ encode_lstm[<span style=\"color: #00af00; text-decoration-color: #00af00\">0</span>][<span style=\"color: #00af00; text-decoration-color: #00af00\">2</span>]      │\n",
       "├───────────────────────────┼────────────────────────┼────────────────┼────────────────────────┤\n",
       "│ dense_2 (<span style=\"color: #0087ff; text-decoration-color: #0087ff\">Dense</span>)           │ (<span style=\"color: #00d7ff; text-decoration-color: #00d7ff\">None</span>, <span style=\"color: #00d7ff; text-decoration-color: #00d7ff\">None</span>, <span style=\"color: #00af00; text-decoration-color: #00af00\">10</span>)       │          <span style=\"color: #00af00; text-decoration-color: #00af00\">2,570</span> │ decode_lstm[<span style=\"color: #00af00; text-decoration-color: #00af00\">0</span>][<span style=\"color: #00af00; text-decoration-color: #00af00\">0</span>]      │\n",
       "└───────────────────────────┴────────────────────────┴────────────────┴────────────────────────┘\n",
       "</pre>\n"
      ],
      "text/plain": [
       "┏━━━━━━━━━━━━━━━━━━━━━━━━━━━┳━━━━━━━━━━━━━━━━━━━━━━━━┳━━━━━━━━━━━━━━━━┳━━━━━━━━━━━━━━━━━━━━━━━━┓\n",
       "┃\u001b[1m \u001b[0m\u001b[1mLayer (type)             \u001b[0m\u001b[1m \u001b[0m┃\u001b[1m \u001b[0m\u001b[1mOutput Shape          \u001b[0m\u001b[1m \u001b[0m┃\u001b[1m \u001b[0m\u001b[1m       Param #\u001b[0m\u001b[1m \u001b[0m┃\u001b[1m \u001b[0m\u001b[1mConnected to          \u001b[0m\u001b[1m \u001b[0m┃\n",
       "┡━━━━━━━━━━━━━━━━━━━━━━━━━━━╇━━━━━━━━━━━━━━━━━━━━━━━━╇━━━━━━━━━━━━━━━━╇━━━━━━━━━━━━━━━━━━━━━━━━┩\n",
       "│ input_layer_8             │ (\u001b[38;5;45mNone\u001b[0m, \u001b[38;5;45mNone\u001b[0m)           │              \u001b[38;5;34m0\u001b[0m │ -                      │\n",
       "│ (\u001b[38;5;33mInputLayer\u001b[0m)              │                        │                │                        │\n",
       "├───────────────────────────┼────────────────────────┼────────────────┼────────────────────────┤\n",
       "│ input_layer_9             │ (\u001b[38;5;45mNone\u001b[0m, \u001b[38;5;45mNone\u001b[0m)           │              \u001b[38;5;34m0\u001b[0m │ -                      │\n",
       "│ (\u001b[38;5;33mInputLayer\u001b[0m)              │                        │                │                        │\n",
       "├───────────────────────────┼────────────────────────┼────────────────┼────────────────────────┤\n",
       "│ encode_embedding          │ (\u001b[38;5;45mNone\u001b[0m, \u001b[38;5;45mNone\u001b[0m, \u001b[38;5;34m256\u001b[0m)      │          \u001b[38;5;34m2,304\u001b[0m │ input_layer_8[\u001b[38;5;34m0\u001b[0m][\u001b[38;5;34m0\u001b[0m]    │\n",
       "│ (\u001b[38;5;33mEmbedding\u001b[0m)               │                        │                │                        │\n",
       "├───────────────────────────┼────────────────────────┼────────────────┼────────────────────────┤\n",
       "│ decode_embedding          │ (\u001b[38;5;45mNone\u001b[0m, \u001b[38;5;45mNone\u001b[0m, \u001b[38;5;34m256\u001b[0m)      │          \u001b[38;5;34m2,560\u001b[0m │ input_layer_9[\u001b[38;5;34m0\u001b[0m][\u001b[38;5;34m0\u001b[0m]    │\n",
       "│ (\u001b[38;5;33mEmbedding\u001b[0m)               │                        │                │                        │\n",
       "├───────────────────────────┼────────────────────────┼────────────────┼────────────────────────┤\n",
       "│ encode_lstm (\u001b[38;5;33mLSTM\u001b[0m)        │ [(\u001b[38;5;45mNone\u001b[0m, \u001b[38;5;34m256\u001b[0m), (\u001b[38;5;45mNone\u001b[0m,   │        \u001b[38;5;34m525,312\u001b[0m │ encode_embedding[\u001b[38;5;34m0\u001b[0m][\u001b[38;5;34m0\u001b[0m] │\n",
       "│                           │ \u001b[38;5;34m256\u001b[0m), (\u001b[38;5;45mNone\u001b[0m, \u001b[38;5;34m256\u001b[0m)]     │                │                        │\n",
       "├───────────────────────────┼────────────────────────┼────────────────┼────────────────────────┤\n",
       "│ decode_lstm (\u001b[38;5;33mLSTM\u001b[0m)        │ [(\u001b[38;5;45mNone\u001b[0m, \u001b[38;5;45mNone\u001b[0m, \u001b[38;5;34m256\u001b[0m),    │        \u001b[38;5;34m525,312\u001b[0m │ decode_embedding[\u001b[38;5;34m0\u001b[0m][\u001b[38;5;34m0\u001b[0m… │\n",
       "│                           │ (\u001b[38;5;45mNone\u001b[0m, \u001b[38;5;34m256\u001b[0m), (\u001b[38;5;45mNone\u001b[0m,    │                │ encode_lstm[\u001b[38;5;34m0\u001b[0m][\u001b[38;5;34m1\u001b[0m],     │\n",
       "│                           │ \u001b[38;5;34m256\u001b[0m)]                  │                │ encode_lstm[\u001b[38;5;34m0\u001b[0m][\u001b[38;5;34m2\u001b[0m]      │\n",
       "├───────────────────────────┼────────────────────────┼────────────────┼────────────────────────┤\n",
       "│ dense_2 (\u001b[38;5;33mDense\u001b[0m)           │ (\u001b[38;5;45mNone\u001b[0m, \u001b[38;5;45mNone\u001b[0m, \u001b[38;5;34m10\u001b[0m)       │          \u001b[38;5;34m2,570\u001b[0m │ decode_lstm[\u001b[38;5;34m0\u001b[0m][\u001b[38;5;34m0\u001b[0m]      │\n",
       "└───────────────────────────┴────────────────────────┴────────────────┴────────────────────────┘\n"
      ]
     },
     "metadata": {},
     "output_type": "display_data"
    },
    {
     "data": {
      "text/html": [
       "<pre style=\"white-space:pre;overflow-x:auto;line-height:normal;font-family:Menlo,'DejaVu Sans Mono',consolas,'Courier New',monospace\"><span style=\"font-weight: bold\"> Total params: </span><span style=\"color: #00af00; text-decoration-color: #00af00\">1,058,058</span> (4.04 MB)\n",
       "</pre>\n"
      ],
      "text/plain": [
       "\u001b[1m Total params: \u001b[0m\u001b[38;5;34m1,058,058\u001b[0m (4.04 MB)\n"
      ]
     },
     "metadata": {},
     "output_type": "display_data"
    },
    {
     "data": {
      "text/html": [
       "<pre style=\"white-space:pre;overflow-x:auto;line-height:normal;font-family:Menlo,'DejaVu Sans Mono',consolas,'Courier New',monospace\"><span style=\"font-weight: bold\"> Trainable params: </span><span style=\"color: #00af00; text-decoration-color: #00af00\">1,058,058</span> (4.04 MB)\n",
       "</pre>\n"
      ],
      "text/plain": [
       "\u001b[1m Trainable params: \u001b[0m\u001b[38;5;34m1,058,058\u001b[0m (4.04 MB)\n"
      ]
     },
     "metadata": {},
     "output_type": "display_data"
    },
    {
     "data": {
      "text/html": [
       "<pre style=\"white-space:pre;overflow-x:auto;line-height:normal;font-family:Menlo,'DejaVu Sans Mono',consolas,'Courier New',monospace\"><span style=\"font-weight: bold\"> Non-trainable params: </span><span style=\"color: #00af00; text-decoration-color: #00af00\">0</span> (0.00 B)\n",
       "</pre>\n"
      ],
      "text/plain": [
       "\u001b[1m Non-trainable params: \u001b[0m\u001b[38;5;34m0\u001b[0m (0.00 B)\n"
      ]
     },
     "metadata": {},
     "output_type": "display_data"
    }
   ],
   "source": [
    "model.summary()"
   ]
  },
  {
   "cell_type": "code",
   "execution_count": 95,
   "metadata": {
    "id": "FFjrd5qMSobW"
   },
   "outputs": [],
   "source": [
    "model.compile(\n",
    "    optimizer='adam',\n",
    "    loss='sparse_categorical_crossentropy',\n",
    "    metrics=['accuracy']\n",
    ")"
   ]
  },
  {
   "cell_type": "code",
   "execution_count": 96,
   "metadata": {
    "colab": {
     "base_uri": "https://localhost:8080/"
    },
    "id": "7gwpcm2OS02L",
    "outputId": "a3dd51d9-4681-44e6-9007-a6e2b51dc353"
   },
   "outputs": [
    {
     "name": "stdout",
     "output_type": "stream",
     "text": [
      "Epoch 1/100\n",
      "\u001b[1m3/3\u001b[0m \u001b[32m━━━━━━━━━━━━━━━━━━━━\u001b[0m\u001b[37m\u001b[0m \u001b[1m4s\u001b[0m 31ms/step - accuracy: 0.2800 - loss: 2.2801\n",
      "Epoch 2/100\n",
      "\u001b[1m3/3\u001b[0m \u001b[32m━━━━━━━━━━━━━━━━━━━━\u001b[0m\u001b[37m\u001b[0m \u001b[1m0s\u001b[0m 37ms/step - accuracy: 0.5025 - loss: 2.1464\n",
      "Epoch 3/100\n",
      "\u001b[1m3/3\u001b[0m \u001b[32m━━━━━━━━━━━━━━━━━━━━\u001b[0m\u001b[37m\u001b[0m \u001b[1m0s\u001b[0m 31ms/step - accuracy: 0.4775 - loss: 1.9284\n",
      "Epoch 4/100\n",
      "\u001b[1m3/3\u001b[0m \u001b[32m━━━━━━━━━━━━━━━━━━━━\u001b[0m\u001b[37m\u001b[0m \u001b[1m0s\u001b[0m 32ms/step - accuracy: 0.4275 - loss: 1.6117\n",
      "Epoch 5/100\n",
      "\u001b[1m3/3\u001b[0m \u001b[32m━━━━━━━━━━━━━━━━━━━━\u001b[0m\u001b[37m\u001b[0m \u001b[1m0s\u001b[0m 33ms/step - accuracy: 0.5275 - loss: 1.1894\n",
      "Epoch 6/100\n",
      "\u001b[1m3/3\u001b[0m \u001b[32m━━━━━━━━━━━━━━━━━━━━\u001b[0m\u001b[37m\u001b[0m \u001b[1m0s\u001b[0m 30ms/step - accuracy: 0.4650 - loss: 1.3011\n",
      "Epoch 7/100\n",
      "\u001b[1m3/3\u001b[0m \u001b[32m━━━━━━━━━━━━━━━━━━━━\u001b[0m\u001b[37m\u001b[0m \u001b[1m0s\u001b[0m 36ms/step - accuracy: 0.5025 - loss: 1.0665\n",
      "Epoch 8/100\n",
      "\u001b[1m3/3\u001b[0m \u001b[32m━━━━━━━━━━━━━━━━━━━━\u001b[0m\u001b[37m\u001b[0m \u001b[1m0s\u001b[0m 35ms/step - accuracy: 0.5875 - loss: 1.0332\n",
      "Epoch 9/100\n",
      "\u001b[1m3/3\u001b[0m \u001b[32m━━━━━━━━━━━━━━━━━━━━\u001b[0m\u001b[37m\u001b[0m \u001b[1m0s\u001b[0m 32ms/step - accuracy: 0.7275 - loss: 0.9394\n",
      "Epoch 10/100\n",
      "\u001b[1m3/3\u001b[0m \u001b[32m━━━━━━━━━━━━━━━━━━━━\u001b[0m\u001b[37m\u001b[0m \u001b[1m0s\u001b[0m 32ms/step - accuracy: 0.6525 - loss: 1.0111\n",
      "Epoch 11/100\n",
      "\u001b[1m3/3\u001b[0m \u001b[32m━━━━━━━━━━━━━━━━━━━━\u001b[0m\u001b[37m\u001b[0m \u001b[1m0s\u001b[0m 31ms/step - accuracy: 0.6775 - loss: 0.8981\n",
      "Epoch 12/100\n",
      "\u001b[1m3/3\u001b[0m \u001b[32m━━━━━━━━━━━━━━━━━━━━\u001b[0m\u001b[37m\u001b[0m \u001b[1m0s\u001b[0m 37ms/step - accuracy: 0.5950 - loss: 0.9540\n",
      "Epoch 13/100\n",
      "\u001b[1m3/3\u001b[0m \u001b[32m━━━━━━━━━━━━━━━━━━━━\u001b[0m\u001b[37m\u001b[0m \u001b[1m0s\u001b[0m 30ms/step - accuracy: 0.7150 - loss: 0.7078\n",
      "Epoch 14/100\n",
      "\u001b[1m3/3\u001b[0m \u001b[32m━━━━━━━━━━━━━━━━━━━━\u001b[0m\u001b[37m\u001b[0m \u001b[1m0s\u001b[0m 39ms/step - accuracy: 0.7150 - loss: 0.6361\n",
      "Epoch 15/100\n",
      "\u001b[1m3/3\u001b[0m \u001b[32m━━━━━━━━━━━━━━━━━━━━\u001b[0m\u001b[37m\u001b[0m \u001b[1m0s\u001b[0m 35ms/step - accuracy: 0.7050 - loss: 0.7771\n",
      "Epoch 16/100\n",
      "\u001b[1m3/3\u001b[0m \u001b[32m━━━━━━━━━━━━━━━━━━━━\u001b[0m\u001b[37m\u001b[0m \u001b[1m0s\u001b[0m 31ms/step - accuracy: 0.6800 - loss: 0.7883\n",
      "Epoch 17/100\n",
      "\u001b[1m3/3\u001b[0m \u001b[32m━━━━━━━━━━━━━━━━━━━━\u001b[0m\u001b[37m\u001b[0m \u001b[1m0s\u001b[0m 31ms/step - accuracy: 0.6800 - loss: 0.7302\n",
      "Epoch 18/100\n",
      "\u001b[1m3/3\u001b[0m \u001b[32m━━━━━━━━━━━━━━━━━━━━\u001b[0m\u001b[37m\u001b[0m \u001b[1m0s\u001b[0m 32ms/step - accuracy: 0.6800 - loss: 0.6716\n",
      "Epoch 19/100\n",
      "\u001b[1m3/3\u001b[0m \u001b[32m━━━━━━━━━━━━━━━━━━━━\u001b[0m\u001b[37m\u001b[0m \u001b[1m0s\u001b[0m 31ms/step - accuracy: 0.7925 - loss: 0.4303\n",
      "Epoch 20/100\n",
      "\u001b[1m3/3\u001b[0m \u001b[32m━━━━━━━━━━━━━━━━━━━━\u001b[0m\u001b[37m\u001b[0m \u001b[1m0s\u001b[0m 36ms/step - accuracy: 0.7375 - loss: 0.5683\n",
      "Epoch 21/100\n",
      "\u001b[1m3/3\u001b[0m \u001b[32m━━━━━━━━━━━━━━━━━━━━\u001b[0m\u001b[37m\u001b[0m \u001b[1m0s\u001b[0m 58ms/step - accuracy: 0.8650 - loss: 0.4425\n",
      "Epoch 22/100\n",
      "\u001b[1m3/3\u001b[0m \u001b[32m━━━━━━━━━━━━━━━━━━━━\u001b[0m\u001b[37m\u001b[0m \u001b[1m0s\u001b[0m 53ms/step - accuracy: 0.8900 - loss: 0.2702\n",
      "Epoch 23/100\n",
      "\u001b[1m3/3\u001b[0m \u001b[32m━━━━━━━━━━━━━━━━━━━━\u001b[0m\u001b[37m\u001b[0m \u001b[1m0s\u001b[0m 54ms/step - accuracy: 0.9350 - loss: 0.2742\n",
      "Epoch 24/100\n",
      "\u001b[1m3/3\u001b[0m \u001b[32m━━━━━━━━━━━━━━━━━━━━\u001b[0m\u001b[37m\u001b[0m \u001b[1m0s\u001b[0m 52ms/step - accuracy: 0.9475 - loss: 0.2219\n",
      "Epoch 25/100\n",
      "\u001b[1m3/3\u001b[0m \u001b[32m━━━━━━━━━━━━━━━━━━━━\u001b[0m\u001b[37m\u001b[0m \u001b[1m0s\u001b[0m 57ms/step - accuracy: 0.9350 - loss: 0.2000\n",
      "Epoch 26/100\n",
      "\u001b[1m3/3\u001b[0m \u001b[32m━━━━━━━━━━━━━━━━━━━━\u001b[0m\u001b[37m\u001b[0m \u001b[1m0s\u001b[0m 56ms/step - accuracy: 0.9425 - loss: 0.2265\n",
      "Epoch 27/100\n",
      "\u001b[1m3/3\u001b[0m \u001b[32m━━━━━━━━━━━━━━━━━━━━\u001b[0m\u001b[37m\u001b[0m \u001b[1m0s\u001b[0m 53ms/step - accuracy: 1.0000 - loss: 0.1040\n",
      "Epoch 28/100\n",
      "\u001b[1m3/3\u001b[0m \u001b[32m━━━━━━━━━━━━━━━━━━━━\u001b[0m\u001b[37m\u001b[0m \u001b[1m0s\u001b[0m 57ms/step - accuracy: 1.0000 - loss: 0.1168\n",
      "Epoch 29/100\n",
      "\u001b[1m3/3\u001b[0m \u001b[32m━━━━━━━━━━━━━━━━━━━━\u001b[0m\u001b[37m\u001b[0m \u001b[1m0s\u001b[0m 52ms/step - accuracy: 1.0000 - loss: 0.1451\n",
      "Epoch 30/100\n",
      "\u001b[1m3/3\u001b[0m \u001b[32m━━━━━━━━━━━━━━━━━━━━\u001b[0m\u001b[37m\u001b[0m \u001b[1m0s\u001b[0m 56ms/step - accuracy: 1.0000 - loss: 0.0796\n",
      "Epoch 31/100\n",
      "\u001b[1m3/3\u001b[0m \u001b[32m━━━━━━━━━━━━━━━━━━━━\u001b[0m\u001b[37m\u001b[0m \u001b[1m0s\u001b[0m 54ms/step - accuracy: 1.0000 - loss: 0.0581\n",
      "Epoch 32/100\n",
      "\u001b[1m3/3\u001b[0m \u001b[32m━━━━━━━━━━━━━━━━━━━━\u001b[0m\u001b[37m\u001b[0m \u001b[1m0s\u001b[0m 60ms/step - accuracy: 1.0000 - loss: 0.0775\n",
      "Epoch 33/100\n",
      "\u001b[1m3/3\u001b[0m \u001b[32m━━━━━━━━━━━━━━━━━━━━\u001b[0m\u001b[37m\u001b[0m \u001b[1m0s\u001b[0m 33ms/step - accuracy: 1.0000 - loss: 0.0317\n",
      "Epoch 34/100\n",
      "\u001b[1m3/3\u001b[0m \u001b[32m━━━━━━━━━━━━━━━━━━━━\u001b[0m\u001b[37m\u001b[0m \u001b[1m0s\u001b[0m 30ms/step - accuracy: 1.0000 - loss: 0.0399\n",
      "Epoch 35/100\n",
      "\u001b[1m3/3\u001b[0m \u001b[32m━━━━━━━━━━━━━━━━━━━━\u001b[0m\u001b[37m\u001b[0m \u001b[1m0s\u001b[0m 38ms/step - accuracy: 1.0000 - loss: 0.0324\n",
      "Epoch 36/100\n",
      "\u001b[1m3/3\u001b[0m \u001b[32m━━━━━━━━━━━━━━━━━━━━\u001b[0m\u001b[37m\u001b[0m \u001b[1m0s\u001b[0m 32ms/step - accuracy: 1.0000 - loss: 0.0392\n",
      "Epoch 37/100\n",
      "\u001b[1m3/3\u001b[0m \u001b[32m━━━━━━━━━━━━━━━━━━━━\u001b[0m\u001b[37m\u001b[0m \u001b[1m0s\u001b[0m 31ms/step - accuracy: 1.0000 - loss: 0.0189\n",
      "Epoch 38/100\n",
      "\u001b[1m3/3\u001b[0m \u001b[32m━━━━━━━━━━━━━━━━━━━━\u001b[0m\u001b[37m\u001b[0m \u001b[1m0s\u001b[0m 37ms/step - accuracy: 1.0000 - loss: 0.0159\n",
      "Epoch 39/100\n",
      "\u001b[1m3/3\u001b[0m \u001b[32m━━━━━━━━━━━━━━━━━━━━\u001b[0m\u001b[37m\u001b[0m \u001b[1m0s\u001b[0m 35ms/step - accuracy: 1.0000 - loss: 0.0164\n",
      "Epoch 40/100\n",
      "\u001b[1m3/3\u001b[0m \u001b[32m━━━━━━━━━━━━━━━━━━━━\u001b[0m\u001b[37m\u001b[0m \u001b[1m0s\u001b[0m 31ms/step - accuracy: 1.0000 - loss: 0.0096\n",
      "Epoch 41/100\n",
      "\u001b[1m3/3\u001b[0m \u001b[32m━━━━━━━━━━━━━━━━━━━━\u001b[0m\u001b[37m\u001b[0m \u001b[1m0s\u001b[0m 32ms/step - accuracy: 1.0000 - loss: 0.0101\n",
      "Epoch 42/100\n",
      "\u001b[1m3/3\u001b[0m \u001b[32m━━━━━━━━━━━━━━━━━━━━\u001b[0m\u001b[37m\u001b[0m \u001b[1m0s\u001b[0m 30ms/step - accuracy: 1.0000 - loss: 0.0138\n",
      "Epoch 43/100\n",
      "\u001b[1m3/3\u001b[0m \u001b[32m━━━━━━━━━━━━━━━━━━━━\u001b[0m\u001b[37m\u001b[0m \u001b[1m0s\u001b[0m 31ms/step - accuracy: 1.0000 - loss: 0.0096\n",
      "Epoch 44/100\n",
      "\u001b[1m3/3\u001b[0m \u001b[32m━━━━━━━━━━━━━━━━━━━━\u001b[0m\u001b[37m\u001b[0m \u001b[1m0s\u001b[0m 31ms/step - accuracy: 1.0000 - loss: 0.0105\n",
      "Epoch 45/100\n",
      "\u001b[1m3/3\u001b[0m \u001b[32m━━━━━━━━━━━━━━━━━━━━\u001b[0m\u001b[37m\u001b[0m \u001b[1m0s\u001b[0m 30ms/step - accuracy: 1.0000 - loss: 0.0094\n",
      "Epoch 46/100\n",
      "\u001b[1m3/3\u001b[0m \u001b[32m━━━━━━━━━━━━━━━━━━━━\u001b[0m\u001b[37m\u001b[0m \u001b[1m0s\u001b[0m 37ms/step - accuracy: 1.0000 - loss: 0.0055\n",
      "Epoch 47/100\n",
      "\u001b[1m3/3\u001b[0m \u001b[32m━━━━━━━━━━━━━━━━━━━━\u001b[0m\u001b[37m\u001b[0m \u001b[1m0s\u001b[0m 34ms/step - accuracy: 1.0000 - loss: 0.0056\n",
      "Epoch 48/100\n",
      "\u001b[1m3/3\u001b[0m \u001b[32m━━━━━━━━━━━━━━━━━━━━\u001b[0m\u001b[37m\u001b[0m \u001b[1m0s\u001b[0m 30ms/step - accuracy: 1.0000 - loss: 0.0080\n",
      "Epoch 49/100\n",
      "\u001b[1m3/3\u001b[0m \u001b[32m━━━━━━━━━━━━━━━━━━━━\u001b[0m\u001b[37m\u001b[0m \u001b[1m0s\u001b[0m 32ms/step - accuracy: 1.0000 - loss: 0.0040\n",
      "Epoch 50/100\n",
      "\u001b[1m3/3\u001b[0m \u001b[32m━━━━━━━━━━━━━━━━━━━━\u001b[0m\u001b[37m\u001b[0m \u001b[1m0s\u001b[0m 40ms/step - accuracy: 1.0000 - loss: 0.0053\n",
      "Epoch 51/100\n",
      "\u001b[1m3/3\u001b[0m \u001b[32m━━━━━━━━━━━━━━━━━━━━\u001b[0m\u001b[37m\u001b[0m \u001b[1m0s\u001b[0m 29ms/step - accuracy: 1.0000 - loss: 0.0035\n",
      "Epoch 52/100\n",
      "\u001b[1m3/3\u001b[0m \u001b[32m━━━━━━━━━━━━━━━━━━━━\u001b[0m\u001b[37m\u001b[0m \u001b[1m0s\u001b[0m 29ms/step - accuracy: 1.0000 - loss: 0.0046\n",
      "Epoch 53/100\n",
      "\u001b[1m3/3\u001b[0m \u001b[32m━━━━━━━━━━━━━━━━━━━━\u001b[0m\u001b[37m\u001b[0m \u001b[1m0s\u001b[0m 39ms/step - accuracy: 1.0000 - loss: 0.0047\n",
      "Epoch 54/100\n",
      "\u001b[1m3/3\u001b[0m \u001b[32m━━━━━━━━━━━━━━━━━━━━\u001b[0m\u001b[37m\u001b[0m \u001b[1m0s\u001b[0m 31ms/step - accuracy: 1.0000 - loss: 0.0046\n",
      "Epoch 55/100\n",
      "\u001b[1m3/3\u001b[0m \u001b[32m━━━━━━━━━━━━━━━━━━━━\u001b[0m\u001b[37m\u001b[0m \u001b[1m0s\u001b[0m 32ms/step - accuracy: 1.0000 - loss: 0.0034\n",
      "Epoch 56/100\n",
      "\u001b[1m3/3\u001b[0m \u001b[32m━━━━━━━━━━━━━━━━━━━━\u001b[0m\u001b[37m\u001b[0m \u001b[1m0s\u001b[0m 32ms/step - accuracy: 1.0000 - loss: 0.0042\n",
      "Epoch 57/100\n",
      "\u001b[1m3/3\u001b[0m \u001b[32m━━━━━━━━━━━━━━━━━━━━\u001b[0m\u001b[37m\u001b[0m \u001b[1m0s\u001b[0m 29ms/step - accuracy: 1.0000 - loss: 0.0039\n",
      "Epoch 58/100\n",
      "\u001b[1m3/3\u001b[0m \u001b[32m━━━━━━━━━━━━━━━━━━━━\u001b[0m\u001b[37m\u001b[0m \u001b[1m0s\u001b[0m 31ms/step - accuracy: 1.0000 - loss: 0.0037\n",
      "Epoch 59/100\n",
      "\u001b[1m3/3\u001b[0m \u001b[32m━━━━━━━━━━━━━━━━━━━━\u001b[0m\u001b[37m\u001b[0m \u001b[1m0s\u001b[0m 29ms/step - accuracy: 1.0000 - loss: 0.0037\n",
      "Epoch 60/100\n",
      "\u001b[1m3/3\u001b[0m \u001b[32m━━━━━━━━━━━━━━━━━━━━\u001b[0m\u001b[37m\u001b[0m \u001b[1m0s\u001b[0m 42ms/step - accuracy: 1.0000 - loss: 0.0034\n",
      "Epoch 61/100\n",
      "\u001b[1m3/3\u001b[0m \u001b[32m━━━━━━━━━━━━━━━━━━━━\u001b[0m\u001b[37m\u001b[0m \u001b[1m0s\u001b[0m 32ms/step - accuracy: 1.0000 - loss: 0.0034\n",
      "Epoch 62/100\n",
      "\u001b[1m3/3\u001b[0m \u001b[32m━━━━━━━━━━━━━━━━━━━━\u001b[0m\u001b[37m\u001b[0m \u001b[1m0s\u001b[0m 30ms/step - accuracy: 1.0000 - loss: 0.0036\n",
      "Epoch 63/100\n",
      "\u001b[1m3/3\u001b[0m \u001b[32m━━━━━━━━━━━━━━━━━━━━\u001b[0m\u001b[37m\u001b[0m \u001b[1m0s\u001b[0m 30ms/step - accuracy: 1.0000 - loss: 0.0020\n",
      "Epoch 64/100\n",
      "\u001b[1m3/3\u001b[0m \u001b[32m━━━━━━━━━━━━━━━━━━━━\u001b[0m\u001b[37m\u001b[0m \u001b[1m0s\u001b[0m 31ms/step - accuracy: 1.0000 - loss: 0.0019\n",
      "Epoch 65/100\n",
      "\u001b[1m3/3\u001b[0m \u001b[32m━━━━━━━━━━━━━━━━━━━━\u001b[0m\u001b[37m\u001b[0m \u001b[1m0s\u001b[0m 37ms/step - accuracy: 1.0000 - loss: 0.0023\n",
      "Epoch 66/100\n",
      "\u001b[1m3/3\u001b[0m \u001b[32m━━━━━━━━━━━━━━━━━━━━\u001b[0m\u001b[37m\u001b[0m \u001b[1m0s\u001b[0m 30ms/step - accuracy: 1.0000 - loss: 0.0028\n",
      "Epoch 67/100\n",
      "\u001b[1m3/3\u001b[0m \u001b[32m━━━━━━━━━━━━━━━━━━━━\u001b[0m\u001b[37m\u001b[0m \u001b[1m0s\u001b[0m 44ms/step - accuracy: 1.0000 - loss: 0.0025\n",
      "Epoch 68/100\n",
      "\u001b[1m3/3\u001b[0m \u001b[32m━━━━━━━━━━━━━━━━━━━━\u001b[0m\u001b[37m\u001b[0m \u001b[1m0s\u001b[0m 36ms/step - accuracy: 1.0000 - loss: 0.0019\n",
      "Epoch 69/100\n",
      "\u001b[1m3/3\u001b[0m \u001b[32m━━━━━━━━━━━━━━━━━━━━\u001b[0m\u001b[37m\u001b[0m \u001b[1m0s\u001b[0m 31ms/step - accuracy: 1.0000 - loss: 0.0020\n",
      "Epoch 70/100\n",
      "\u001b[1m3/3\u001b[0m \u001b[32m━━━━━━━━━━━━━━━━━━━━\u001b[0m\u001b[37m\u001b[0m \u001b[1m0s\u001b[0m 29ms/step - accuracy: 1.0000 - loss: 0.0026\n",
      "Epoch 71/100\n",
      "\u001b[1m3/3\u001b[0m \u001b[32m━━━━━━━━━━━━━━━━━━━━\u001b[0m\u001b[37m\u001b[0m \u001b[1m0s\u001b[0m 29ms/step - accuracy: 1.0000 - loss: 0.0018\n",
      "Epoch 72/100\n",
      "\u001b[1m3/3\u001b[0m \u001b[32m━━━━━━━━━━━━━━━━━━━━\u001b[0m\u001b[37m\u001b[0m \u001b[1m0s\u001b[0m 39ms/step - accuracy: 1.0000 - loss: 0.0017\n",
      "Epoch 73/100\n",
      "\u001b[1m3/3\u001b[0m \u001b[32m━━━━━━━━━━━━━━━━━━━━\u001b[0m\u001b[37m\u001b[0m \u001b[1m0s\u001b[0m 32ms/step - accuracy: 1.0000 - loss: 0.0021\n",
      "Epoch 74/100\n",
      "\u001b[1m3/3\u001b[0m \u001b[32m━━━━━━━━━━━━━━━━━━━━\u001b[0m\u001b[37m\u001b[0m \u001b[1m0s\u001b[0m 45ms/step - accuracy: 1.0000 - loss: 0.0019\n",
      "Epoch 75/100\n",
      "\u001b[1m3/3\u001b[0m \u001b[32m━━━━━━━━━━━━━━━━━━━━\u001b[0m\u001b[37m\u001b[0m \u001b[1m0s\u001b[0m 28ms/step - accuracy: 1.0000 - loss: 0.0014\n",
      "Epoch 76/100\n",
      "\u001b[1m3/3\u001b[0m \u001b[32m━━━━━━━━━━━━━━━━━━━━\u001b[0m\u001b[37m\u001b[0m \u001b[1m0s\u001b[0m 31ms/step - accuracy: 1.0000 - loss: 0.0019\n",
      "Epoch 77/100\n",
      "\u001b[1m3/3\u001b[0m \u001b[32m━━━━━━━━━━━━━━━━━━━━\u001b[0m\u001b[37m\u001b[0m \u001b[1m0s\u001b[0m 30ms/step - accuracy: 1.0000 - loss: 0.0016\n",
      "Epoch 78/100\n",
      "\u001b[1m3/3\u001b[0m \u001b[32m━━━━━━━━━━━━━━━━━━━━\u001b[0m\u001b[37m\u001b[0m \u001b[1m0s\u001b[0m 31ms/step - accuracy: 1.0000 - loss: 0.0017\n",
      "Epoch 79/100\n",
      "\u001b[1m3/3\u001b[0m \u001b[32m━━━━━━━━━━━━━━━━━━━━\u001b[0m\u001b[37m\u001b[0m \u001b[1m0s\u001b[0m 30ms/step - accuracy: 1.0000 - loss: 0.0017\n",
      "Epoch 80/100\n",
      "\u001b[1m3/3\u001b[0m \u001b[32m━━━━━━━━━━━━━━━━━━━━\u001b[0m\u001b[37m\u001b[0m \u001b[1m0s\u001b[0m 42ms/step - accuracy: 1.0000 - loss: 0.0012    \n",
      "Epoch 81/100\n",
      "\u001b[1m3/3\u001b[0m \u001b[32m━━━━━━━━━━━━━━━━━━━━\u001b[0m\u001b[37m\u001b[0m \u001b[1m0s\u001b[0m 30ms/step - accuracy: 1.0000 - loss: 0.0017\n",
      "Epoch 82/100\n",
      "\u001b[1m3/3\u001b[0m \u001b[32m━━━━━━━━━━━━━━━━━━━━\u001b[0m\u001b[37m\u001b[0m \u001b[1m0s\u001b[0m 30ms/step - accuracy: 1.0000 - loss: 0.0016\n",
      "Epoch 83/100\n",
      "\u001b[1m3/3\u001b[0m \u001b[32m━━━━━━━━━━━━━━━━━━━━\u001b[0m\u001b[37m\u001b[0m \u001b[1m0s\u001b[0m 31ms/step - accuracy: 1.0000 - loss: 0.0016\n",
      "Epoch 84/100\n",
      "\u001b[1m3/3\u001b[0m \u001b[32m━━━━━━━━━━━━━━━━━━━━\u001b[0m\u001b[37m\u001b[0m \u001b[1m0s\u001b[0m 35ms/step - accuracy: 1.0000 - loss: 0.0015\n",
      "Epoch 85/100\n",
      "\u001b[1m3/3\u001b[0m \u001b[32m━━━━━━━━━━━━━━━━━━━━\u001b[0m\u001b[37m\u001b[0m \u001b[1m0s\u001b[0m 34ms/step - accuracy: 1.0000 - loss: 0.0012\n",
      "Epoch 86/100\n",
      "\u001b[1m3/3\u001b[0m \u001b[32m━━━━━━━━━━━━━━━━━━━━\u001b[0m\u001b[37m\u001b[0m \u001b[1m0s\u001b[0m 30ms/step - accuracy: 1.0000 - loss: 0.0011\n",
      "Epoch 87/100\n",
      "\u001b[1m3/3\u001b[0m \u001b[32m━━━━━━━━━━━━━━━━━━━━\u001b[0m\u001b[37m\u001b[0m \u001b[1m0s\u001b[0m 29ms/step - accuracy: 1.0000 - loss: 0.0011\n",
      "Epoch 88/100\n",
      "\u001b[1m3/3\u001b[0m \u001b[32m━━━━━━━━━━━━━━━━━━━━\u001b[0m\u001b[37m\u001b[0m \u001b[1m0s\u001b[0m 30ms/step - accuracy: 1.0000 - loss: 0.0010    \n",
      "Epoch 89/100\n",
      "\u001b[1m3/3\u001b[0m \u001b[32m━━━━━━━━━━━━━━━━━━━━\u001b[0m\u001b[37m\u001b[0m \u001b[1m0s\u001b[0m 34ms/step - accuracy: 1.0000 - loss: 9.6144e-04\n",
      "Epoch 90/100\n",
      "\u001b[1m3/3\u001b[0m \u001b[32m━━━━━━━━━━━━━━━━━━━━\u001b[0m\u001b[37m\u001b[0m \u001b[1m0s\u001b[0m 30ms/step - accuracy: 1.0000 - loss: 0.0012\n",
      "Epoch 91/100\n",
      "\u001b[1m3/3\u001b[0m \u001b[32m━━━━━━━━━━━━━━━━━━━━\u001b[0m\u001b[37m\u001b[0m \u001b[1m0s\u001b[0m 32ms/step - accuracy: 1.0000 - loss: 0.0012\n",
      "Epoch 92/100\n",
      "\u001b[1m3/3\u001b[0m \u001b[32m━━━━━━━━━━━━━━━━━━━━\u001b[0m\u001b[37m\u001b[0m \u001b[1m0s\u001b[0m 47ms/step - accuracy: 1.0000 - loss: 9.2449e-04\n",
      "Epoch 93/100\n",
      "\u001b[1m3/3\u001b[0m \u001b[32m━━━━━━━━━━━━━━━━━━━━\u001b[0m\u001b[37m\u001b[0m \u001b[1m0s\u001b[0m 30ms/step - accuracy: 1.0000 - loss: 0.0011\n",
      "Epoch 94/100\n",
      "\u001b[1m3/3\u001b[0m \u001b[32m━━━━━━━━━━━━━━━━━━━━\u001b[0m\u001b[37m\u001b[0m \u001b[1m0s\u001b[0m 31ms/step - accuracy: 1.0000 - loss: 8.5901e-04\n",
      "Epoch 95/100\n",
      "\u001b[1m3/3\u001b[0m \u001b[32m━━━━━━━━━━━━━━━━━━━━\u001b[0m\u001b[37m\u001b[0m \u001b[1m0s\u001b[0m 29ms/step - accuracy: 1.0000 - loss: 8.3935e-04\n",
      "Epoch 96/100\n",
      "\u001b[1m3/3\u001b[0m \u001b[32m━━━━━━━━━━━━━━━━━━━━\u001b[0m\u001b[37m\u001b[0m \u001b[1m0s\u001b[0m 32ms/step - accuracy: 1.0000 - loss: 7.9588e-04\n",
      "Epoch 97/100\n",
      "\u001b[1m3/3\u001b[0m \u001b[32m━━━━━━━━━━━━━━━━━━━━\u001b[0m\u001b[37m\u001b[0m \u001b[1m0s\u001b[0m 41ms/step - accuracy: 1.0000 - loss: 8.5838e-04\n",
      "Epoch 98/100\n",
      "\u001b[1m3/3\u001b[0m \u001b[32m━━━━━━━━━━━━━━━━━━━━\u001b[0m\u001b[37m\u001b[0m \u001b[1m0s\u001b[0m 33ms/step - accuracy: 1.0000 - loss: 0.0010\n",
      "Epoch 99/100\n",
      "\u001b[1m3/3\u001b[0m \u001b[32m━━━━━━━━━━━━━━━━━━━━\u001b[0m\u001b[37m\u001b[0m \u001b[1m0s\u001b[0m 49ms/step - accuracy: 1.0000 - loss: 9.9205e-04\n",
      "Epoch 100/100\n",
      "\u001b[1m3/3\u001b[0m \u001b[32m━━━━━━━━━━━━━━━━━━━━\u001b[0m\u001b[37m\u001b[0m \u001b[1m0s\u001b[0m 55ms/step - accuracy: 1.0000 - loss: 0.0011\n"
     ]
    },
    {
     "data": {
      "text/plain": [
       "<keras.src.callbacks.history.History at 0x78461cac3610>"
      ]
     },
     "execution_count": 96,
     "metadata": {},
     "output_type": "execute_result"
    }
   ],
   "source": [
    "model.fit(\n",
    "    [encoder_input_data, decoder_input_data],\n",
    "    np.expand_dims(decoder_output_data, -1),\n",
    "    batch_size=BATCH_SIZE,\n",
    "    epochs=EPOCHS\n",
    ")"
   ]
  },
  {
   "cell_type": "code",
   "execution_count": 97,
   "metadata": {
    "id": "V976fgDMTsHe"
   },
   "outputs": [],
   "source": [
    "# Creating inference model for the encoder and decoder for prediction\n",
    "# Encoder model\n",
    "encoder_model = Model(encode_inputs, [state_h, state_c])"
   ]
  },
  {
   "cell_type": "code",
   "execution_count": 98,
   "metadata": {
    "id": "i4ViVWVQTx5a"
   },
   "outputs": [],
   "source": [
    "# Decoder model\n",
    "decoder_state_input_h = Input(shape=(LATENT_DIM,))\n",
    "decoder_state_input_c = Input(shape=(LATENT_DIM,))\n",
    "\n",
    "decoder_lstm_inf = LSTM(\n",
    "    units=LATENT_DIM,\n",
    "    return_sequences=True,\n",
    "    return_state=True\n",
    ")\n",
    "\n",
    "decoder_outputs_inf, state_h_inf, state_c_inf = decoder_lstm_inf(\n",
    "    decode_embedding,\n",
    "    initial_state=[decoder_state_input_h, decoder_state_input_c]\n",
    ")\n",
    "\n",
    "decoder_outputs_inf = decoder_dense(decoder_outputs_inf)\n",
    "\n",
    "decoder_model = Model(\n",
    "    [decode_inputs, decoder_state_input_h, decoder_state_input_c],\n",
    "    [decoder_outputs_inf, state_h_inf, state_c_inf]\n",
    ")"
   ]
  },
  {
   "cell_type": "code",
   "execution_count": 102,
   "metadata": {
    "id": "GGdW6hhgZGN6"
   },
   "outputs": [],
   "source": [
    "# Funcion to decode the sequence\n",
    "def decode_sequence(input_seq):\n",
    "    # Encode the input as state vectors\n",
    "    states_value = encoder_model.predict(input_seq, verbose=0)\n",
    "\n",
    "    # Generate an initial target sequence (the start token)\n",
    "    target_seq = np.zeros((1,1))\n",
    "    target_seq[0,0] = fra_tokenizers.word_index['starttoken']\n",
    "\n",
    "    # Sampling loop for a batch of sequences\n",
    "    stop_condition = False\n",
    "    decoded_sentence = ''\n",
    "    while not stop_condition:\n",
    "        # Correct the prediction input to mathc exprected inputs\n",
    "        output_tokens, h, c = decoder_model.predict(\n",
    "            [target_seq, states_value[0], states_value[1]] ,\n",
    "            verbose=0\n",
    "        )\n",
    "\n",
    "        # Sample the next token\n",
    "        sampled_token_index = np.argmax(output_tokens[0,-1,:])\n",
    "        sampled_token = fra_tokenizers.index_word[sampled_token_index]\n",
    "\n",
    "        decoded_sentence += ' ' + sampled_token\n",
    "\n",
    "        # Exit condition: either hit max length or find stop token\n",
    "        if sampled_token == 'endtoken' or len(decoded_sentence) > max_decoder_seq_lenght:\n",
    "            stop_condition = True\n",
    "\n",
    "        # Update the target sequence (of length 1)\n",
    "        target_seq = np.zeros((1,1))\n",
    "        target_seq[0,0] = sampled_token_index\n",
    "\n",
    "        # Unpdate the state\n",
    "        states_value = [h, c]\n",
    "\n",
    "    return decoded_sentence"
   ]
  },
  {
   "cell_type": "code",
   "execution_count": 107,
   "metadata": {
    "colab": {
     "base_uri": "https://localhost:8080/"
    },
    "id": "Ue9tX01FYqk5",
    "outputId": "b5045677-0f01-473e-f6c9-8d1c62636a67"
   },
   "outputs": [
    {
     "name": "stdout",
     "output_type": "stream",
     "text": [
      "how are you\n",
      " comment\n"
     ]
    }
   ],
   "source": [
    "# Test the decoder sample sentence\n",
    "n=1\n",
    "input_seq = encoder_input_data[n:n+1]\n",
    "input_sentence = english_sentences[n]\n",
    "print(input_sentence)\n",
    "decoded_sentence = decode_sequence(input_seq)\n",
    "print(decoded_sentence)"
   ]
  }
 ],
 "metadata": {
  "colab": {
   "provenance": []
  },
  "kernelspec": {
   "display_name": "Python 3",
   "name": "python3"
  },
  "language_info": {
   "name": "python"
  }
 },
 "nbformat": 4,
 "nbformat_minor": 0
}
