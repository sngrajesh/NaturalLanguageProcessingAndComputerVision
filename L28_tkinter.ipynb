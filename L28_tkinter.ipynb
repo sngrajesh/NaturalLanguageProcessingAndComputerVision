{
 "cells": [
  {
   "cell_type": "code",
   "execution_count": 3,
   "metadata": {},
   "outputs": [],
   "source": [
    "from tkinter import *"
   ]
  },
  {
   "cell_type": "code",
   "execution_count": 5,
   "metadata": {},
   "outputs": [],
   "source": [
    "top = Tk()\n",
    "\n",
    "top.mainloop()"
   ]
  },
  {
   "cell_type": "code",
   "execution_count": 6,
   "metadata": {},
   "outputs": [],
   "source": [
    "top  = Tk()\n",
    "top.title('My Application')\n",
    "top.geometry('500x400')\n",
    "\n",
    "top.mainloop()"
   ]
  },
  {
   "cell_type": "code",
   "execution_count": 8,
   "metadata": {},
   "outputs": [],
   "source": [
    "top  = Tk()\n",
    "top.title('My Application')\n",
    "top.geometry('500x400')\n",
    "\n",
    "l = Label(top, text='Enter the number :')\n",
    "e = Entry(top)\n",
    "b = Button(top, text='Click Here')\n",
    "\n",
    "l.pack()\n",
    "e.pack()\n",
    "b.pack()\n",
    "\n",
    "\n",
    "\n",
    "top.mainloop()"
   ]
  },
  {
   "cell_type": "code",
   "execution_count": 16,
   "metadata": {},
   "outputs": [],
   "source": [
    "top  = Tk()\n",
    "top.title('My Application')\n",
    "top.geometry('500x400')\n",
    "\n",
    "def show():\n",
    "    square = num.get()**2\n",
    "    result.config(text=f'Square of the number is : {square}')\n",
    "    print('Square of the number is :', square)\n",
    "\n",
    "num =IntVar()\n",
    "\n",
    "Label(top, text='Enter the number :').place(x=100, y=50)\n",
    "Entry(top, textvariable=num).place(x=100, y=120)\n",
    "Button(top, text='Click Here', command=show).place(x=100, y=190)\n",
    "\n",
    "result = Label(top, text='Square of the number is :')\n",
    "result.pack()\n",
    "\n",
    "top.mainloop()"
   ]
  },
  {
   "cell_type": "code",
   "execution_count": 20,
   "metadata": {},
   "outputs": [],
   "source": [
    "from tkinter import Tk, Label, Entry, Button, DoubleVar\n",
    "\n",
    "top = Tk()\n",
    "top.title('Calculator')\n",
    "top.geometry('500x400')\n",
    "\n",
    "def show(op):\n",
    "    try:\n",
    "        num1_val = num1.get()\n",
    "        num2_val = num2.get()\n",
    "        if op == '+':\n",
    "            result_val = num1_val + num2_val\n",
    "        elif op == '-':\n",
    "            result_val = num1_val - num2_val\n",
    "        elif op == '*':\n",
    "            result_val = num1_val * num2_val\n",
    "        elif op == '/':\n",
    "            if num2_val != 0:\n",
    "                result_val = num1_val / num2_val\n",
    "            else:\n",
    "                result_val = 'Error (division by zero)'\n",
    "        else:\n",
    "            result_val = 'Invalid Operation'\n",
    "        result.config(text=f'Result: {result_val}')\n",
    "    except Exception as e:\n",
    "        result.config(text=f\"Error: {e}\")\n",
    "\n",
    "num1 = DoubleVar()\n",
    "num2 = DoubleVar()\n",
    "\n",
    "Label(top, text='Enter the first number:').place(x=100, y=50)\n",
    "Entry(top, textvariable=num1).place(x=100, y=100)\n",
    "\n",
    "Label(top, text='Enter the second number:').place(x=100, y=130)\n",
    "Entry(top, textvariable=num2).place(x=100, y=160)\n",
    "\n",
    "Button(top, text='+', command=lambda: show('+')).place(x=100, y=200)\n",
    "Button(top, text='-', command=lambda: show('-')).place(x=150, y=200)\n",
    "Button(top, text='*', command=lambda: show('*')).place(x=200, y=200)\n",
    "Button(top, text='/', command=lambda: show('/')).place(x=250, y=200)\n",
    "\n",
    "result = Label(top, text='Result: ')\n",
    "result.place(x=100, y=250)\n",
    "\n",
    "top.mainloop()\n"
   ]
  }
 ],
 "metadata": {
  "kernelspec": {
   "display_name": ".env",
   "language": "python",
   "name": "python3"
  },
  "language_info": {
   "codemirror_mode": {
    "name": "ipython",
    "version": 3
   },
   "file_extension": ".py",
   "mimetype": "text/x-python",
   "name": "python",
   "nbconvert_exporter": "python",
   "pygments_lexer": "ipython3",
   "version": "3.12.5"
  }
 },
 "nbformat": 4,
 "nbformat_minor": 2
}
