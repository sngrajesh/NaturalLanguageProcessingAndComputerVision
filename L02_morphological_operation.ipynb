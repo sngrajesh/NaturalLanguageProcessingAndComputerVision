{
 "cells": [
  {
   "cell_type": "markdown",
   "metadata": {
    "id": "fG9453F9oEnn"
   },
   "source": [
    "<div style=\"\n",
    "    background: linear-gradient(90deg,rgb(251, 255, 10), #ff758c, #ff4d6d);\n",
    "    -webkit-background-clip: text;\n",
    "    -webkit-text-fill-color: transparent;\n",
    "    font-size: 20px;\n",
    "    font-weight: bold;\n",
    "    text-align: center;\">\n",
    "  Morphology Operations\n",
    "</div>\n"
   ]
  },
  {
   "cell_type": "markdown",
   "metadata": {
    "id": "7iG7YwYdoEnr"
   },
   "source": [
    "### Morphology\n",
    "The study of the structure of words, organisms, and materials.\n",
    "\n",
    "##### Morphemes\n",
    "Morphemes are the smallest meaningful units of language. They can be divided into:\n",
    "\n",
    "- **Prefix**: Comes before the base/root.\n",
    "- **Base**: The main part of the word.\n",
    "- **Suffix**: Comes after the base/root.\n",
    "\n",
    "##### Example: *Construct*\n",
    "- **con**: together\n",
    "- **struct**: build\n",
    "- **ion**: act of\n"
   ]
  },
  {
   "cell_type": "code",
   "execution_count": 1,
   "metadata": {
    "colab": {
     "base_uri": "https://localhost:8080/"
    },
    "id": "FWS6Zn3xoEn0",
    "outputId": "c4ec7756-203b-4e72-f9aa-05af7586094e"
   },
   "outputs": [
    {
     "name": "stdout",
     "output_type": "stream",
     "text": [
      "Collecting morfessor\n",
      "  Downloading Morfessor-2.0.6-py3-none-any.whl.metadata (628 bytes)\n",
      "Collecting polyglot\n",
      "  Downloading polyglot-16.7.4.tar.gz (126 kB)\n",
      "\u001b[2K     \u001b[90m━━━━━━━━━━━━━━━━━━━━━━━━━━━━━━━━━━━━━━━━\u001b[0m \u001b[32m126.3/126.3 kB\u001b[0m \u001b[31m2.6 MB/s\u001b[0m eta \u001b[36m0:00:00\u001b[0m\n",
      "\u001b[?25h  Preparing metadata (setup.py) ... \u001b[?25l\u001b[?25hdone\n",
      "Collecting PyICU\n",
      "  Downloading PyICU-2.14.tar.gz (263 kB)\n",
      "\u001b[2K     \u001b[90m━━━━━━━━━━━━━━━━━━━━━━━━━━━━━━━━━━━━━━━━\u001b[0m \u001b[32m263.9/263.9 kB\u001b[0m \u001b[31m9.4 MB/s\u001b[0m eta \u001b[36m0:00:00\u001b[0m\n",
      "\u001b[?25h  Installing build dependencies ... \u001b[?25l\u001b[?25hdone\n",
      "  Getting requirements to build wheel ... \u001b[?25l\u001b[?25hdone\n",
      "  Preparing metadata (pyproject.toml) ... \u001b[?25l\u001b[?25hdone\n",
      "Collecting pycld2\n",
      "  Downloading pycld2-0.41.tar.gz (41.4 MB)\n",
      "\u001b[2K     \u001b[90m━━━━━━━━━━━━━━━━━━━━━━━━━━━━━━━━━━━━━━━━\u001b[0m \u001b[32m41.4/41.4 MB\u001b[0m \u001b[31m14.0 MB/s\u001b[0m eta \u001b[36m0:00:00\u001b[0m\n",
      "\u001b[?25h  Preparing metadata (setup.py) ... \u001b[?25l\u001b[?25hdone\n",
      "Downloading Morfessor-2.0.6-py3-none-any.whl (35 kB)\n",
      "Building wheels for collected packages: polyglot, PyICU, pycld2\n",
      "  Building wheel for polyglot (setup.py) ... \u001b[?25l\u001b[?25hdone\n",
      "  Created wheel for polyglot: filename=polyglot-16.7.4-py2.py3-none-any.whl size=52562 sha256=c44a4eb6eb4b425570517bf445727e9b77b86568a4597e37f33c03d70f762557\n",
      "  Stored in directory: /root/.cache/pip/wheels/aa/92/4a/b172589446ba537db3bdb9a1f2204f27fe71217981c14ac368\n",
      "  Building wheel for PyICU (pyproject.toml) ... \u001b[?25l\u001b[?25hdone\n",
      "  Created wheel for PyICU: filename=PyICU-2.14-cp310-cp310-linux_x86_64.whl size=1809840 sha256=ad2a979ca61d2c5478af626d33ff1856af79bf59b328aedd23bc7e62e9997b6f\n",
      "  Stored in directory: /root/.cache/pip/wheels/78/6e/76/17c73021179c06c29d9b108896b9248da0de4f2af93f63d405\n",
      "  Building wheel for pycld2 (setup.py) ... \u001b[?25l\u001b[?25hdone\n",
      "  Created wheel for pycld2: filename=pycld2-0.41-cp310-cp310-linux_x86_64.whl size=9904070 sha256=d38d9af4aa4e5ce99506bcf6592c2fde3b3a6ea87d5123f779d2beecf44e60e8\n",
      "  Stored in directory: /root/.cache/pip/wheels/be/81/31/240c89c845e008a93d98542325270007de595bfd356eb0b06c\n",
      "Successfully built polyglot PyICU pycld2\n",
      "Installing collected packages: PyICU, pycld2, polyglot, morfessor\n",
      "Successfully installed PyICU-2.14 morfessor-2.0.6 polyglot-16.7.4 pycld2-0.41\n"
     ]
    }
   ],
   "source": [
    "!pip install morfessor polyglot PyICU pycld2"
   ]
  },
  {
   "cell_type": "code",
   "execution_count": 2,
   "metadata": {
    "colab": {
     "base_uri": "https://localhost:8080/"
    },
    "id": "nwG8QDSqbsIa",
    "outputId": "d9c36998-6582-47d3-a675-f0ace2d6a0d6"
   },
   "outputs": [
    {
     "name": "stdout",
     "output_type": "stream",
     "text": [
      "[polyglot_data] Downloading package morph2.en to\n",
      "[polyglot_data]     /root/polyglot_data...\n",
      "[polyglot_data] Downloading package morph2.mr to\n",
      "[polyglot_data]     /root/polyglot_data...\n"
     ]
    },
    {
     "data": {
      "text/plain": [
       "True"
      ]
     },
     "execution_count": 2,
     "metadata": {},
     "output_type": "execute_result"
    }
   ],
   "source": [
    "import polyglot\n",
    "from polyglot.downloader import downloader\n",
    "# Download the required resources\n",
    "downloader.download(\"morph2.en\")\n",
    "downloader.download(\"morph2.mr\")\n",
    "\n",
    "##\n",
    "# %%bash\n",
    "# polyglot download morph2.en morph2.mr"
   ]
  },
  {
   "cell_type": "code",
   "execution_count": 4,
   "metadata": {
    "colab": {
     "base_uri": "https://localhost:8080/"
    },
    "id": "xkAV8p_0oedq",
    "outputId": "2d35d4dd-4ee4-4902-ab3e-25999b387d6b"
   },
   "outputs": [
    {
     "name": "stdout",
     "output_type": "stream",
     "text": [
      "  1. Kapampangan                2. Italian                    3. Upper Sorbian            \n",
      "  4. Sakha                      5. Hindi                      6. French                   \n",
      "  7. Spanish; Castilian         8. Vietnamese                 9. Arabic                   \n",
      " 10. Macedonian                11. Pashto, Pushto            12. Bosnian-Croatian-Serbian \n",
      " 13. Egyptian Arabic           14. Norwegian Nynorsk         15. Sundanese                \n",
      " 16. Sicilian                  17. Azerbaijani               18. Bulgarian                \n",
      " 19. Yoruba                    20. Tajik                     21. Georgian                 \n",
      " 22. Tatar                     23. Galician                  24. Malagasy                 \n",
      " 25. Uighur, Uyghur            26. Amharic                   27. Venetian                 \n",
      " 28. Yiddish                   29. Norwegian                 30. Alemannic                \n",
      " 31. Estonian                  32. West Flemish              33. Divehi; Dhivehi; Mald... \n",
      " 34. Japanese                  35. Ilokano                   36. Haitian; Haitian Creole  \n",
      " 37. Belarusian                38. Greek, Modern             39. Ossetian, Ossetic        \n",
      " 40. Welsh                     41. Malayalam                 42. Albanian                 \n",
      " 43. Marathi (Marāṭhī)         44. Armenian                  45. Slovene                  \n",
      " 46. Korean                    47. Breton                    48. Irish                    \n",
      " 49. Luxembourgish, Letzeb...  50. Bengali                   51. Serbian                  \n",
      " 52. Fiji Hindi                53. Javanese                  54. Finnish                  \n",
      " 55. Gan Chinese               56. Kirghiz, Kyrgyz           57. Catalan; Valencian       \n",
      " 58. Quechua                   59. Croatian                  60. Dutch                    \n",
      " 61. Swedish                   62. Ido                       63. Tagalog                  \n",
      " 64. Sanskrit (Saṁskṛta)       65. Piedmontese language      66. Asturian                 \n",
      " 67. Danish                    68. Cebuano                   69. Western Frisian          \n",
      " 70. Kannada                   71. Scots                     72. Maltese                  \n",
      " 73. Swahili                   74. Limburgish, Limburgan...  75. Waray-Waray              \n",
      " 76. Lombard language          77. Uzbek                     78. Kurdish                  \n",
      " 79. Latvian                   80. Burmese                   81. Aragonese                \n",
      " 82. Volapük                   83. Northern Sami             84. Faroese                  \n",
      " 85. Kazakh                    86. Telugu                    87. Ukrainian                \n",
      " 88. Assamese                  89. Chuvash                   90. Silesian                 \n",
      " 91. Turkmen                   92. Romanian, Moldavian, ...  93. Persian                  \n",
      " 94. Tibetan Standard, Tib...  95. Latin                     96. Slovak                   \n",
      " 97. Sinhala, Sinhalese        98. Bavarian                  99. Icelandic                \n",
      "100. Mongolian                101. Walloon                  102. Portuguese               \n",
      "103. Urdu                     104. Gujarati                 105. Manx                     \n",
      "106. Tamil                    107. Khmer                    108. English                  \n",
      "109. Malay                    110. Chechen                  111. Bishnupriya Manipuri     \n",
      "112. Afrikaans                113. Basque                   114. Polish                   \n",
      "115. German                   116. Esperanto                117. Indonesian               \n",
      "118. Occitan                  119. Chinese                  120. Czech                    \n",
      "121. Hebrew (modern)          122. Romansh                  123. Lithuanian               \n",
      "124. Turkish                  125. Nepali                   126. Bosnian                  \n",
      "127. Interlingua              128. Zazaki                   129. Oriya                    \n",
      "130. Hungarian                131. Scottish Gaelic; Gaelic  132. Bashkir                  \n",
      "133. Thai                     134. Panjabi, Punjabi         135. Russian                  \n",
      "\n"
     ]
    }
   ],
   "source": [
    "from polyglot.downloader import downloader\n",
    "print(downloader.supported_languages_table(\"morph2\"))"
   ]
  },
  {
   "cell_type": "code",
   "execution_count": 6,
   "metadata": {
    "id": "aIXwnRI8oegl"
   },
   "outputs": [],
   "source": [
    "from polyglot.text import Text, Word"
   ]
  },
  {
   "cell_type": "code",
   "execution_count": 7,
   "metadata": {
    "colab": {
     "base_uri": "https://localhost:8080/"
    },
    "id": "ollee7YroEn4",
    "outputId": "b197db33-42c2-4632-82e8-1cd539457882"
   },
   "outputs": [
    {
     "name": "stdout",
     "output_type": "stream",
     "text": [
      "cats \t\t ['cat', 's']\n",
      "computing \t\t ['com', 'put', 'ing']\n",
      "association \t\t ['associ', 'ation']\n",
      "programming \t\t ['program', 'ming']\n",
      "leaderhsip \t\t ['leader', 'h', 's', 'ip']\n",
      "miscommunication \t\t ['mis', 'communication']\n",
      "identifiable \t\t ['identif', 'i', 'able']\n",
      "psychologically \t\t ['psycho', 'logical', 'ly']\n",
      "engineering \t\t ['engine', 'er', 'ing']\n",
      "tabular \t\t ['tab', 'ular']\n",
      "realistic \t\t ['real', 'istic']\n",
      "colorfull \t\t ['color', 'full']\n"
     ]
    }
   ],
   "source": [
    "from polyglot.text import Text, Word\n",
    "\n",
    "words = [\n",
    "    'cats', 'computing', 'association', 'programming', 'leaderhsip',\n",
    "    'miscommunication', 'identifiable', 'psychologically',\n",
    "    'engineering', 'tabular', 'realistic', 'colorfull'\n",
    "]\n",
    "\n",
    "for w in words:\n",
    "    w = Word(w, language='en')\n",
    "    print(w, '\\t\\t', w.morphemes)"
   ]
  },
  {
   "cell_type": "code",
   "execution_count": 8,
   "metadata": {
    "colab": {
     "base_uri": "https://localhost:8080/"
    },
    "id": "_mDkSe_Q90dV",
    "outputId": "5f47dfec-ec1f-4d61-aaea-761cee415e58"
   },
   "outputs": [
    {
     "name": "stdout",
     "output_type": "stream",
     "text": [
      "दवाखाना \t\t ['दवाखाना']\n",
      "शाळेतील \t\t ['शाळेतील']\n",
      "नकारात्मक \t\t ['नकारात्मक']\n",
      "स्वतंत्र \t\t ['स्वतंत्र']\n",
      "संप्रेषण \t\t ['संप्रेषण']\n",
      "परिषदेचा \t\t ['परिषदेचा']\n",
      "मुलाखत \t\t ['मुलाखत']\n",
      "कुत्र्याचा \t\t ['कुत्र्याचा']\n",
      "सुंदरता \t\t ['सुंदरता']\n",
      "विकासशील \t\t ['विकासशील']\n"
     ]
    }
   ],
   "source": [
    "marathi_words = [\n",
    "    \"दवाखाना\", \"शाळेतील\", \"नकारात्मक\",  \"स्वतंत्र\", \"संप्रेषण\",\n",
    "    \"परिषदेचा\", \"मुलाखत\", \"कुत्र्याचा\", \"सुंदरता\", \"विकासशील\"\n",
    "]\n",
    "\n",
    "for w in marathi_words:\n",
    "    w = Word(w, language='en')\n",
    "    print(w, '\\t\\t', w.morphemes)"
   ]
  }
 ],
 "metadata": {
  "accelerator": "GPU",
  "colab": {
   "gpuType": "T4",
   "provenance": []
  },
  "kernelspec": {
   "display_name": ".venv",
   "language": "python",
   "name": "python3"
  },
  "language_info": {
   "codemirror_mode": {
    "name": "ipython",
    "version": 3
   },
   "file_extension": ".py",
   "mimetype": "text/x-python",
   "name": "python",
   "nbconvert_exporter": "python",
   "pygments_lexer": "ipython3",
   "version": "3.9.13"
  }
 },
 "nbformat": 4,
 "nbformat_minor": 0
}
