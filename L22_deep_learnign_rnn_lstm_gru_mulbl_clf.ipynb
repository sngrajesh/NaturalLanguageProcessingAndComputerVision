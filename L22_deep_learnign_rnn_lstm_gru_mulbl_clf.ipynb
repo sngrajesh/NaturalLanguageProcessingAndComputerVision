{
  "nbformat": 4,
  "nbformat_minor": 0,
  "metadata": {
    "colab": {
      "provenance": [],
      "gpuType": "T4"
    },
    "kernelspec": {
      "name": "python3",
      "display_name": "Python 3"
    },
    "language_info": {
      "name": "python"
    },
    "accelerator": "GPU"
  },
  "cells": [
    {
      "cell_type": "markdown",
      "source": [
        "<div style=\"\n",
        "    background: linear-gradient(90deg,rgb(251, 255, 10), #ff758c, #ff4d6d);\n",
        "    -webkit-background-clip: text;\n",
        "    -webkit-text-fill-color: transparent;\n",
        "    font-size: 20px;\n",
        "    font-weight: bold;\n",
        "    text-align: center;\">\n",
        "    RNN, LSTM and GRU Multilabeld Classification\n",
        "</div>\n",
        "\n"
      ],
      "metadata": {
        "id": "KF2r64JScLtX"
      }
    },
    {
      "cell_type": "code",
      "execution_count": 45,
      "metadata": {
        "id": "v-cJQTm8b-mt"
      },
      "outputs": [],
      "source": [
        "import re\n",
        "import pandas as pd\n",
        "import matplotlib.pyplot as plt\n",
        "from tensorflow.keras.preprocessing.text import Tokenizer\n",
        "from tensorflow.keras.preprocessing.sequence import pad_sequences\n",
        "from keras.models import Sequential\n",
        "from tensorflow.keras.layers import Embedding\n",
        "from keras.layers import LSTM, Dense, GRU\n",
        "from sklearn.model_selection import train_test_split"
      ]
    },
    {
      "cell_type": "code",
      "source": [
        "df = pd.read_csv(r'/content/drive/MyDrive/Colab Notebooks/datasets/toxic-comments.csv')"
      ],
      "metadata": {
        "id": "XDr8zpXDd6Xe"
      },
      "execution_count": 46,
      "outputs": []
    },
    {
      "cell_type": "code",
      "source": [
        "df.shape"
      ],
      "metadata": {
        "id": "Bk7IhZvzd6U2",
        "colab": {
          "base_uri": "https://localhost:8080/"
        },
        "outputId": "4e768f08-6f6e-4032-8785-cba9bac1cefb"
      },
      "execution_count": 47,
      "outputs": [
        {
          "output_type": "execute_result",
          "data": {
            "text/plain": [
              "(159571, 8)"
            ]
          },
          "metadata": {},
          "execution_count": 47
        }
      ]
    },
    {
      "cell_type": "code",
      "source": [
        "df.columns"
      ],
      "metadata": {
        "id": "YhJLwRkSd6R2",
        "colab": {
          "base_uri": "https://localhost:8080/"
        },
        "outputId": "a65a3511-526e-4092-ff3e-b6b883ffe4b7"
      },
      "execution_count": 48,
      "outputs": [
        {
          "output_type": "execute_result",
          "data": {
            "text/plain": [
              "Index(['id', 'comment_text', 'toxic', 'severe_toxic', 'obscene', 'threat',\n",
              "       'insult', 'identity_hate'],\n",
              "      dtype='object')"
            ]
          },
          "metadata": {},
          "execution_count": 48
        }
      ]
    },
    {
      "cell_type": "code",
      "source": [
        "toxicities = ['toxic', 'severe_toxic', 'obscene', 'threat', 'insult', 'identity_hate']"
      ],
      "metadata": {
        "id": "_7-Yrsicd6PP"
      },
      "execution_count": 49,
      "outputs": []
    },
    {
      "cell_type": "code",
      "source": [
        "comments = df.sum(numeric_only=True)"
      ],
      "metadata": {
        "id": "eVF2KV39evxr"
      },
      "execution_count": 50,
      "outputs": []
    },
    {
      "cell_type": "code",
      "source": [
        "plt.pie(\n",
        "    comments.values,\n",
        "    labels=comments.index,\n",
        "    autopct='%2.2f%%'\n",
        ")"
      ],
      "metadata": {
        "id": "AOl4Im7VgWx7",
        "colab": {
          "base_uri": "https://localhost:8080/",
          "height": 718
        },
        "outputId": "85e6c364-9c82-4db8-a677-843150bdb65b",
        "collapsed": true
      },
      "execution_count": 51,
      "outputs": [
        {
          "output_type": "execute_result",
          "data": {
            "text/plain": [
              "([<matplotlib.patches.Wedge at 0x7ceffcabea70>,\n",
              "  <matplotlib.patches.Wedge at 0x7ceffcabe050>,\n",
              "  <matplotlib.patches.Wedge at 0x7ceffcabe0e0>,\n",
              "  <matplotlib.patches.Wedge at 0x7ceffcabd120>,\n",
              "  <matplotlib.patches.Wedge at 0x7ceffcabf8e0>,\n",
              "  <matplotlib.patches.Wedge at 0x7ceffcabcb50>],\n",
              " [Text(0.2205229793508023, 1.0776686019265134, 'toxic'),\n",
              "  Text(-1.0627685713534702, 0.28376568457673707, 'severe_toxic'),\n",
              "  Text(-0.88354481837012, -0.655246941184247, 'obscene'),\n",
              "  Text(-0.1465638198299719, -1.0901922063181555, 'threat'),\n",
              "  Text(0.6339460365091164, -0.8989507343533251, 'insult'),\n",
              "  Text(1.0913128295372536, -0.1379721279367442, 'identity_hate')],\n",
              " [Text(0.12028526146407398, 0.5878192374144617, '43.58%'),\n",
              "  Text(-0.5796919480109837, 0.15478128249640202, '4.54%'),\n",
              "  Text(-0.48193353729279265, -0.35740742246413465, '24.07%'),\n",
              "  Text(-0.0799439017254392, -0.5946502943553574, '1.36%'),\n",
              "  Text(0.3457887471867907, -0.49033676419272265, '22.44%'),\n",
              "  Text(0.5952615433839564, -0.0752575243291332, '4.00%')])"
            ]
          },
          "metadata": {},
          "execution_count": 51
        },
        {
          "output_type": "display_data",
          "data": {
            "text/plain": [
              "<Figure size 640x480 with 1 Axes>"
            ],
            "image/png": "[encoded data removed]"
          },
          "metadata": {}
        }
      ]
    },
    {
      "cell_type": "code",
      "source": [
        "# Neutral which do naot have any negative reiews\n",
        "neutral = df.sum(axis=1, numeric_only=True)\n",
        "sum(neutral==0)"
      ],
      "metadata": {
        "id": "zR8eN6qfgAi9",
        "colab": {
          "base_uri": "https://localhost:8080/"
        },
        "outputId": "c3c00b9d-ec3f-44cf-df9f-42c8f928b0d5"
      },
      "execution_count": 52,
      "outputs": [
        {
          "output_type": "execute_result",
          "data": {
            "text/plain": [
              "143346"
            ]
          },
          "metadata": {},
          "execution_count": 52
        }
      ]
    },
    {
      "cell_type": "markdown",
      "source": [
        "$$\\text{\n",
        "Data Cleaning\n",
        "}$$"
      ],
      "metadata": {
        "id": "n6z4FLn36Py3"
      }
    },
    {
      "cell_type": "code",
      "source": [
        "def clean_text(text):\n",
        "    text = text.lower()\n",
        "    text = re.sub(r'[^a-z0-9]+', ' ',text)\n",
        "    return text"
      ],
      "metadata": {
        "id": "g-1v_g-HgAgN"
      },
      "execution_count": 53,
      "outputs": []
    },
    {
      "cell_type": "code",
      "source": [
        "df['comment_text'] = df['comment_text'].apply(clean_text)"
      ],
      "metadata": {
        "id": "fhx6m8RwgAdX"
      },
      "execution_count": 54,
      "outputs": []
    },
    {
      "cell_type": "markdown",
      "source": [
        "$$\\text{\n",
        "Seperate dependent and Independent varuables\n",
        "}$$"
      ],
      "metadata": {
        "id": "w90R2kiI7lGT"
      }
    },
    {
      "cell_type": "code",
      "source": [
        "X = df['comment_text']\n",
        "y = df[toxicities].values"
      ],
      "metadata": {
        "id": "H7Igfe3E7sfG"
      },
      "execution_count": 55,
      "outputs": []
    },
    {
      "cell_type": "code",
      "source": [
        "y"
      ],
      "metadata": {
        "colab": {
          "base_uri": "https://localhost:8080/"
        },
        "id": "IJ05rfbG710g",
        "outputId": "22dcb5ad-86da-4eaa-da9b-b7c1d5b480ea"
      },
      "execution_count": 56,
      "outputs": [
        {
          "output_type": "execute_result",
          "data": {
            "text/plain": [
              "array([[0, 0, 0, 0, 0, 0],\n",
              "       [0, 0, 0, 0, 0, 0],\n",
              "       [0, 0, 0, 0, 0, 0],\n",
              "       ...,\n",
              "       [0, 0, 0, 0, 0, 0],\n",
              "       [0, 0, 0, 0, 0, 0],\n",
              "       [0, 0, 0, 0, 0, 0]])"
            ]
          },
          "metadata": {},
          "execution_count": 56
        }
      ]
    },
    {
      "cell_type": "markdown",
      "source": [
        "$$\\text{\n",
        "Data Preparation\n",
        "}$$"
      ],
      "metadata": {
        "id": "uocB9j-O8Wor"
      }
    },
    {
      "cell_type": "code",
      "source": [
        "tokenizer = Tokenizer(num_words=5000)\n",
        "tokenizer.fit_on_texts(X)\n",
        "sequences = tokenizer.texts_to_sequences(X)\n",
        "padded_sequences = pad_sequences(sequences, maxlen=200)"
      ],
      "metadata": {
        "id": "Y8yxgQJ78Px4"
      },
      "execution_count": 57,
      "outputs": []
    },
    {
      "cell_type": "code",
      "source": [
        "padded_sequences.shape"
      ],
      "metadata": {
        "colab": {
          "base_uri": "https://localhost:8080/"
        },
        "id": "-TkJX3q981E_",
        "outputId": "efe98c4b-c4ef-4077-dfe9-665c5f2b4715"
      },
      "execution_count": 58,
      "outputs": [
        {
          "output_type": "execute_result",
          "data": {
            "text/plain": [
              "(159571, 200)"
            ]
          },
          "metadata": {},
          "execution_count": 58
        }
      ]
    },
    {
      "cell_type": "markdown",
      "source": [
        "$$\\text{\n",
        "Train Test Split\n",
        "}$$"
      ],
      "metadata": {
        "id": "7_Juhc499P5c"
      }
    },
    {
      "cell_type": "code",
      "source": [
        "X_train, X_test, y_train, y_test = train_test_split(\n",
        "    padded_sequences,\n",
        "    y,\n",
        "    test_size=0.2,\n",
        "    random_state=0\n",
        ")"
      ],
      "metadata": {
        "id": "V3RksPGP9K2_"
      },
      "execution_count": 59,
      "outputs": []
    },
    {
      "cell_type": "code",
      "source": [
        "import gc\n",
        "gc.collect()\n",
        "gc.collect()"
      ],
      "metadata": {
        "colab": {
          "base_uri": "https://localhost:8080/"
        },
        "id": "THS0eO9DF6sX",
        "outputId": "a916cf74-56cf-42f3-c442-6625f335c233"
      },
      "execution_count": 60,
      "outputs": [
        {
          "output_type": "execute_result",
          "data": {
            "text/plain": [
              "0"
            ]
          },
          "metadata": {},
          "execution_count": 60
        }
      ]
    },
    {
      "cell_type": "code",
      "source": [
        "model = Sequential()\n",
        "model.add(Embedding(5000, 128, input_length = 200))\n",
        "model.add(GRU(64))\n",
        "model.add(Dense(6, activation = 'sigmoid'))"
      ],
      "metadata": {
        "colab": {
          "base_uri": "https://localhost:8080/"
        },
        "id": "Vox9THXm97r9",
        "outputId": "1258b8cb-45bd-4626-c7ce-99e22b456c5b"
      },
      "execution_count": 61,
      "outputs": [
        {
          "output_type": "stream",
          "name": "stderr",
          "text": [
            "/usr/local/lib/python3.10/dist-packages/keras/src/layers/core/embedding.py:90: UserWarning: Argument `input_length` is deprecated. Just remove it.\n",
            "  warnings.warn(\n"
          ]
        }
      ]
    },
    {
      "cell_type": "code",
      "source": [
        "model.summary()"
      ],
      "metadata": {
        "colab": {
          "base_uri": "https://localhost:8080/",
          "height": 238
        },
        "id": "Qnfrcyjd-59O",
        "outputId": "e358b5a4-3a2e-4282-c24c-21176ab532c7"
      },
      "execution_count": 62,
      "outputs": [
        {
          "output_type": "display_data",
          "data": {
            "text/plain": [
              "\u001b[1mModel: \"sequential_3\"\u001b[0m\n"
            ],
            "text/html": [
              "<pre style=\"white-space:pre;overflow-x:auto;line-height:normal;font-family:Menlo,'DejaVu Sans Mono',consolas,'Courier New',monospace\"><span style=\"font-weight: bold\">Model: \"sequential_3\"</span>\n",
              "</pre>\n"
            ]
          },
          "metadata": {}
        },
        {
          "output_type": "display_data",
          "data": {
            "text/plain": [
              "┏━━━━━━━━━━━━━━━━━━━━━━━━━━━━━━━━━━━━━━┳━━━━━━━━━━━━━━━━━━━━━━━━━━━━━┳━━━━━━━━━━━━━━━━━┓\n",
              "┃\u001b[1m \u001b[0m\u001b[1mLayer (type)                        \u001b[0m\u001b[1m \u001b[0m┃\u001b[1m \u001b[0m\u001b[1mOutput Shape               \u001b[0m\u001b[1m \u001b[0m┃\u001b[1m \u001b[0m\u001b[1m        Param #\u001b[0m\u001b[1m \u001b[0m┃\n",
              "┡━━━━━━━━━━━━━━━━━━━━━━━━━━━━━━━━━━━━━━╇━━━━━━━━━━━━━━━━━━━━━━━━━━━━━╇━━━━━━━━━━━━━━━━━┩\n",
              "│ embedding_3 (\u001b[38;5;33mEmbedding\u001b[0m)              │ ?                           │     \u001b[38;5;34m0\u001b[0m (unbuilt) │\n",
              "├──────────────────────────────────────┼─────────────────────────────┼─────────────────┤\n",
              "│ gru_1 (\u001b[38;5;33mGRU\u001b[0m)                          │ ?                           │     \u001b[38;5;34m0\u001b[0m (unbuilt) │\n",
              "├──────────────────────────────────────┼─────────────────────────────┼─────────────────┤\n",
              "│ dense_1 (\u001b[38;5;33mDense\u001b[0m)                      │ ?                           │     \u001b[38;5;34m0\u001b[0m (unbuilt) │\n",
              "└──────────────────────────────────────┴─────────────────────────────┴─────────────────┘\n"
            ],
            "text/html": [
              "<pre style=\"white-space:pre;overflow-x:auto;line-height:normal;font-family:Menlo,'DejaVu Sans Mono',consolas,'Courier New',monospace\">┏━━━━━━━━━━━━━━━━━━━━━━━━━━━━━━━━━━━━━━┳━━━━━━━━━━━━━━━━━━━━━━━━━━━━━┳━━━━━━━━━━━━━━━━━┓\n",
              "┃<span style=\"font-weight: bold\"> Layer (type)                         </span>┃<span style=\"font-weight: bold\"> Output Shape                </span>┃<span style=\"font-weight: bold\">         Param # </span>┃\n",
              "┡━━━━━━━━━━━━━━━━━━━━━━━━━━━━━━━━━━━━━━╇━━━━━━━━━━━━━━━━━━━━━━━━━━━━━╇━━━━━━━━━━━━━━━━━┩\n",
              "│ embedding_3 (<span style=\"color: #0087ff; text-decoration-color: #0087ff\">Embedding</span>)              │ ?                           │     <span style=\"color: #00af00; text-decoration-color: #00af00\">0</span> (unbuilt) │\n",
              "├──────────────────────────────────────┼─────────────────────────────┼─────────────────┤\n",
              "│ gru_1 (<span style=\"color: #0087ff; text-decoration-color: #0087ff\">GRU</span>)                          │ ?                           │     <span style=\"color: #00af00; text-decoration-color: #00af00\">0</span> (unbuilt) │\n",
              "├──────────────────────────────────────┼─────────────────────────────┼─────────────────┤\n",
              "│ dense_1 (<span style=\"color: #0087ff; text-decoration-color: #0087ff\">Dense</span>)                      │ ?                           │     <span style=\"color: #00af00; text-decoration-color: #00af00\">0</span> (unbuilt) │\n",
              "└──────────────────────────────────────┴─────────────────────────────┴─────────────────┘\n",
              "</pre>\n"
            ]
          },
          "metadata": {}
        },
        {
          "output_type": "display_data",
          "data": {
            "text/plain": [
              "\u001b[1m Total params: \u001b[0m\u001b[38;5;34m0\u001b[0m (0.00 B)\n"
            ],
            "text/html": [
              "<pre style=\"white-space:pre;overflow-x:auto;line-height:normal;font-family:Menlo,'DejaVu Sans Mono',consolas,'Courier New',monospace\"><span style=\"font-weight: bold\"> Total params: </span><span style=\"color: #00af00; text-decoration-color: #00af00\">0</span> (0.00 B)\n",
              "</pre>\n"
            ]
          },
          "metadata": {}
        },
        {
          "output_type": "display_data",
          "data": {
            "text/plain": [
              "\u001b[1m Trainable params: \u001b[0m\u001b[38;5;34m0\u001b[0m (0.00 B)\n"
            ],
            "text/html": [
              "<pre style=\"white-space:pre;overflow-x:auto;line-height:normal;font-family:Menlo,'DejaVu Sans Mono',consolas,'Courier New',monospace\"><span style=\"font-weight: bold\"> Trainable params: </span><span style=\"color: #00af00; text-decoration-color: #00af00\">0</span> (0.00 B)\n",
              "</pre>\n"
            ]
          },
          "metadata": {}
        },
        {
          "output_type": "display_data",
          "data": {
            "text/plain": [
              "\u001b[1m Non-trainable params: \u001b[0m\u001b[38;5;34m0\u001b[0m (0.00 B)\n"
            ],
            "text/html": [
              "<pre style=\"white-space:pre;overflow-x:auto;line-height:normal;font-family:Menlo,'DejaVu Sans Mono',consolas,'Courier New',monospace\"><span style=\"font-weight: bold\"> Non-trainable params: </span><span style=\"color: #00af00; text-decoration-color: #00af00\">0</span> (0.00 B)\n",
              "</pre>\n"
            ]
          },
          "metadata": {}
        }
      ]
    },
    {
      "cell_type": "code",
      "source": [
        "model.compile(\n",
        "    loss='binary_crossentropy',\n",
        "    optimizer='adam',\n",
        "    metrics=['accuracy']\n",
        ")"
      ],
      "metadata": {
        "id": "t1RAImjA_Ams"
      },
      "execution_count": 63,
      "outputs": []
    },
    {
      "cell_type": "code",
      "source": [
        "model.fit(\n",
        "    X_train, y_train,\n",
        "    epochs=3,\n",
        "    batch_size=32,\n",
        "    validation_data=(X_test, y_test)\n",
        ")"
      ],
      "metadata": {
        "colab": {
          "base_uri": "https://localhost:8080/"
        },
        "id": "1nAIzCPb_ATB",
        "outputId": "26f05404-04ae-48d9-cec5-05ff174b6e17"
      },
      "execution_count": 64,
      "outputs": [
        {
          "output_type": "stream",
          "name": "stdout",
          "text": [
            "Epoch 1/3\n",
            "\u001b[1m3990/3990\u001b[0m \u001b[32m━━━━━━━━━━━━━━━━━━━━\u001b[0m\u001b[37m\u001b[0m \u001b[1m45s\u001b[0m 11ms/step - accuracy: 0.9681 - loss: 0.0982 - val_accuracy: 0.9925 - val_loss: 0.0521\n",
            "Epoch 2/3\n",
            "\u001b[1m3990/3990\u001b[0m \u001b[32m━━━━━━━━━━━━━━━━━━━━\u001b[0m\u001b[37m\u001b[0m \u001b[1m83s\u001b[0m 11ms/step - accuracy: 0.9905 - loss: 0.0462 - val_accuracy: 0.9905 - val_loss: 0.0482\n",
            "Epoch 3/3\n",
            "\u001b[1m3990/3990\u001b[0m \u001b[32m━━━━━━━━━━━━━━━━━━━━\u001b[0m\u001b[37m\u001b[0m \u001b[1m80s\u001b[0m 11ms/step - accuracy: 0.9808 - loss: 0.0402 - val_accuracy: 0.9540 - val_loss: 0.0488\n"
          ]
        },
        {
          "output_type": "execute_result",
          "data": {
            "text/plain": [
              "<keras.src.callbacks.history.History at 0x7ceffce33340>"
            ]
          },
          "metadata": {},
          "execution_count": 64
        }
      ]
    },
    {
      "cell_type": "code",
      "source": [
        "def predict_toxicity(text):\n",
        "    text1 = clean_text(text)\n",
        "    sequences = tokenizer.texts_to_sequences(text1)\n",
        "    padded_sequences = pad_sequences(sequences, maxlen=200)\n",
        "    prediction = model.predict(padded_sequences, verbose = False)\n",
        "    return prediction[0]"
      ],
      "metadata": {
        "id": "lCAaALkJBG1H"
      },
      "execution_count": 65,
      "outputs": []
    },
    {
      "cell_type": "code",
      "source": [
        "text1 = 'You are waste of space. World is bwtter without you.'\n",
        "text2 = 'You life will be so beautiful without her.'\n",
        "text3 = 'You are stupid. No one cares about your opinion. Just shut up'"
      ],
      "metadata": {
        "id": "Hc-LjEjZCyz_"
      },
      "execution_count": 66,
      "outputs": []
    },
    {
      "cell_type": "code",
      "source": [
        "for text in [text1, text2, text3]:\n",
        "    print(text)\n",
        "    prediction = predict_toxicity(text1)\n",
        "    for toxicity, prob in zip(toxicities, prediction):\n",
        "        print(toxicity, '-->', prob)"
      ],
      "metadata": {
        "colab": {
          "base_uri": "https://localhost:8080/"
        },
        "id": "NyMKn2xFFFDI",
        "outputId": "8729532f-9715-4095-acf2-68efcef80a9f"
      },
      "execution_count": 70,
      "outputs": [
        {
          "output_type": "stream",
          "name": "stdout",
          "text": [
            "You are waste of space. World is bwtter without you.\n",
            "toxic --> 0.028755514\n",
            "severe_toxic --> 0.0022653285\n",
            "obscene --> 0.01763963\n",
            "threat --> 0.00012604537\n",
            "insult --> 0.031925436\n",
            "identity_hate --> 0.0003058547\n",
            "You life will be so beautiful without her.\n",
            "toxic --> 0.028755514\n",
            "severe_toxic --> 0.0022653285\n",
            "obscene --> 0.01763963\n",
            "threat --> 0.00012604537\n",
            "insult --> 0.031925436\n",
            "identity_hate --> 0.0003058547\n",
            "You are stupid. No one cares about your opinion. Just shut up\n",
            "toxic --> 0.028755514\n",
            "severe_toxic --> 0.0022653285\n",
            "obscene --> 0.01763963\n",
            "threat --> 0.00012604537\n",
            "insult --> 0.031925436\n",
            "identity_hate --> 0.0003058547\n"
          ]
        }
      ]
    }
  ]
}