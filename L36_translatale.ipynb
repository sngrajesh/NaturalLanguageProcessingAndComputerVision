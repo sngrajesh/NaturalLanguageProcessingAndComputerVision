{
 "cells": [
  {
   "cell_type": "markdown",
   "metadata": {},
   "source": [
    "<div style=\"\n",
    "    background: linear-gradient(90deg,rgb(251, 255, 10), #ff758c, #ff4d6d);\n",
    "    -webkit-background-clip: text;\n",
    "    -webkit-text-fill-color: transparent;\n",
    "    font-size: 20px;\n",
    "    font-weight: bold;\n",
    "    text-align: center;\">\n",
    "    Transliteration\n",
    "</div>\n",
    "\n"
   ]
  },
  {
   "cell_type": "code",
   "execution_count": 1,
   "metadata": {},
   "outputs": [
    {
     "name": "stdout",
     "output_type": "stream",
     "text": [
      "Collecting goslate\n",
      "  Downloading goslate-1.5.4.tar.gz (14 kB)\n",
      "  Preparing metadata (setup.py): started\n",
      "  Preparing metadata (setup.py): finished with status 'done'\n",
      "Collecting futures (from goslate)\n",
      "  Downloading futures-3.0.5.tar.gz (25 kB)\n",
      "  Preparing metadata (setup.py): started\n",
      "  Preparing metadata (setup.py): finished with status 'done'\n",
      "Building wheels for collected packages: goslate, futures\n",
      "  Building wheel for goslate (setup.py): started\n",
      "  Building wheel for goslate (setup.py): finished with status 'done'\n",
      "  Created wheel for goslate: filename=goslate-1.5.4-py3-none-any.whl size=11627 sha256=727254df5d105f238802e3c637f20acab47e2af7f67528987d16803bc71ca02f\n",
      "  Stored in directory: c:\\users\\dai.studentsdc\\appdata\\local\\pip\\cache\\wheels\\bc\\54\\a5\\e2e504b0fd04ca038ae401212af643fb056eeabdcf42b16775\n",
      "  Building wheel for futures (setup.py): started\n",
      "  Building wheel for futures (setup.py): finished with status 'done'\n",
      "  Created wheel for futures: filename=futures-3.0.5-py3-none-any.whl size=14076 sha256=6e5f17dc776e6805b02096225234be5d8dfa5e28f54fed6fcdf64c960a51b227\n",
      "  Stored in directory: c:\\users\\dai.studentsdc\\appdata\\local\\pip\\cache\\wheels\\4e\\fb\\0a\\e384a2d8f43aec14d63fdd277e546431a86435354ff701f1ee\n",
      "Successfully built goslate futures\n",
      "Installing collected packages: futures, goslate\n",
      "Successfully installed futures-3.0.5 goslate-1.5.4\n",
      "\n",
      "  Downloading goslate-1.5.4.tar.gz (14 kB)\n",
      "  Preparing metadata (setup.py): started\n",
      "  Preparing metadata (setup.py): finished with status 'done'\n",
      "Collecting futures (from goslate)\n",
      "  Downloading futures-3.0.5.tar.gz (25 kB)\n",
      "  Preparing metadata (setup.py): started\n",
      "  Preparing metadata (setup.py): finished with status 'done'\n",
      "Building wheels for collected packages: goslate, futures\n",
      "  Building wheel for goslate (setup.py): started\n",
      "  Building wheel for goslate (setup.py): finished with status 'done'\n",
      "  Created wheel for goslate: filename=goslate-1.5.4-py3-none-any.whl size=11627 sha256=727254df5d105f238802e3c637f20acab47e2af7f67528987d16803bc71ca02f\n",
      "  Stored in directory: c:\\users\\dai.studentsdc\\appdata\\local\\pip\\cache\\wheels\\bc\\54\\a5\\e2e504b0fd04ca038ae401212af643fb056eeabdcf42b16775\n",
      "  Building wheel for futures (setup.py): started\n",
      "  Building wheel for futures (setup.py): finished with status 'done'\n",
      "  Created wheel for futures: filename=futures-3.0.5-py3-none-any.whl size=14076 sha256=6e5f17dc776e6805b02096225234be5d8dfa5e28f54fed6fcdf64c960a51b227\n",
      "  Stored in directory: c:\\users\\dai.studentsdc\\appdata\\local\\pip\\cache\\wheels\\4e\\fb\\0a\\e384a2d8f43aec14d63fdd277e546431a86435354ff701f1ee\n",
      "Successfully built goslate futures\n",
      "Installing collected packages: futures, goslate\n",
      "Successfully installed futures-3.0.5 goslate-1.5.4\n"
     ]
    }
   ],
   "source": [
    "!pip install goslate"
   ]
  },
  {
   "cell_type": "code",
   "execution_count": 2,
   "metadata": {},
   "outputs": [],
   "source": [
    "from goslate import Goslate"
   ]
  },
  {
   "cell_type": "code",
   "execution_count": null,
   "metadata": {},
   "outputs": [],
   "source": [
    "text = \"I will be there in a minute. I am sure I can handle it.\"\n",
    "\n",
    "trans=Goslate()\n",
    "trans.translate(text=text, source_language='en', target_language='hi')"
   ]
  },
  {
   "cell_type": "code",
   "execution_count": 15,
   "metadata": {},
   "outputs": [
    {
     "name": "stdout",
     "output_type": "stream",
     "text": [
      "{'ab': 'Abkhaz', 'ace': 'Acehnese', 'ach': 'Acholi', 'aa': 'Afar', 'af': 'Afrikaans', 'sq': 'Albanian', 'alz': 'Alur', 'am': 'Amharic', 'ar': 'Arabic', 'hy': 'Armenian', 'as': 'Assamese', 'av': 'Avar', 'awa': 'Awadhi', 'ay': 'Aymara', 'az': 'Azerbaijani', 'ban': 'Balinese', 'bal': 'Baluchi', 'bm': 'Bambara', 'bci': 'Baoulé', 'ba': 'Bashkir', 'eu': 'Basque', 'btx': 'Batak Karo', 'bts': 'Batak Simalungun', 'bbc': 'Batak Toba', 'be': 'Belarusian', 'bem': 'Bemba', 'bn': 'Bengali', 'bew': 'Betawi', 'bho': 'Bhojpuri', 'bik': 'Bikol', 'bs': 'Bosnian', 'br': 'Breton', 'bg': 'Bulgarian', 'bua': 'Buryat', 'yue': 'Cantonese', 'ca': 'Catalan', 'ceb': 'Cebuano', 'ch': 'Chamorro', 'ce': 'Chechen', 'ny': 'Chichewa', 'zh-CN': 'Chinese (Simplified)', 'chk': 'Chuukese', 'cv': 'Chuvash', 'co': 'Corsican', 'crh': 'Crimean Tatar (Cyrillic)', 'crh-Latn': 'Crimean Tatar (Latin)', 'hr': 'Croatian', 'cs': 'Czech', 'da': 'Danish', 'fa-AF': 'Dari', 'dv': 'Dhivehi', 'din': 'Dinka', 'doi': 'Dogri', 'dov': 'Dombe', 'nl': 'Dutch', 'dyu': 'Dyula', 'dz': 'Dzongkha', 'en': 'English', 'eo': 'Esperanto', 'et': 'Estonian', 'ee': 'Ewe', 'fo': 'Faroese', 'fj': 'Fijian', 'tl': 'Filipino', 'fi': 'Finnish', 'fon': 'Fon', 'fr': 'French', 'fr-CA': 'French (Canada)', 'fy': 'Frisian', 'fur': 'Friulian', 'ff': 'Fulani', 'gaa': 'Ga', 'gl': 'Galician', 'ka': 'Georgian', 'de': 'German', 'el': 'Greek', 'gn': 'Guarani', 'gu': 'Gujarati', 'ht': 'Haitian Creole', 'cnh': 'Hakha Chin', 'ha': 'Hausa', 'haw': 'Hawaiian', 'iw': 'Hebrew', 'hil': 'Hiligaynon', 'hi': 'Hindi', 'hmn': 'Hmong', 'hu': 'Hungarian', 'hrx': 'Hunsrik', 'iba': 'Iban', 'is': 'Icelandic', 'ig': 'Igbo', 'ilo': 'Ilocano', 'id': 'Indonesian', 'iu-Latn': 'Inuktut (Latin)', 'iu': 'Inuktut (Syllabics)', 'ga': 'Irish', 'it': 'Italian', 'jam': 'Jamaican Patois', 'ja': 'Japanese', 'jw': 'Javanese', 'kac': 'Jingpo', 'kl': 'Kalaallisut', 'kn': 'Kannada', 'kr': 'Kanuri', 'pam': 'Kapampangan', 'kk': 'Kazakh', 'kha': 'Khasi', 'km': 'Khmer', 'cgg': 'Kiga', 'kg': 'Kikongo', 'rw': 'Kinyarwanda', 'ktu': 'Kituba', 'trp': 'Kokborok', 'kv': 'Komi', 'gom': 'Konkani', 'ko': 'Korean', 'kri': 'Krio', 'ku': 'Kurdish (Kurmanji)', 'ckb': 'Kurdish (Sorani)', 'ky': 'Kyrgyz', 'lo': 'Lao', 'ltg': 'Latgalian', 'la': 'Latin', 'lv': 'Latvian', 'lij': 'Ligurian', 'li': 'Limburgish', 'ln': 'Lingala', 'lt': 'Lithuanian', 'lmo': 'Lombard', 'lg': 'Luganda', 'luo': 'Luo', 'lb': 'Luxembourgish', 'mk': 'Macedonian', 'mad': 'Madurese', 'mai': 'Maithili', 'mak': 'Makassar', 'mg': 'Malagasy', 'ms': 'Malay', 'ms-Arab': 'Malay (Jawi)', 'ml': 'Malayalam', 'mt': 'Maltese', 'mam': 'Mam', 'gv': 'Manx', 'mi': 'Maori', 'mr': 'Marathi', 'mh': 'Marshallese', 'mwr': 'Marwadi', 'mfe': 'Mauritian Creole', 'chm': 'Meadow Mari', 'mni-Mtei': 'Meiteilon (Manipuri)', 'min': 'Minang', 'lus': 'Mizo', 'mn': 'Mongolian', 'my': 'Myanmar (Burmese)', 'nhe': 'Nahuatl (Eastern Huasteca)', 'ndc-ZW': 'Ndau', 'nr': 'Ndebele (South)', 'new': 'Nepalbhasa (Newari)', 'ne': 'Nepali', 'bm-Nkoo': 'NKo', 'no': 'Norwegian', 'nus': 'Nuer', 'oc': 'Occitan', 'or': 'Odia (Oriya)', 'om': 'Oromo', 'os': 'Ossetian', 'pag': 'Pangasinan', 'pap': 'Papiamento', 'ps': 'Pashto', 'fa': 'Persian', 'pl': 'Polish', 'pt': 'Portuguese (Brazil)', 'pt-PT': 'Portuguese (Portugal)', 'pa': 'Punjabi (Gurmukhi)', 'pa-Arab': 'Punjabi (Shahmukhi)', 'qu': 'Quechua', 'kek': 'Qʼeqchiʼ', 'rom': 'Romani', 'ro': 'Romanian', 'rn': 'Rundi', 'ru': 'Russian', 'se': 'Sami (North)', 'sm': 'Samoan', 'sg': 'Sango', 'sa': 'Sanskrit', 'sat-Latn': 'Santali (Latin)', 'sat': 'Santali (Ol Chiki)', 'gd': 'Scots Gaelic', 'nso': 'Sepedi', 'sr': 'Serbian', 'st': 'Sesotho', 'crs': 'Seychellois Creole', 'shn': 'Shan', 'sn': 'Shona', 'scn': 'Sicilian', 'szl': 'Silesian', 'sd': 'Sindhi', 'si': 'Sinhala', 'sk': 'Slovak', 'sl': 'Slovenian', 'so': 'Somali', 'es': 'Spanish', 'su': 'Sundanese', 'sus': 'Susu', 'sw': 'Swahili', 'ss': 'Swati', 'sv': 'Swedish', 'ty': 'Tahitian', 'tg': 'Tajik', 'ber-Latn': 'Tamazight', 'ber': 'Tamazight (Tifinagh)', 'ta': 'Tamil', 'tt': 'Tatar', 'te': 'Telugu', 'tet': 'Tetum', 'th': 'Thai', 'bo': 'Tibetan', 'ti': 'Tigrinya', 'tiv': 'Tiv', 'tpi': 'Tok Pisin', 'to': 'Tongan', 'lua': 'Tshiluba', 'ts': 'Tsonga', 'tn': 'Tswana', 'tcy': 'Tulu', 'tum': 'Tumbuka', 'tr': 'Turkish', 'tk': 'Turkmen', 'tyv': 'Tuvan', 'ak': 'Twi', 'udm': 'Udmurt', 'uk': 'Ukrainian', 'ur': 'Urdu', 'ug': 'Uyghur', 'uz': 'Uzbek', 've': 'Venda', 'vec': 'Venetian', 'vi': 'Vietnamese', 'war': 'Waray', 'cy': 'Welsh', 'wo': 'Wolof', 'xh': 'Xhosa', 'sah': 'Yakut', 'yi': 'Yiddish', 'yo': 'Yoruba', 'yua': 'Yucatec Maya', 'zap': 'Zapotec', 'zu': 'Zulu', 'zh-TW': 'Chinese (Traditional)', 'zh': 'Chinese'}\n"
     ]
    }
   ],
   "source": [
    "languages = Goslate().get_languages()\n",
    "print(languages)"
   ]
  }
 ],
 "metadata": {
  "kernelspec": {
   "display_name": ".env",
   "language": "python",
   "name": "python3"
  },
  "language_info": {
   "codemirror_mode": {
    "name": "ipython",
    "version": 3
   },
   "file_extension": ".py",
   "mimetype": "text/x-python",
   "name": "python",
   "nbconvert_exporter": "python",
   "pygments_lexer": "ipython3",
   "version": "3.12.5"
  }
 },
 "nbformat": 4,
 "nbformat_minor": 2
}
