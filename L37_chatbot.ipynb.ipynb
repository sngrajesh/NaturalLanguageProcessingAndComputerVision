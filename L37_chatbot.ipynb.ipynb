{
 "cells": [
  {
   "cell_type": "markdown",
   "metadata": {},
   "source": [
    "<div style=\"\n",
    "    background: linear-gradient(90deg,rgb(251, 255, 10), #ff758c, #ff4d6d);\n",
    "    -webkit-background-clip: text;\n",
    "    -webkit-text-fill-color: transparent;\n",
    "    font-size: 20px;\n",
    "    font-weight: bold;\n",
    "    text-align: center;\">\n",
    "    Chatbot\n",
    "</div>\n",
    "\n"
   ]
  },
  {
   "cell_type": "code",
   "execution_count": 4,
   "metadata": {},
   "outputs": [],
   "source": [
    "import nltk\n",
    "import random\n",
    "from nltk.stem import WordNetLemmatizer"
   ]
  },
  {
   "cell_type": "code",
   "execution_count": 5,
   "metadata": {},
   "outputs": [],
   "source": [
    "# Define chatbot response an intents\n",
    "response = {\n",
    "    'greeting' : ['Hello', 'Hi There!', 'Hey!', 'Howdy!'],\n",
    "    'goodbye' : ['Goodbye', 'See you later!', 'Bye!', 'Take care!'],\n",
    "    'thanks' : ['You are welcome.', 'Thank you for using me.', 'Anytime.', 'No problem.'],\n",
    "    'default' : ['I am sorry, I do not understand.', 'Can you tell again?', 'I am not sure.']\n",
    "}"
   ]
  },
  {
   "cell_type": "code",
   "execution_count": 6,
   "metadata": {},
   "outputs": [],
   "source": [
    "# Simple set of qestions and answers\n",
    "patterns = {\n",
    "    'hi':'greeting',\n",
    "    'hello':'greeting',\n",
    "    'hey':'greeting',\n",
    "    'bye':'goodbye',\n",
    "    'thanks':'thanks',\n",
    "    'thank you':'thanks',\n",
    "}\n"
   ]
  },
  {
   "cell_type": "code",
   "execution_count": 7,
   "metadata": {},
   "outputs": [],
   "source": [
    "# Mathc the user input\n",
    "def respond(user_input):\n",
    "    for word in nltk.word_tokenize(user_input.lower()):\n",
    "        if word in patterns:\n",
    "            intent = patterns[word]\n",
    "            return random.choice(response[intent])\n",
    "    return random.choice(response['default'])"
   ]
  },
  {
   "cell_type": "code",
   "execution_count": null,
   "metadata": {},
   "outputs": [
    {
     "name": "stdout",
     "output_type": "stream",
     "text": [
      "Chatbot:  Howdy!\n",
      "Chatbot:  I am sorry, I do not understand.\n",
      "Chatbot:  I am sorry, I do not understand.\n",
      "Chatbot:  Take care!\n"
     ]
    }
   ],
   "source": [
    "def chat():\n",
    "    while True:\n",
    "        user_input = input(\"You: \")\n",
    "        if user_input.lower() == \"exit\":\n",
    "            break\n",
    "        print(\"Chatbot: \", respond(user_input))\n",
    "        \n",
    "chat()"
   ]
  }
 ],
 "metadata": {
  "kernelspec": {
   "display_name": ".env",
   "language": "python",
   "name": "python3"
  },
  "language_info": {
   "codemirror_mode": {
    "name": "ipython",
    "version": 3
   },
   "file_extension": ".py",
   "mimetype": "text/x-python",
   "name": "python",
   "nbconvert_exporter": "python",
   "pygments_lexer": "ipython3",
   "version": "3.12.5"
  }
 },
 "nbformat": 4,
 "nbformat_minor": 2
}
