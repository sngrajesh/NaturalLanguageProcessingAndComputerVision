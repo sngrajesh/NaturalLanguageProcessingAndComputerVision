{
 "cells": [
  {
   "cell_type": "markdown",
   "metadata": {},
   "source": [
    "<div style=\"\n",
    "    background: linear-gradient(90deg,rgb(251, 255, 10), #ff758c, #ff4d6d);\n",
    "    -webkit-background-clip: text;\n",
    "    -webkit-text-fill-color: transparent;\n",
    "    font-size: 17px;\n",
    "    font-weight: bold;\n",
    "    text-align: center;\">\n",
    "    Basics of Tkinter\n",
    "<br/>\n",
    "-----------------------------------------------------------------------------------------------------------------------------------------\n",
    "</div>\n"
   ]
  },
  {
   "cell_type": "code",
   "execution_count": 1,
   "metadata": {},
   "outputs": [],
   "source": [
    "from tkinter import *"
   ]
  },
  {
   "cell_type": "code",
   "execution_count": 2,
   "metadata": {},
   "outputs": [],
   "source": [
    "top = Tk()\n",
    "\n",
    "top.mainloop()"
   ]
  },
  {
   "cell_type": "code",
   "execution_count": 3,
   "metadata": {},
   "outputs": [],
   "source": [
    "top  = Tk()\n",
    "top.title('My Application')\n",
    "top.geometry('500x400')\n",
    "\n",
    "top.mainloop()"
   ]
  },
  {
   "cell_type": "code",
   "execution_count": 4,
   "metadata": {},
   "outputs": [],
   "source": [
    "top  = Tk()\n",
    "top.title('My Application')\n",
    "top.geometry('500x400')\n",
    "\n",
    "l = Label(top, text='Enter the number :')\n",
    "e = Entry(top)\n",
    "b = Button(top, text='Click Here')\n",
    "\n",
    "l.pack()\n",
    "e.pack()\n",
    "b.pack()\n",
    "\n",
    "\n",
    "\n",
    "top.mainloop()"
   ]
  },
  {
   "cell_type": "code",
   "execution_count": 5,
   "metadata": {},
   "outputs": [
    {
     "name": "stdout",
     "output_type": "stream",
     "text": [
      "Square of the number is : 484\n"
     ]
    }
   ],
   "source": [
    "top  = Tk()\n",
    "top.title('My Application')\n",
    "top.geometry('500x400')\n",
    "\n",
    "def show():\n",
    "    square = num.get()**2\n",
    "    result.config(text=f'Square of the number is : {square}')\n",
    "    print('Square of the number is :', square)\n",
    "\n",
    "num =IntVar()\n",
    "\n",
    "Label(top, text='Enter the number :').place(x=100, y=50)\n",
    "Entry(top, textvariable=num).place(x=100, y=120)\n",
    "Button(top, text='Click Here', command=show).place(x=100, y=190)\n",
    "\n",
    "result = Label(top, text='Square of the number is :')\n",
    "result.pack()\n",
    "\n",
    "top.mainloop()"
   ]
  },
  {
   "cell_type": "code",
   "execution_count": 6,
   "metadata": {},
   "outputs": [],
   "source": [
    "from tkinter import Tk, Label, Entry, Button, DoubleVar\n",
    "\n",
    "top = Tk()\n",
    "top.title('Calculator')\n",
    "top.geometry('500x400')\n",
    "\n",
    "def show(op):\n",
    "    try:\n",
    "        num1_val = num1.get()\n",
    "        num2_val = num2.get()\n",
    "        if op == '+':\n",
    "            result_val = num1_val + num2_val\n",
    "        elif op == '-':\n",
    "            result_val = num1_val - num2_val\n",
    "        elif op == '*':\n",
    "            result_val = num1_val * num2_val\n",
    "        elif op == '/':\n",
    "            if num2_val != 0:\n",
    "                result_val = num1_val / num2_val\n",
    "            else:\n",
    "                result_val = 'Error (division by zero)'\n",
    "        else:\n",
    "            result_val = 'Invalid Operation'\n",
    "        result.config(text=f'Result: {result_val}')\n",
    "    except Exception as e:\n",
    "        result.config(text=f\"Error: {e}\")\n",
    "\n",
    "num1 = DoubleVar()\n",
    "num2 = DoubleVar()\n",
    "\n",
    "Label(top, text='Enter the first number:').place(x=100, y=50)\n",
    "Entry(top, textvariable=num1).place(x=100, y=100)\n",
    "\n",
    "Label(top, text='Enter the second number:').place(x=100, y=130)\n",
    "Entry(top, textvariable=num2).place(x=100, y=160)\n",
    "\n",
    "Button(top, text='+', command=lambda: show('+')).place(x=100, y=200)\n",
    "Button(top, text='-', command=lambda: show('-')).place(x=150, y=200)\n",
    "Button(top, text='*', command=lambda: show('*')).place(x=200, y=200)\n",
    "Button(top, text='/', command=lambda: show('/')).place(x=250, y=200)\n",
    "\n",
    "result = Label(top, text='Result: ')\n",
    "result.place(x=100, y=250)\n",
    "\n",
    "top.mainloop()\n"
   ]
  },
  {
   "cell_type": "code",
   "execution_count": 8,
   "metadata": {},
   "outputs": [
    {
     "name": "stderr",
     "output_type": "stream",
     "text": [
      "[nltk_data] Downloading package punkt_tab to\n",
      "[nltk_data]     C:\\Users\\DAI.STUDENTSDC\\AppData\\Roaming\\nltk_data...\n",
      "[nltk_data]   Package punkt_tab is already up-to-date!\n",
      "[nltk_data] Downloading package stopwords to\n",
      "[nltk_data]     C:\\Users\\DAI.STUDENTSDC\\AppData\\Roaming\\nltk_data...\n",
      "[nltk_data]   Package stopwords is already up-to-date!\n"
     ]
    },
    {
     "data": {
      "text/plain": [
       "True"
      ]
     },
     "execution_count": 8,
     "metadata": {},
     "output_type": "execute_result"
    }
   ],
   "source": [
    "import nltk \n",
    "nltk.download('punkt_tab')\n",
    "nltk.download('stopwords')"
   ]
  },
  {
   "cell_type": "markdown",
   "metadata": {},
   "source": [
    "<div style=\"\n",
    "    background: linear-gradient(90deg,rgb(251, 255, 10), #ff758c, #ff4d6d);\n",
    "    -webkit-background-clip: text;\n",
    "    -webkit-text-fill-color: transparent;\n",
    "    font-size: 17px;\n",
    "    font-weight: bold;\n",
    "    text-align: center;\">\n",
    "    Deploying the model\n",
    "<br/>\n",
    "-----------------------------------------------------------------------------------------------------------------------------------------\n",
    "</div>\n"
   ]
  },
  {
   "cell_type": "code",
   "execution_count": 10,
   "metadata": {},
   "outputs": [
    {
     "name": "stdout",
     "output_type": "stream",
     "text": [
      "['freemsg', 'hey', 'darl', '3', 'week', 'word', 'back', 'like', 'fun', 'still', 'tb', 'ok', 'xxx', 'std', 'chg', 'send', 'rcv']\n",
      "['yeah', 'got', '2', 'v', 'apologet', 'n', 'fallen', 'actin', 'like', 'spoilt', 'child', 'got', 'caught', 'till', '2', 'wo', 'go', 'badli', 'cheer']\n"
     ]
    }
   ],
   "source": [
    "import joblib\n",
    "from tkinter import *\n",
    "from nltk.tokenize import word_tokenize\n",
    "from nltk.stem import PorterStemmer\n",
    "from nltk.corpus import stopwords\n",
    "\n",
    "swords = stopwords.words('english')\n",
    "ps = PorterStemmer()\n",
    "\n",
    "top = Tk()\n",
    "top.title(\"Main Spam Ham Prediction\")\n",
    "top.geometry(\"800x600\")\n",
    "\n",
    "\n",
    "def clean_sentence(sent):\n",
    "    tokens1 = word_tokenize(sent)\n",
    "    tokens2 = [token for token in tokens1 if (token.isalpha() or token.isdigit())]\n",
    "    tokens3 = [token.lower() for token in tokens2 if token.lower() not in swords ]\n",
    "    tokens4 = [ps.stem(token) for token in tokens3]\n",
    "    return tokens4\n",
    "\n",
    "def check():\n",
    "    classifier = joblib.load(r'models/mail_classifier.model')\n",
    "    tfidf = joblib.load(r'models/mail_tfidf.model')\n",
    "\n",
    "    message = str(t.get('1.0', END))\n",
    "    message = clean_sentence(message)\n",
    "\n",
    "    result = classifier.predict(tfidf.transform([' '.join(message)]))\n",
    "    l.config(text=f'Message is: {str(result[0])}')\n",
    "    l.place(x=350, y=550)\n",
    "\n",
    "\n",
    "Label(top, text='Enter your message here:').place(x=50, y=50)\n",
    "t=Text(top)\n",
    "t.place(x=50, y=70)\n",
    "Button(top, text='Check', command=check).pack(side='bottom')\n",
    "l=Label(top, text='Message is: ')\n",
    "\n",
    "top.mainloop()"
   ]
  }
 ],
 "metadata": {
  "kernelspec": {
   "display_name": ".env",
   "language": "python",
   "name": "python3"
  },
  "language_info": {
   "codemirror_mode": {
    "name": "ipython",
    "version": 3
   },
   "file_extension": ".py",
   "mimetype": "text/x-python",
   "name": "python",
   "nbconvert_exporter": "python",
   "pygments_lexer": "ipython3",
   "version": "3.12.5"
  }
 },
 "nbformat": 4,
 "nbformat_minor": 2
}
