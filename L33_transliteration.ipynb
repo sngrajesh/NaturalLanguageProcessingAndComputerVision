{
 "cells": [
  {
   "cell_type": "markdown",
   "metadata": {},
   "source": [
    "<div style=\"\n",
    "    background: linear-gradient(90deg,rgb(251, 255, 10), #ff758c, #ff4d6d);\n",
    "    -webkit-background-clip: text;\n",
    "    -webkit-text-fill-color: transparent;\n",
    "    font-size: 20px;\n",
    "    font-weight: bold;\n",
    "    text-align: center;\">\n",
    "    Transliteration\n",
    "</div>\n",
    "\n"
   ]
  },
  {
   "cell_type": "markdown",
   "metadata": {},
   "source": [
    "\n",
    "* Transliteration refers to the method of mapping from one system of writing to another based on phonetic similarity.\n",
    "\n",
    "* With this tool, you type in latin letters (d.ga,b,c et.), which are converted to characters that have similar pronunciations in the target language..\n",
    "\n",
    "* For example, in Hindi translieteration, you can type in \"namaste\" (\"नमस्ते\"), which sounds like \"namaste\", A list of candidate translietrations may show for you to select.\n",
    "\n",
    "* Note that \"transliteration\" is different from \"translation\": the conversion is based on the pronunciation, not the meaning.\n",
    "\n",
    "* https://baraha.com/main.php"
   ]
  },
  {
   "cell_type": "code",
   "execution_count": 1,
   "metadata": {},
   "outputs": [
    {
     "name": "stdout",
     "output_type": "stream",
     "text": [
      "Collecting indic_transliteration\n",
      "  Downloading indic_transliteration-2.3.68-py3-none-any.whl.metadata (1.4 kB)\n",
      "Collecting backports.functools-lru-cache (from indic_transliteration)\n",
      "  Downloading backports.functools_lru_cache-2.0.0-py2.py3-none-any.whl.metadata (3.5 kB)\n",
      "Requirement already satisfied: regex in e:\\naturallanguageprocessingandcomputervision\\.env\\lib\\site-packages (from indic_transliteration) (2024.11.6)\n",
      "Requirement already satisfied: typer in e:\\naturallanguageprocessingandcomputervision\\.env\\lib\\site-packages (from indic_transliteration) (0.15.1)\n",
      "Collecting toml (from indic_transliteration)\n",
      "  Downloading toml-0.10.2-py2.py3-none-any.whl.metadata (7.1 kB)\n",
      "Collecting roman (from indic_transliteration)\n",
      "  Downloading roman-4.2-py3-none-any.whl.metadata (3.6 kB)\n",
      "Requirement already satisfied: click>=8.0.0 in e:\\naturallanguageprocessingandcomputervision\\.env\\lib\\site-packages (from typer->indic_transliteration) (8.1.7)\n",
      "Requirement already satisfied: typing-extensions>=3.7.4.3 in e:\\naturallanguageprocessingandcomputervision\\.env\\lib\\site-packages (from typer->indic_transliteration) (4.12.2)\n",
      "Requirement already satisfied: shellingham>=1.3.0 in e:\\naturallanguageprocessingandcomputervision\\.env\\lib\\site-packages (from typer->indic_transliteration) (1.5.4)\n",
      "Requirement already satisfied: rich>=10.11.0 in e:\\naturallanguageprocessingandcomputervision\\.env\\lib\\site-packages (from typer->indic_transliteration) (13.9.4)\n",
      "Requirement already satisfied: colorama in e:\\naturallanguageprocessingandcomputervision\\.env\\lib\\site-packages (from click>=8.0.0->typer->indic_transliteration) (0.4.6)\n",
      "Requirement already satisfied: markdown-it-py>=2.2.0 in e:\\naturallanguageprocessingandcomputervision\\.env\\lib\\site-packages (from rich>=10.11.0->typer->indic_transliteration) (3.0.0)\n",
      "Requirement already satisfied: pygments<3.0.0,>=2.13.0 in e:\\naturallanguageprocessingandcomputervision\\.env\\lib\\site-packages (from rich>=10.11.0->typer->indic_transliteration) (2.18.0)\n",
      "Requirement already satisfied: mdurl~=0.1 in e:\\naturallanguageprocessingandcomputervision\\.env\\lib\\site-packages (from markdown-it-py>=2.2.0->rich>=10.11.0->typer->indic_transliteration) (0.1.2)\n",
      "Downloading indic_transliteration-2.3.68-py3-none-any.whl (155 kB)\n",
      "Downloading backports.functools_lru_cache-2.0.0-py2.py3-none-any.whl (6.7 kB)\n",
      "Downloading roman-4.2-py3-none-any.whl (5.5 kB)\n",
      "Downloading toml-0.10.2-py2.py3-none-any.whl (16 kB)\n",
      "Installing collected packages: toml, roman, backports.functools-lru-cache, indic_transliteration\n",
      "Successfully installed backports.functools-lru-cache-2.0.0 indic_transliteration-2.3.68 roman-4.2 toml-0.10.2\n"
     ]
    }
   ],
   "source": [
    "!pip install indic_transliteration"
   ]
  },
  {
   "cell_type": "code",
   "execution_count": 2,
   "metadata": {},
   "outputs": [],
   "source": [
    "from indic_transliteration import  sanscript\n",
    "from indic_transliteration.sanscript import transliterate"
   ]
  },
  {
   "cell_type": "code",
   "execution_count": 12,
   "metadata": {},
   "outputs": [
    {
     "name": "stdout",
     "output_type": "stream",
     "text": [
      "श्रीवल्लि\n"
     ]
    }
   ],
   "source": [
    "data = 'shreevalli'\n",
    "print(transliterate(data, sanscript.ITRANS, sanscript.DEVANAGARI))"
   ]
  },
  {
   "cell_type": "code",
   "execution_count": 21,
   "metadata": {},
   "outputs": [
    {
     "name": "stdout",
     "output_type": "stream",
     "text": [
      "MALAYALAM :  രാജേശ\n",
      "DEVANAGARI :  राजेश\n",
      "ORIYA :  ରାଜେଶ\n",
      "BENGALI :  রাজেশ\n",
      "GUJARATI :  રાજેશ\n"
     ]
    }
   ],
   "source": [
    "data = 'raajesha'\n",
    "print('MALAYALAM : ',transliterate(data, sanscript.ITRANS, sanscript.MALAYALAM))\n",
    "print('DEVANAGARI : ',transliterate(data, sanscript.ITRANS, sanscript.DEVANAGARI))\n",
    "print('ORIYA : ',transliterate(data, sanscript.ITRANS, sanscript.ORIYA))\n",
    "print('BENGALI : ',transliterate(data, sanscript.ITRANS, sanscript.BENGALI))\n",
    "print('GUJARATI : ',transliterate(data, sanscript.ITRANS, sanscript.GUJARATI))\n",
    "\n",
    "\n"
   ]
  }
 ],
 "metadata": {
  "kernelspec": {
   "display_name": ".env",
   "language": "python",
   "name": "python3"
  },
  "language_info": {
   "codemirror_mode": {
    "name": "ipython",
    "version": 3
   },
   "file_extension": ".py",
   "mimetype": "text/x-python",
   "name": "python",
   "nbconvert_exporter": "python",
   "pygments_lexer": "ipython3",
   "version": "3.12.5"
  }
 },
 "nbformat": 4,
 "nbformat_minor": 2
}
