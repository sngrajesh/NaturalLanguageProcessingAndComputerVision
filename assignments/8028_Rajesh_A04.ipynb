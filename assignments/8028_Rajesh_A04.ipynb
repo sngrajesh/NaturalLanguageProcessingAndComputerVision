{
 "cells": [
  {
   "cell_type": "markdown",
   "metadata": {},
   "source": [
    "Q.1\n",
    "\n",
    "Open the wikipedia page https://en.wikipedia.org/wiki/Saturn\n",
    "* Scrap the web and find top 10 nouns from the page\n",
    "* Print all the unique verbs in their root form.\n",
    "* Extract all the `<DT><JJ><NN>` phrases from the article.\n",
    "* Summarize the text using TextRank Algorithm\n",
    "* Summarize the text using extractive summarization"
   ]
  },
  {
   "cell_type": "code",
   "execution_count": null,
   "metadata": {
    "vscode": {
     "languageId": "plaintext"
    }
   },
   "outputs": [],
   "source": []
  }
 ],
 "metadata": {
  "language_info": {
   "name": "python"
  }
 },
 "nbformat": 4,
 "nbformat_minor": 2
}
