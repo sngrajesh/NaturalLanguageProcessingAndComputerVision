{
 "cells": [
  {
   "cell_type": "markdown",
   "metadata": {},
   "source": [
    "1. \n",
    "\n",
    "Use following sentences to find the tf*idf vectorized data.\n",
    "\n",
    "* The postman delivered the package to the wrong address.\n",
    "* I wrapped a beautiful present for my friend's birthday.\n",
    "* The delivery truck arrived late due to heavy traffic.\n",
    "* We need to check the shipping address before sending the order.\n",
    "* Online shopping offers a wide variety of products with fast delivery.\n"
   ]
  },
  {
   "cell_type": "markdown",
   "metadata": {},
   "source": [
    "2. \n",
    "\n",
    "Download the file spam_messages.csv from the link below:\n",
    "\n",
    "https://mitu.co.in/dataset\n",
    "\n",
    "This file contains the collection of spam and not spam (ham) messages received in\n",
    "the mail box.\n",
    "Perform the following operations on it:\n",
    "* Read the file\n",
    "* Seperate input and output data\n",
    "* Explore the output data\n",
    "* Prepare and vectorize the data\n",
    "* Cross validate the data\n",
    "* Build the Decision Tree model for classification\n",
    "* Evaluate the performance of algorithm\n",
    "* Download the file sample.csv which contains the unknown mails. Predict the\n",
    "category of these mails."
   ]
  }
 ],
 "metadata": {
  "language_info": {
   "name": "python"
  }
 },
 "nbformat": 4,
 "nbformat_minor": 2
}
