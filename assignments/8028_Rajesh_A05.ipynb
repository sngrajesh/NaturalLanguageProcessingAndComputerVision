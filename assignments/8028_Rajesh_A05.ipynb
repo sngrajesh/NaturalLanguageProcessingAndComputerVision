{
 "cells": [
  {
   "cell_type": "markdown",
   "metadata": {},
   "source": [
    "1. \n",
    "\n",
    "Download the data from the link below using web scrapping:\n",
    "\n",
    "https://en.wikipedia.org/wiki/Mount_Everest\n",
    "\n",
    "* Find the count of Total “Mount” in the text.\n",
    "* Save the extracted plain text contents in file mount.txt in upper case.\n",
    "* Print the title of this page.\n"
   ]
  },
  {
   "cell_type": "code",
   "execution_count": null,
   "metadata": {
    "vscode": {
     "languageId": "plaintext"
    }
   },
   "outputs": [],
   "source": []
  },
  {
   "cell_type": "markdown",
   "metadata": {},
   "source": [
    "2. \n",
    "\n",
    "Read the following file\n",
    "\n",
    "https://www.london.ac.uk/sites/default/files/study-guides/introduction-to-natural-language-processing.pdf\n",
    "\n",
    "* Print only page number 12 and 13 from it.\n",
    "* Save this contents in a file nlp.txt\n"
   ]
  },
  {
   "cell_type": "markdown",
   "metadata": {},
   "source": [
    "3. \n",
    "\n",
    "Read the file from the link givcen below:\n",
    "\n",
    "https://icml.cc/Conferences/2013/wp-content/uploads/2013/06/Machine-Learning-and-Natural-Language-Processing.docx\n",
    "\n",
    "* Read and display first 5 paragraphs from it.\n",
    "* Count total ‘The’ present in the text."
   ]
  }
 ],
 "metadata": {
  "language_info": {
   "name": "python"
  }
 },
 "nbformat": 4,
 "nbformat_minor": 2
}
