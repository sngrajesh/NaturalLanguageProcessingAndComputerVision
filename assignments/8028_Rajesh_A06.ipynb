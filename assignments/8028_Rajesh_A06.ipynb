{
 "cells": [
  {
   "cell_type": "markdown",
   "metadata": {},
   "source": [
    "1. \n",
    "\n",
    "Download the data from the link below using web scrapping:\n",
    "\n",
    "https://en.wikipedia.org/wiki/Sri_Lanka\n",
    "\n",
    "Summarize the text using following summarizers\n",
    "* Text Rank Summerizer\n",
    "* Lex Rank Summarizer\n",
    "* LSA Summarizer"
   ]
  },
  {
   "cell_type": "markdown",
   "metadata": {},
   "source": [
    "\n",
    "2. \n",
    "\n",
    "Download the data from the link below using web scrapping:\n",
    "\n",
    "https://en.wikipedia.org/wiki/Sachin_Tendulkar\n",
    "\n",
    "* Apply the abstractive summarization to summarize this text."
   ]
  },
  {
   "cell_type": "markdown",
   "metadata": {},
   "source": [
    "3. \n",
    "\n",
    "Use word sense disamguiation algorithm to find the appropriate meaning of the\n",
    "highlighted word.\n",
    "\n",
    "* \"He used the key to unlock the door.\"\n",
    "   \"The answer to the problem lies in the key details.\"\n",
    "* The weight is measured on a scale weighing instrument.\n",
    "   The project is too large in scale for one person.\n",
    "* \"The knife has a very sharp blade.\"\n",
    "   \"His mind was always sharp and quick.\""
   ]
  },
  {
   "cell_type": "markdown",
   "metadata": {},
   "source": [
    "4. \n",
    "\n",
    "Use following sentences to find the bag of words using count vectorizer.\n",
    "\n",
    "* The postman delivered the package to the wrong address.\n",
    "* I wrapped a beautiful present for my friend's birthday.\n",
    "* The delivery truck arrived late due to heavy traffic.\n",
    "* We need to check the shipping address before sending the order.\n",
    "* Online shopping offers a wide variety of products with fast delivery."
   ]
  }
 ],
 "metadata": {
  "language_info": {
   "name": "python"
  }
 },
 "nbformat": 4,
 "nbformat_minor": 2
}
