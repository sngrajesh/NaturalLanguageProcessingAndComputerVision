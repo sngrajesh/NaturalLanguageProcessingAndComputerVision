{
 "cells": [
  {
   "cell_type": "markdown",
   "metadata": {},
   "source": [
    "1. \n",
    "\n",
    "Download the file research-papers.csv from the link below:\n",
    "https://mitu.co.in/dataset\n",
    "\n",
    "This file contains the collection research papers received in different categories.\n",
    "Perform the following operations on it:\n",
    "* Read the file\n",
    "* Seperate input (summary) and output data (primary category)\n",
    "* Explore the output data\n",
    "* Prepare and vectorize the data\n",
    "* Cross validate the data\n",
    "* Build the KNN model for classification with neighbors = 6\n",
    "* Evaluate the performance of algorithm\n"
   ]
  },
  {
   "cell_type": "markdown",
   "metadata": {},
   "source": [
    "2. \n",
    "\n",
    "Download the file sarcasm-clusters.txt from the link below:\n",
    "https://mitu.co.in/dataset\n",
    "\n",
    "This file contains the collection unlabeled tweets where few are sarcastic and few\n",
    "are not.\n",
    "Perform the following operations on it:\n",
    "* Read the file\n",
    "* Clean, Prepare and vectorize the data\n",
    "* Build the K-means clustering algorithm with 2 clusters.\n",
    "* Show the tweets with 0 and 1 labels respectively.\n",
    "* Find and print sarcastic and non-sarcastic tweet’s top 10 words each."
   ]
  }
 ],
 "metadata": {
  "language_info": {
   "name": "python"
  }
 },
 "nbformat": 4,
 "nbformat_minor": 2
}
