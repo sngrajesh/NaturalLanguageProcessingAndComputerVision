{
 "cells": [
  {
   "cell_type": "markdown",
   "metadata": {},
   "source": [
    "Q.1\n",
    "*  Read a word from user and print all meanings of it.\n",
    "*  Read a word from user and print all noun meanings of it.\n"
   ]
  },
  {
   "cell_type": "code",
   "execution_count": null,
   "metadata": {
    "vscode": {
     "languageId": "plaintext"
    }
   },
   "outputs": [],
   "source": []
  },
  {
   "cell_type": "markdown",
   "metadata": {},
   "source": [
    "Q.2\n",
    "\n",
    "Open the wikipedia page https://en.wikipedia.org/wiki/Maharashtra\n",
    "*  Apply chuncking and show the chunks of type <VBD><DT>\n",
    "*  Find all the named entities present in article\n",
    "*  Access all the verbs and apply the porter stemmer and lancaster stemmer\n",
    "*  Access all the verbs in past tense and lemmatize them. Show only unique verbs.\n",
    "*  Read only the adjectives from the text and find their synonyms.\n",
    "*  Read all the verbs and print their antonyms.\n",
    "*  Print all the entities marked as DATE and TIME in the data\n",
    "*  Print all the named of locations present in the article."
   ]
  }
 ],
 "metadata": {
  "language_info": {
   "name": "python"
  }
 },
 "nbformat": 4,
 "nbformat_minor": 2
}
