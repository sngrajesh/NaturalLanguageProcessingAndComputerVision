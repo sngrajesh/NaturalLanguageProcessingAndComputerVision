{
 "cells": [
  {
   "cell_type": "markdown",
   "metadata": {},
   "source": [
    "<div style=\"\n",
    "    background: linear-gradient(90deg,rgb(251, 255, 10), #ff758c, #ff4d6d);\n",
    "    -webkit-background-clip: text;\n",
    "    -webkit-text-fill-color: transparent;\n",
    "    font-size: 20px;\n",
    "    font-weight: bold;\n",
    "    text-align: center;\">\n",
    "    Anaphora Resolution\n",
    "</div>\n"
   ]
  },
  {
   "cell_type": "markdown",
   "metadata": {},
   "source": [
    "\n",
    "* Anaphora Resolution == the problem of resolving what a pronoun, or a noun phrase refers to.\n",
    "\n",
    "* In the following example, 1) and 2) are utterances, and together, they form a discourse.\n",
    "\n",
    "*  John helped Mary. He was kinda. As humans, readers and listeners can quickly and unconsciously work out that the pronoun \"he\" in utterance 2 refers to \"John\" in 1). The underlying process of how this is done is yet unclear, especially because it involves a combination of syntactic, semantic, and pragmatic factors that are not always explicitly encoded in language. While humans can resolve such references almost instantaneously, machines struggle with anaphora resolution due to the complex interplay of context, world knowledge, and discourse structure. For example, the pronoun \"he\" could theoretically refer to either \"John\" or \"Mary,\" depending on further context or world knowledge, such as prior discourse on their personalities or actions.\n"
   ]
  },
  {
   "cell_type": "markdown",
   "metadata": {},
   "source": [
    "<div style=\"\n",
    "    background: linear-gradient(90deg,rgb(251, 255, 10), #ff758c, #ff4d6d);\n",
    "    -webkit-background-clip: text;\n",
    "    -webkit-text-fill-color: transparent;\n",
    "    font-size: 20px;\n",
    "    font-weight: bold;\n",
    "    text-align: center;\">\n",
    "    Pragmaitic Analysis\n",
    "</div>\n"
   ]
  },
  {
   "cell_type": "markdown",
   "metadata": {},
   "source": [
    "* The last phase of natural language processing is Pragmatic analysis. Sometimes, the discource integration phase and pragmatic analysis phase are combined.\n",
    "\n",
    "* The actual effect of the text is discovered by applying the set of rules that characterize cooperative dialogs.\n"
   ]
  },
  {
   "cell_type": "markdown",
   "metadata": {},
   "source": [
    "<div style=\"\n",
    "    background: linear-gradient(90deg,rgb(251, 255, 10), #ff758c, #ff4d6d);\n",
    "    -webkit-background-clip: text;\n",
    "    -webkit-text-fill-color: transparent;\n",
    "    font-size: 20px;\n",
    "    font-weight: bold;\n",
    "    text-align: center;\">\n",
    "    Ontology\n",
    "</div>\n"
   ]
  },
  {
   "cell_type": "markdown",
   "metadata": {},
   "source": [
    "* It refers to a formal representation of domains knowledge, includingthe concepts, relationships, and axions that defined that domain.\n",
    "* It acts as structured vocabulary that allows computers o understand the maasning of words and sentences more accurately."
   ]
  }
 ],
 "metadata": {
  "kernelspec": {
   "display_name": ".nlpcv",
   "language": "python",
   "name": "python3"
  },
  "language_info": {
   "codemirror_mode": {
    "name": "ipython",
    "version": 3
   },
   "file_extension": ".py",
   "mimetype": "text/x-python",
   "name": "python",
   "nbconvert_exporter": "python",
   "pygments_lexer": "ipython3",
   "version": "3.8.5"
  }
 },
 "nbformat": 4,
 "nbformat_minor": 2
}
