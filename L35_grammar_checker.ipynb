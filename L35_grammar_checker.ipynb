{
 "cells": [
  {
   "cell_type": "markdown",
   "metadata": {},
   "source": [
    "<div style=\"\n",
    "    background: linear-gradient(90deg,rgb(251, 255, 10), #ff758c, #ff4d6d);\n",
    "    -webkit-background-clip: text;\n",
    "    -webkit-text-fill-color: transparent;\n",
    "    font-size: 20px;\n",
    "    font-weight: bold;\n",
    "    text-align: center;\">\n",
    "    Grammar Checker\n",
    "</div>\n",
    "\n"
   ]
  },
  {
   "cell_type": "code",
   "execution_count": 1,
   "metadata": {},
   "outputs": [
    {
     "name": "stdout",
     "output_type": "stream",
     "text": [
      "Collecting language_tool_python\n",
      "  Downloading language_tool_python-2.8.1-py3-none-any.whl.metadata (12 kB)\n",
      "Requirement already satisfied: pip in e:\\naturallanguageprocessingandcomputervision\\.env\\lib\\site-packages (from language_tool_python) (24.3.1)\n",
      "Requirement already satisfied: requests in e:\\naturallanguageprocessingandcomputervision\\.env\\lib\\site-packages (from language_tool_python) (2.32.3)\n",
      "Requirement already satisfied: tqdm in e:\\naturallanguageprocessingandcomputervision\\.env\\lib\\site-packages (from language_tool_python) (4.67.1)\n",
      "Requirement already satisfied: wheel in e:\\naturallanguageprocessingandcomputervision\\.env\\lib\\site-packages (from language_tool_python) (0.45.1)\n",
      "Requirement already satisfied: charset-normalizer<4,>=2 in e:\\naturallanguageprocessingandcomputervision\\.env\\lib\\site-packages (from requests->language_tool_python) (3.4.0)\n",
      "Requirement already satisfied: idna<4,>=2.5 in e:\\naturallanguageprocessingandcomputervision\\.env\\lib\\site-packages (from requests->language_tool_python) (2.10)\n",
      "Requirement already satisfied: urllib3<3,>=1.21.1 in e:\\naturallanguageprocessingandcomputervision\\.env\\lib\\site-packages (from requests->language_tool_python) (2.2.3)\n",
      "Requirement already satisfied: certifi>=2017.4.17 in e:\\naturallanguageprocessingandcomputervision\\.env\\lib\\site-packages (from requests->language_tool_python) (2024.8.30)\n",
      "Requirement already satisfied: colorama in e:\\naturallanguageprocessingandcomputervision\\.env\\lib\\site-packages (from tqdm->language_tool_python) (0.4.6)\n",
      "Downloading language_tool_python-2.8.1-py3-none-any.whl (35 kB)\n",
      "Installing collected packages: language_tool_python\n",
      "Successfully installed language_tool_python-2.8.1\n"
     ]
    }
   ],
   "source": [
    "!pip install language_tool_python"
   ]
  },
  {
   "cell_type": "code",
   "execution_count": 1,
   "metadata": {},
   "outputs": [],
   "source": [
    "import nltk\n",
    "import language_tool_python"
   ]
  },
  {
   "cell_type": "code",
   "execution_count": 4,
   "metadata": {},
   "outputs": [
    {
     "name": "stderr",
     "output_type": "stream",
     "text": [
      "Downloading LanguageTool 6.4: 100%|██████████| 246M/246M [00:05<00:00, 41.9MB/s] \n",
      "Unzipping C:\\Users\\DAI~1.STU\\AppData\\Local\\Temp\\tmp_q4gpurv.zip to C:\\Users\\DAI.STUDENTSDC\\.cache\\language_tool_python.\n",
      "Downloaded https://www.languagetool.org/download/LanguageTool-6.4.zip to C:\\Users\\DAI.STUDENTSDC\\.cache\\language_tool_python.\n"
     ]
    }
   ],
   "source": [
    "my_tool = language_tool_python.LanguageTool('en-US') "
   ]
  },
  {
   "cell_type": "code",
   "execution_count": 21,
   "metadata": {},
   "outputs": [],
   "source": [
    "text1 = \"The quick brown fox jumps over the lazy dog.\"\n",
    "text2 = 'He have collected a documents. I is there.'"
   ]
  },
  {
   "cell_type": "code",
   "execution_count": 22,
   "metadata": {},
   "outputs": [
    {
     "data": {
      "text/plain": [
       "[]"
      ]
     },
     "execution_count": 22,
     "metadata": {},
     "output_type": "execute_result"
    }
   ],
   "source": [
    "matches = my_tool.check(text1)\n",
    "matches"
   ]
  },
  {
   "cell_type": "code",
   "execution_count": 23,
   "metadata": {},
   "outputs": [
    {
     "name": "stdout",
     "output_type": "stream",
     "text": [
      "Number of matches: 3\n",
      "\n",
      "Offset 3, length 4, Rule ID: HE_VERB_AGR\n",
      "Message: The pronoun ‘He’ is usually used with a third-person or a past tense verb.\n",
      "Suggestion: has; had\n",
      "He have collected a documents. I is there.\n",
      "   ^^^^\n",
      "Offset 18, length 11, Rule ID: A_NNS\n",
      "Message: The plural noun “documents” cannot be used with the article “a”. Did you mean “a document” or “documents”?\n",
      "Suggestion: a document; documents\n",
      "He have collected a documents. I is there.\n",
      "                  ^^^^^^^^^^^\n",
      "Offset 33, length 2, Rule ID: PERS_PRONOUN_AGREEMENT\n",
      "Message: Did you mean “am” or “will be”?\n",
      "Suggestion: am; will be\n",
      "He have collected a documents. I is there.\n",
      "                                 ^^\n"
     ]
    }
   ],
   "source": [
    "matches = my_tool.check(text2)\n",
    "print('Number of matches:', len(matches), end='\\n\\n')\n",
    "for match in matches:\n",
    "    print(match)"
   ]
  },
  {
   "cell_type": "code",
   "execution_count": 24,
   "metadata": {},
   "outputs": [
    {
     "data": {
      "text/plain": [
       "'He has collected a document. I am there.'"
      ]
     },
     "execution_count": 24,
     "metadata": {},
     "output_type": "execute_result"
    }
   ],
   "source": [
    "my_tool.correct(text2)"
   ]
  }
 ],
 "metadata": {
  "kernelspec": {
   "display_name": ".env",
   "language": "python",
   "name": "python3"
  },
  "language_info": {
   "codemirror_mode": {
    "name": "ipython",
    "version": 3
   },
   "file_extension": ".py",
   "mimetype": "text/x-python",
   "name": "python",
   "nbconvert_exporter": "python",
   "pygments_lexer": "ipython3",
   "version": "3.12.5"
  }
 },
 "nbformat": 4,
 "nbformat_minor": 2
}
